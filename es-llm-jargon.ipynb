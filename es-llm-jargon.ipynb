{
 "cells": [
  {
   "cell_type": "code",
   "execution_count": 1,
   "id": "83f317f7",
   "metadata": {
    "_cell_guid": "b1076dfc-b9ad-4769-8c92-a6c4dae69d19",
    "_uuid": "8f2839f25d086af736a60e9eeb907d3b93b6e0e5",
    "execution": {
     "iopub.execute_input": "2024-04-06T11:01:47.449572Z",
     "iopub.status.busy": "2024-04-06T11:01:47.449162Z",
     "iopub.status.idle": "2024-04-06T11:01:48.428278Z",
     "shell.execute_reply": "2024-04-06T11:01:48.427198Z"
    },
    "papermill": {
     "duration": 0.988019,
     "end_time": "2024-04-06T11:01:48.431040",
     "exception": false,
     "start_time": "2024-04-06T11:01:47.443021",
     "status": "completed"
    },
    "tags": []
   },
   "outputs": [],
   "source": [
    "import numpy as np # linear algebra\n",
    "import pandas as pd # data processing, CSV file I/O (e.g. pd.read_csv)\n",
    "\n",
    "\n",
    "import os\n",
    "for dirname, _, filenames in os.walk('/kaggle/input'):\n",
    "    for filename in filenames:\n",
    "        print(os.path.join(dirname, filename))\n"
   ]
  },
  {
   "cell_type": "code",
   "execution_count": 2,
   "id": "059f4ecb",
   "metadata": {
    "execution": {
     "iopub.execute_input": "2024-04-06T11:01:48.440194Z",
     "iopub.status.busy": "2024-04-06T11:01:48.439698Z",
     "iopub.status.idle": "2024-04-06T11:02:04.188861Z",
     "shell.execute_reply": "2024-04-06T11:02:04.187575Z"
    },
    "papermill": {
     "duration": 15.75682,
     "end_time": "2024-04-06T11:02:04.191689",
     "exception": false,
     "start_time": "2024-04-06T11:01:48.434869",
     "status": "completed"
    },
    "tags": []
   },
   "outputs": [
    {
     "name": "stdout",
     "output_type": "stream",
     "text": [
      "Collecting openai\r\n",
      "  Downloading openai-1.16.2-py3-none-any.whl.metadata (21 kB)\r\n",
      "Requirement already satisfied: anyio<5,>=3.5.0 in /opt/conda/lib/python3.10/site-packages (from openai) (4.2.0)\r\n",
      "Requirement already satisfied: distro<2,>=1.7.0 in /opt/conda/lib/python3.10/site-packages (from openai) (1.9.0)\r\n",
      "Requirement already satisfied: httpx<1,>=0.23.0 in /opt/conda/lib/python3.10/site-packages (from openai) (0.27.0)\r\n",
      "Requirement already satisfied: pydantic<3,>=1.9.0 in /opt/conda/lib/python3.10/site-packages (from openai) (2.5.3)\r\n",
      "Requirement already satisfied: sniffio in /opt/conda/lib/python3.10/site-packages (from openai) (1.3.0)\r\n",
      "Requirement already satisfied: tqdm>4 in /opt/conda/lib/python3.10/site-packages (from openai) (4.66.1)\r\n",
      "Requirement already satisfied: typing-extensions<5,>=4.7 in /opt/conda/lib/python3.10/site-packages (from openai) (4.9.0)\r\n",
      "Requirement already satisfied: idna>=2.8 in /opt/conda/lib/python3.10/site-packages (from anyio<5,>=3.5.0->openai) (3.6)\r\n",
      "Requirement already satisfied: exceptiongroup>=1.0.2 in /opt/conda/lib/python3.10/site-packages (from anyio<5,>=3.5.0->openai) (1.2.0)\r\n",
      "Requirement already satisfied: certifi in /opt/conda/lib/python3.10/site-packages (from httpx<1,>=0.23.0->openai) (2024.2.2)\r\n",
      "Requirement already satisfied: httpcore==1.* in /opt/conda/lib/python3.10/site-packages (from httpx<1,>=0.23.0->openai) (1.0.4)\r\n",
      "Requirement already satisfied: h11<0.15,>=0.13 in /opt/conda/lib/python3.10/site-packages (from httpcore==1.*->httpx<1,>=0.23.0->openai) (0.14.0)\r\n",
      "Requirement already satisfied: annotated-types>=0.4.0 in /opt/conda/lib/python3.10/site-packages (from pydantic<3,>=1.9.0->openai) (0.6.0)\r\n",
      "Requirement already satisfied: pydantic-core==2.14.6 in /opt/conda/lib/python3.10/site-packages (from pydantic<3,>=1.9.0->openai) (2.14.6)\r\n",
      "Downloading openai-1.16.2-py3-none-any.whl (267 kB)\r\n",
      "\u001b[2K   \u001b[90m━━━━━━━━━━━━━━━━━━━━━━━━━━━━━━━━━━━━━━━━\u001b[0m \u001b[32m267.1/267.1 kB\u001b[0m \u001b[31m4.6 MB/s\u001b[0m eta \u001b[36m0:00:00\u001b[0m\r\n",
      "\u001b[?25hInstalling collected packages: openai\r\n",
      "Successfully installed openai-1.16.2\r\n"
     ]
    }
   ],
   "source": [
    "try:\n",
    "    import openai\n",
    "except:\n",
    "    !pip install openai\n",
    "    import openai\n"
   ]
  },
  {
   "cell_type": "code",
   "execution_count": 3,
   "id": "fd0db4f4",
   "metadata": {
    "execution": {
     "iopub.execute_input": "2024-04-06T11:02:04.201720Z",
     "iopub.status.busy": "2024-04-06T11:02:04.201353Z",
     "iopub.status.idle": "2024-04-06T11:02:04.206563Z",
     "shell.execute_reply": "2024-04-06T11:02:04.205696Z"
    },
    "papermill": {
     "duration": 0.013167,
     "end_time": "2024-04-06T11:02:04.208885",
     "exception": false,
     "start_time": "2024-04-06T11:02:04.195718",
     "status": "completed"
    },
    "tags": []
   },
   "outputs": [],
   "source": [
    "os.environ[\"OPENAI_API_KEY\"] = \"REDACTED\"  #api_key for ChatGPT LLM\n"
   ]
  },
  {
   "cell_type": "code",
   "execution_count": 4,
   "id": "4c0c3e84",
   "metadata": {
    "execution": {
     "iopub.execute_input": "2024-04-06T11:02:04.218949Z",
     "iopub.status.busy": "2024-04-06T11:02:04.218546Z",
     "iopub.status.idle": "2024-04-06T11:02:04.223223Z",
     "shell.execute_reply": "2024-04-06T11:02:04.222483Z"
    },
    "papermill": {
     "duration": 0.01245,
     "end_time": "2024-04-06T11:02:04.225523",
     "exception": false,
     "start_time": "2024-04-06T11:02:04.213073",
     "status": "completed"
    },
    "tags": []
   },
   "outputs": [
    {
     "name": "stdout",
     "output_type": "stream",
     "text": [
      "Got to here\n"
     ]
    }
   ],
   "source": [
    "print (\"Got to here\")"
   ]
  },
  {
   "cell_type": "code",
   "execution_count": 5,
   "id": "3c016f9b",
   "metadata": {
    "execution": {
     "iopub.execute_input": "2024-04-06T11:02:04.235577Z",
     "iopub.status.busy": "2024-04-06T11:02:04.235145Z",
     "iopub.status.idle": "2024-04-06T11:02:04.239844Z",
     "shell.execute_reply": "2024-04-06T11:02:04.238665Z"
    },
    "papermill": {
     "duration": 0.012611,
     "end_time": "2024-04-06T11:02:04.242161",
     "exception": false,
     "start_time": "2024-04-06T11:02:04.229550",
     "status": "completed"
    },
    "tags": []
   },
   "outputs": [],
   "source": [
    "# Query the model\n",
    "#repsonse = openai.completions.create(\n",
    "#  model=\"gpt-3.5-turbo-instruct\",\n",
    "#  prompt=\"Closest words to 'religion':\",\n",
    "#  max_tokens=50,\n",
    "#  stop=\"\\n\"\n",
    "#)\n",
    "\n",
    "# Print the response\n",
    "#print(response.choices[0].text.strip())"
   ]
  },
  {
   "cell_type": "code",
   "execution_count": 6,
   "id": "311ef38a",
   "metadata": {
    "execution": {
     "iopub.execute_input": "2024-04-06T11:02:04.251935Z",
     "iopub.status.busy": "2024-04-06T11:02:04.251545Z",
     "iopub.status.idle": "2024-04-06T11:02:04.256257Z",
     "shell.execute_reply": "2024-04-06T11:02:04.255142Z"
    },
    "papermill": {
     "duration": 0.012407,
     "end_time": "2024-04-06T11:02:04.258654",
     "exception": false,
     "start_time": "2024-04-06T11:02:04.246247",
     "status": "completed"
    },
    "tags": []
   },
   "outputs": [],
   "source": [
    "#print(response) #.choices[0].text.strip())"
   ]
  },
  {
   "cell_type": "code",
   "execution_count": 7,
   "id": "89959865",
   "metadata": {
    "execution": {
     "iopub.execute_input": "2024-04-06T11:02:04.269191Z",
     "iopub.status.busy": "2024-04-06T11:02:04.268184Z",
     "iopub.status.idle": "2024-04-06T11:02:04.273899Z",
     "shell.execute_reply": "2024-04-06T11:02:04.272668Z"
    },
    "papermill": {
     "duration": 0.013061,
     "end_time": "2024-04-06T11:02:04.275868",
     "exception": false,
     "start_time": "2024-04-06T11:02:04.262807",
     "status": "completed"
    },
    "tags": []
   },
   "outputs": [
    {
     "name": "stdout",
     "output_type": "stream",
     "text": [
      "Got to here too\n"
     ]
    }
   ],
   "source": [
    "print (\"Got to here too\")"
   ]
  },
  {
   "cell_type": "code",
   "execution_count": 8,
   "id": "867cf2d5",
   "metadata": {
    "execution": {
     "iopub.execute_input": "2024-04-06T11:02:04.286580Z",
     "iopub.status.busy": "2024-04-06T11:02:04.286184Z",
     "iopub.status.idle": "2024-04-06T11:02:04.291685Z",
     "shell.execute_reply": "2024-04-06T11:02:04.290428Z"
    },
    "papermill": {
     "duration": 0.013846,
     "end_time": "2024-04-06T11:02:04.293896",
     "exception": false,
     "start_time": "2024-04-06T11:02:04.280050",
     "status": "completed"
    },
    "tags": []
   },
   "outputs": [],
   "source": [
    "def jaccard_similarity(list1, list2):\n",
    "    set1 = set(list1)\n",
    "    set2 = set(list2)\n",
    "    intersection = len(set1.intersection(set2))\n",
    "    union = len(set1.union(set2))\n",
    "    print (set2-set1)   # the words in list2 that do not exist in list1\n",
    "    return intersection / union\n",
    "    #print (set2-set1)"
   ]
  },
  {
   "cell_type": "code",
   "execution_count": 9,
   "id": "64c6b626",
   "metadata": {
    "execution": {
     "iopub.execute_input": "2024-04-06T11:02:04.303950Z",
     "iopub.status.busy": "2024-04-06T11:02:04.303271Z",
     "iopub.status.idle": "2024-04-06T11:02:04.308887Z",
     "shell.execute_reply": "2024-04-06T11:02:04.307699Z"
    },
    "papermill": {
     "duration": 0.013348,
     "end_time": "2024-04-06T11:02:04.311314",
     "exception": false,
     "start_time": "2024-04-06T11:02:04.297966",
     "status": "completed"
    },
    "tags": []
   },
   "outputs": [],
   "source": [
    "word2vec_list = [\"Office of the registrar\", \"university records office\", \"student registration office\", \"Dean's office\", \"Admissions office\", \"students records office\", \"academic office\", \"enrolment office\", \"academic affairs office\", \"education office\"]\n",
    "llm_list = [\"Office of the registrar\", \"Bizarre\", \"education office\"]\n"
   ]
  },
  {
   "cell_type": "code",
   "execution_count": 10,
   "id": "9a7e4a1d",
   "metadata": {
    "execution": {
     "iopub.execute_input": "2024-04-06T11:02:04.322208Z",
     "iopub.status.busy": "2024-04-06T11:02:04.321177Z",
     "iopub.status.idle": "2024-04-06T11:02:04.330626Z",
     "shell.execute_reply": "2024-04-06T11:02:04.329437Z"
    },
    "papermill": {
     "duration": 0.017296,
     "end_time": "2024-04-06T11:02:04.333056",
     "exception": false,
     "start_time": "2024-04-06T11:02:04.315760",
     "status": "completed"
    },
    "tags": []
   },
   "outputs": [
    {
     "name": "stdout",
     "output_type": "stream",
     "text": [
      "{'Bizarre'}\n"
     ]
    },
    {
     "data": {
      "text/plain": [
       "0.18181818181818182"
      ]
     },
     "execution_count": 10,
     "metadata": {},
     "output_type": "execute_result"
    }
   ],
   "source": [
    "jaccard_similarity(word2vec_list,llm_list)"
   ]
  }
 ],
 "metadata": {
  "kaggle": {
   "accelerator": "none",
   "dataSources": [],
   "dockerImageVersionId": 30673,
   "isGpuEnabled": false,
   "isInternetEnabled": true,
   "language": "python",
   "sourceType": "notebook"
  },
  "kernelspec": {
   "display_name": "Python 3",
   "language": "python",
   "name": "python3"
  },
  "language_info": {
   "codemirror_mode": {
    "name": "ipython",
    "version": 3
   },
   "file_extension": ".py",
   "mimetype": "text/x-python",
   "name": "python",
   "nbconvert_exporter": "python",
   "pygments_lexer": "ipython3",
   "version": "3.10.13"
  },
  "papermill": {
   "default_parameters": {},
   "duration": 20.63047,
   "end_time": "2024-04-06T11:02:04.958896",
   "environment_variables": {},
   "exception": null,
   "input_path": "__notebook__.ipynb",
   "output_path": "__notebook__.ipynb",
   "parameters": {},
   "start_time": "2024-04-06T11:01:44.328426",
   "version": "2.5.0"
  }
 },
 "nbformat": 4,
 "nbformat_minor": 5
}
