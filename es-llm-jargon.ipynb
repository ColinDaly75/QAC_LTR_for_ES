{
 "cells": [
  {
   "cell_type": "markdown",
   "id": "033fd312",
   "metadata": {
    "papermill": {
     "duration": 0.006582,
     "end_time": "2024-04-29T10:38:15.625187",
     "exception": false,
     "start_time": "2024-04-29T10:38:15.618605",
     "status": "completed"
    },
    "tags": []
   },
   "source": [
    "# **QACES feature for jargon detection in Enterprise Search.**\n"
   ]
  },
  {
   "cell_type": "markdown",
   "id": "501583ad",
   "metadata": {
    "papermill": {
     "duration": 0.006103,
     "end_time": "2024-04-29T10:38:15.637341",
     "exception": false,
     "start_time": "2024-04-29T10:38:15.631238",
     "status": "completed"
    },
    "tags": []
   },
   "source": [
    "* [Introduction to Jargon and Enterprises](#Introduction)\n",
    "* [Loading the QAC history log file](#Loading)\n",
    "* [Top 65 Queries](#Top65)\n",
    "* [GPT-4 Synonyms](#GPT-4)\n",
    "* [LLM Synonums](#Average)\n",
    "* [Jargon detection](#Jangon)\n",
    "* [Jargony](#Jargony)\n",
    "* [LTR feature](#LTR)\n",
    "* [Repeatability](#Verification)\n",
    "* [References](#References)"
   ]
  },
  {
   "cell_type": "markdown",
   "id": "ed53c87e",
   "metadata": {
    "papermill": {
     "duration": 0.005744,
     "end_time": "2024-04-29T10:38:15.649177",
     "exception": false,
     "start_time": "2024-04-29T10:38:15.643433",
     "status": "completed"
    },
    "tags": []
   },
   "source": [
    "# **Introduction to Jargon and Enterprises**  <a class=\"anchor\"  id=\"Introduction\"></a>\n",
    "Enterprise Search (ES) can be simply defined as finding the information needed from within an organisation.   As illustrated below, ES is a federated store of workplace information with data gathered from multiple sources, such as intranets, document management systems,\n",
    "e-mail and social media and may also include the organisation’s external-facing HTTP web servers(Kraswell et al, 2005).\n",
    "\n",
    "Query auto-completion (QAC) is of particular importance to the field of Enterprise Search, where query suggestions can steer searchers to use the appropriate organisational jargon/terminology and avoid submitting\n",
    "queries that produce no results.\n",
    "\n",
    "Excessive use of jargon and terminology in organisations is often perceived as exclusionary. We use the\n",
    "terms here in a positive context for efficiently conveying complex ideas, processes, or services among\n",
    "employees/members who share common knowledge of the enterprise. In this context, jargon and terminology facilitate effective communication. The challenge of deciphering enterprise jargon/terminology within a\n",
    "corpus lends itself to the fields of natural language processing (NLP) and large language models (LLM)."
   ]
  },
  {
   "cell_type": "code",
   "execution_count": 1,
   "id": "ebf2112a",
   "metadata": {
    "execution": {
     "iopub.execute_input": "2024-04-29T10:38:15.662959Z",
     "iopub.status.busy": "2024-04-29T10:38:15.662589Z",
     "iopub.status.idle": "2024-04-29T10:38:15.672857Z",
     "shell.execute_reply": "2024-04-29T10:38:15.672039Z"
    },
    "papermill": {
     "duration": 0.019603,
     "end_time": "2024-04-29T10:38:15.674827",
     "exception": false,
     "start_time": "2024-04-29T10:38:15.655224",
     "status": "completed"
    },
    "tags": []
   },
   "outputs": [],
   "source": [
    "DEBUG='FALSE'\n",
    "USE_CACHED_GPT_RESULTS='TRUE'"
   ]
  },
  {
   "cell_type": "code",
   "execution_count": 2,
   "id": "198a38f1",
   "metadata": {
    "_cell_guid": "b1076dfc-b9ad-4769-8c92-a6c4dae69d19",
    "_uuid": "8f2839f25d086af736a60e9eeb907d3b93b6e0e5",
    "execution": {
     "iopub.execute_input": "2024-04-29T10:38:15.688388Z",
     "iopub.status.busy": "2024-04-29T10:38:15.688081Z",
     "iopub.status.idle": "2024-04-29T10:38:16.532977Z",
     "shell.execute_reply": "2024-04-29T10:38:16.532128Z"
    },
    "papermill": {
     "duration": 0.85432,
     "end_time": "2024-04-29T10:38:16.535401",
     "exception": false,
     "start_time": "2024-04-29T10:38:15.681081",
     "status": "completed"
    },
    "tags": []
   },
   "outputs": [],
   "source": [
    "import numpy as np \n",
    "import pandas as pd \n",
    "import os"
   ]
  },
  {
   "cell_type": "markdown",
   "id": "0df5ee51",
   "metadata": {
    "papermill": {
     "duration": 0.005957,
     "end_time": "2024-04-29T10:38:16.547591",
     "exception": false,
     "start_time": "2024-04-29T10:38:16.541634",
     "status": "completed"
    },
    "tags": []
   },
   "source": [
    "# **Loading the QAC history logfile**  <a class=\"anchor\"  id=\"Loading\"></a>"
   ]
  },
  {
   "cell_type": "code",
   "execution_count": 3,
   "id": "20f26689",
   "metadata": {
    "execution": {
     "iopub.execute_input": "2024-04-29T10:38:16.561636Z",
     "iopub.status.busy": "2024-04-29T10:38:16.561170Z",
     "iopub.status.idle": "2024-04-29T10:38:16.574562Z",
     "shell.execute_reply": "2024-04-29T10:38:16.573449Z"
    },
    "papermill": {
     "duration": 0.022776,
     "end_time": "2024-04-29T10:38:16.576467",
     "exception": false,
     "start_time": "2024-04-29T10:38:16.553691",
     "status": "completed"
    },
    "tags": []
   },
   "outputs": [
    {
     "name": "stdout",
     "output_type": "stream",
     "text": [
      "/kaggle/input/es-query-history/ws-query-history-v25.txt\n",
      "/kaggle/input/es-query-history/es-query-history-v25.txt\n",
      "/kaggle/input/tcd-nlp-synonyms/cluster_synonyms3000.txt\n",
      "/kaggle/input/hidden-abc/abc.env\n"
     ]
    }
   ],
   "source": [
    "for dirname, _, filenames in os.walk('/kaggle/input'):\n",
    "    for filename in filenames:\n",
    "        print(os.path.join(dirname, filename))"
   ]
  },
  {
   "cell_type": "code",
   "execution_count": 4,
   "id": "74db18c3",
   "metadata": {
    "execution": {
     "iopub.execute_input": "2024-04-29T10:38:16.590565Z",
     "iopub.status.busy": "2024-04-29T10:38:16.590169Z",
     "iopub.status.idle": "2024-04-29T10:38:16.668559Z",
     "shell.execute_reply": "2024-04-29T10:38:16.667678Z"
    },
    "papermill": {
     "duration": 0.088506,
     "end_time": "2024-04-29T10:38:16.671258",
     "exception": false,
     "start_time": "2024-04-29T10:38:16.582752",
     "status": "completed"
    },
    "tags": []
   },
   "outputs": [],
   "source": [
    "# import the ES two-column query history \n",
    "query_history_file=\"/kaggle/input/es-query-history/es-query-history-v25.txt\"\n",
    "column_names = ['queries', 'volume']\n",
    "es_df = pd.read_csv(\n",
    "    query_history_file,\n",
    "    sep =\"\\t\",\n",
    "    names=column_names,\n",
    "    header=None\n",
    ")\n",
    "\n",
    "# add a counter column\n",
    "initial_value = 1\n",
    "es_df['counter'] = range(initial_value, len(es_df) +initial_value)"
   ]
  },
  {
   "cell_type": "markdown",
   "id": "fa9ae628",
   "metadata": {
    "papermill": {
     "duration": 0.005999,
     "end_time": "2024-04-29T10:38:16.683562",
     "exception": false,
     "start_time": "2024-04-29T10:38:16.677563",
     "status": "completed"
    },
    "tags": []
   },
   "source": [
    "# **Top 65 Queries**  <a class=\"anchor\"  id=\"Top65\"></a>"
   ]
  },
  {
   "cell_type": "code",
   "execution_count": 5,
   "id": "9b167918",
   "metadata": {
    "execution": {
     "iopub.execute_input": "2024-04-29T10:38:16.697578Z",
     "iopub.status.busy": "2024-04-29T10:38:16.696993Z",
     "iopub.status.idle": "2024-04-29T10:38:16.701411Z",
     "shell.execute_reply": "2024-04-29T10:38:16.700715Z"
    },
    "papermill": {
     "duration": 0.013494,
     "end_time": "2024-04-29T10:38:16.703228",
     "exception": false,
     "start_time": "2024-04-29T10:38:16.689734",
     "status": "completed"
    },
    "tags": []
   },
   "outputs": [],
   "source": [
    "# Truncate to use just top 65 queries \n",
    "# Without this truncation, the long tail will be excessively right-skewed\n",
    "es_df = es_df.head(65)"
   ]
  },
  {
   "cell_type": "code",
   "execution_count": 6,
   "id": "44ed7744",
   "metadata": {
    "execution": {
     "iopub.execute_input": "2024-04-29T10:38:16.717916Z",
     "iopub.status.busy": "2024-04-29T10:38:16.717329Z",
     "iopub.status.idle": "2024-04-29T10:38:16.810139Z",
     "shell.execute_reply": "2024-04-29T10:38:16.809256Z"
    },
    "papermill": {
     "duration": 0.10283,
     "end_time": "2024-04-29T10:38:16.812231",
     "exception": false,
     "start_time": "2024-04-29T10:38:16.709401",
     "status": "completed"
    },
    "tags": []
   },
   "outputs": [
    {
     "data": {
      "text/html": [
       "<style type=\"text/css\">\n",
       "</style>\n",
       "<table id=\"T_28a8a\" style='display:inline'>\n",
       "  <caption><b>ES Top Query Terms</b></caption>\n",
       "  <thead>\n",
       "    <tr>\n",
       "      <th class=\"blank level0\" >&nbsp;</th>\n",
       "      <th id=\"T_28a8a_level0_col0\" class=\"col_heading level0 col0\" >queries</th>\n",
       "      <th id=\"T_28a8a_level0_col1\" class=\"col_heading level0 col1\" >volume</th>\n",
       "      <th id=\"T_28a8a_level0_col2\" class=\"col_heading level0 col2\" >counter</th>\n",
       "    </tr>\n",
       "  </thead>\n",
       "  <tbody>\n",
       "    <tr>\n",
       "      <th id=\"T_28a8a_level0_row0\" class=\"row_heading level0 row0\" >0</th>\n",
       "      <td id=\"T_28a8a_row0_col0\" class=\"data row0 col0\" >scholarship</td>\n",
       "      <td id=\"T_28a8a_row0_col1\" class=\"data row0 col1\" >2148</td>\n",
       "      <td id=\"T_28a8a_row0_col2\" class=\"data row0 col2\" >1</td>\n",
       "    </tr>\n",
       "    <tr>\n",
       "      <th id=\"T_28a8a_level0_row1\" class=\"row_heading level0 row1\" >1</th>\n",
       "      <td id=\"T_28a8a_row1_col0\" class=\"data row1 col0\" >fees</td>\n",
       "      <td id=\"T_28a8a_row1_col1\" class=\"data row1 col1\" >1941</td>\n",
       "      <td id=\"T_28a8a_row1_col2\" class=\"data row1 col2\" >2</td>\n",
       "    </tr>\n",
       "    <tr>\n",
       "      <th id=\"T_28a8a_level0_row2\" class=\"row_heading level0 row2\" >2</th>\n",
       "      <td id=\"T_28a8a_row2_col0\" class=\"data row2 col0\" >library</td>\n",
       "      <td id=\"T_28a8a_row2_col1\" class=\"data row2 col1\" >1849</td>\n",
       "      <td id=\"T_28a8a_row2_col2\" class=\"data row2 col2\" >3</td>\n",
       "    </tr>\n",
       "    <tr>\n",
       "      <th id=\"T_28a8a_level0_row3\" class=\"row_heading level0 row3\" >3</th>\n",
       "      <td id=\"T_28a8a_row3_col0\" class=\"data row3 col0\" >phd</td>\n",
       "      <td id=\"T_28a8a_row3_col1\" class=\"data row3 col1\" >1751</td>\n",
       "      <td id=\"T_28a8a_row3_col2\" class=\"data row3 col2\" >4</td>\n",
       "    </tr>\n",
       "    <tr>\n",
       "      <th id=\"T_28a8a_level0_row4\" class=\"row_heading level0 row4\" >4</th>\n",
       "      <td id=\"T_28a8a_row4_col0\" class=\"data row4 col0\" >medicine</td>\n",
       "      <td id=\"T_28a8a_row4_col1\" class=\"data row4 col1\" >1573</td>\n",
       "      <td id=\"T_28a8a_row4_col2\" class=\"data row4 col2\" >5</td>\n",
       "    </tr>\n",
       "    <tr>\n",
       "      <th id=\"T_28a8a_level0_row5\" class=\"row_heading level0 row5\" >5</th>\n",
       "      <td id=\"T_28a8a_row5_col0\" class=\"data row5 col0\" >psychology</td>\n",
       "      <td id=\"T_28a8a_row5_col1\" class=\"data row5 col1\" >1421</td>\n",
       "      <td id=\"T_28a8a_row5_col2\" class=\"data row5 col2\" >6</td>\n",
       "    </tr>\n",
       "    <tr>\n",
       "      <th id=\"T_28a8a_level0_row6\" class=\"row_heading level0 row6\" >6</th>\n",
       "      <td id=\"T_28a8a_row6_col0\" class=\"data row6 col0\" >erasmus</td>\n",
       "      <td id=\"T_28a8a_row6_col1\" class=\"data row6 col1\" >1322</td>\n",
       "      <td id=\"T_28a8a_row6_col2\" class=\"data row6 col2\" >7</td>\n",
       "    </tr>\n",
       "    <tr>\n",
       "      <th id=\"T_28a8a_level0_row7\" class=\"row_heading level0 row7\" >7</th>\n",
       "      <td id=\"T_28a8a_row7_col0\" class=\"data row7 col0\" >courses esc</td>\n",
       "      <td id=\"T_28a8a_row7_col1\" class=\"data row7 col1\" >1190</td>\n",
       "      <td id=\"T_28a8a_row7_col2\" class=\"data row7 col2\" >8</td>\n",
       "    </tr>\n",
       "    <tr>\n",
       "      <th id=\"T_28a8a_level0_row8\" class=\"row_heading level0 row8\" >8</th>\n",
       "      <td id=\"T_28a8a_row8_col0\" class=\"data row8 col0\" >vacancies</td>\n",
       "      <td id=\"T_28a8a_row8_col1\" class=\"data row8 col1\" >1153</td>\n",
       "      <td id=\"T_28a8a_row8_col2\" class=\"data row8 col2\" >9</td>\n",
       "    </tr>\n",
       "    <tr>\n",
       "      <th id=\"T_28a8a_level0_row9\" class=\"row_heading level0 row9\" >9</th>\n",
       "      <td id=\"T_28a8a_row9_col0\" class=\"data row9 col0\" >law</td>\n",
       "      <td id=\"T_28a8a_row9_col1\" class=\"data row9 col1\" >1128</td>\n",
       "      <td id=\"T_28a8a_row9_col2\" class=\"data row9 col2\" >10</td>\n",
       "    </tr>\n",
       "    <tr>\n",
       "      <th id=\"T_28a8a_level0_row10\" class=\"row_heading level0 row10\" >10</th>\n",
       "      <td id=\"T_28a8a_row10_col0\" class=\"data row10 col0\" >scholarships</td>\n",
       "      <td id=\"T_28a8a_row10_col1\" class=\"data row10 col1\" >981</td>\n",
       "      <td id=\"T_28a8a_row10_col2\" class=\"data row10 col2\" >11</td>\n",
       "    </tr>\n",
       "    <tr>\n",
       "      <th id=\"T_28a8a_level0_row11\" class=\"row_heading level0 row11\" >11</th>\n",
       "      <td id=\"T_28a8a_row11_col0\" class=\"data row11 col0\" >accommodation</td>\n",
       "      <td id=\"T_28a8a_row11_col1\" class=\"data row11 col1\" >962</td>\n",
       "      <td id=\"T_28a8a_row11_col2\" class=\"data row11 col2\" >12</td>\n",
       "    </tr>\n",
       "    <tr>\n",
       "      <th id=\"T_28a8a_level0_row12\" class=\"row_heading level0 row12\" >12</th>\n",
       "      <td id=\"T_28a8a_row12_col0\" class=\"data row12 col0\" >calendar</td>\n",
       "      <td id=\"T_28a8a_row12_col1\" class=\"data row12 col1\" >956</td>\n",
       "      <td id=\"T_28a8a_row12_col2\" class=\"data row12 col2\" >13</td>\n",
       "    </tr>\n",
       "    <tr>\n",
       "      <th id=\"T_28a8a_level0_row13\" class=\"row_heading level0 row13\" >13</th>\n",
       "      <td id=\"T_28a8a_row13_col0\" class=\"data row13 col0\" >jobs</td>\n",
       "      <td id=\"T_28a8a_row13_col1\" class=\"data row13 col1\" >919</td>\n",
       "      <td id=\"T_28a8a_row13_col2\" class=\"data row13 col2\" >14</td>\n",
       "    </tr>\n",
       "    <tr>\n",
       "      <th id=\"T_28a8a_level0_row14\" class=\"row_heading level0 row14\" >14</th>\n",
       "      <td id=\"T_28a8a_row14_col0\" class=\"data row14 col0\" >accomodation</td>\n",
       "      <td id=\"T_28a8a_row14_col1\" class=\"data row14 col1\" >909</td>\n",
       "      <td id=\"T_28a8a_row14_col2\" class=\"data row14 col2\" >15</td>\n",
       "    </tr>\n",
       "    <tr>\n",
       "      <th id=\"T_28a8a_level0_row15\" class=\"row_heading level0 row15\" >15</th>\n",
       "      <td id=\"T_28a8a_row15_col0\" class=\"data row15 col0\" >computer science</td>\n",
       "      <td id=\"T_28a8a_row15_col1\" class=\"data row15 col1\" >887</td>\n",
       "      <td id=\"T_28a8a_row15_col2\" class=\"data row15 col2\" >16</td>\n",
       "    </tr>\n",
       "    <tr>\n",
       "      <th id=\"T_28a8a_level0_row16\" class=\"row_heading level0 row16\" >16</th>\n",
       "      <td id=\"T_28a8a_row16_col0\" class=\"data row16 col0\" >accommodation contactus</td>\n",
       "      <td id=\"T_28a8a_row16_col1\" class=\"data row16 col1\" >803</td>\n",
       "      <td id=\"T_28a8a_row16_col2\" class=\"data row16 col2\" >17</td>\n",
       "    </tr>\n",
       "    <tr>\n",
       "      <th id=\"T_28a8a_level0_row17\" class=\"row_heading level0 row17\" >17</th>\n",
       "      <td id=\"T_28a8a_row17_col0\" class=\"data row17 col0\" >apply</td>\n",
       "      <td id=\"T_28a8a_row17_col1\" class=\"data row17 col1\" >765</td>\n",
       "      <td id=\"T_28a8a_row17_col2\" class=\"data row17 col2\" >18</td>\n",
       "    </tr>\n",
       "    <tr>\n",
       "      <th id=\"T_28a8a_level0_row18\" class=\"row_heading level0 row18\" >18</th>\n",
       "      <td id=\"T_28a8a_row18_col0\" class=\"data row18 col0\" >tuition</td>\n",
       "      <td id=\"T_28a8a_row18_col1\" class=\"data row18 col1\" >728</td>\n",
       "      <td id=\"T_28a8a_row18_col2\" class=\"data row18 col2\" >19</td>\n",
       "    </tr>\n",
       "    <tr>\n",
       "      <th id=\"T_28a8a_level0_row19\" class=\"row_heading level0 row19\" >19</th>\n",
       "      <td id=\"T_28a8a_row19_col0\" class=\"data row19 col0\" >accommodation studentsandstaff</td>\n",
       "      <td id=\"T_28a8a_row19_col1\" class=\"data row19 col1\" >724</td>\n",
       "      <td id=\"T_28a8a_row19_col2\" class=\"data row19 col2\" >20</td>\n",
       "    </tr>\n",
       "    <tr>\n",
       "      <th id=\"T_28a8a_level0_row20\" class=\"row_heading level0 row20\" >20</th>\n",
       "      <td id=\"T_28a8a_row20_col0\" class=\"data row20 col0\" >hr</td>\n",
       "      <td id=\"T_28a8a_row20_col1\" class=\"data row20 col1\" >688</td>\n",
       "      <td id=\"T_28a8a_row20_col2\" class=\"data row20 col2\" >21</td>\n",
       "    </tr>\n",
       "    <tr>\n",
       "      <th id=\"T_28a8a_level0_row21\" class=\"row_heading level0 row21\" >21</th>\n",
       "      <td id=\"T_28a8a_row21_col0\" class=\"data row21 col0\" >english</td>\n",
       "      <td id=\"T_28a8a_row21_col1\" class=\"data row21 col1\" >652</td>\n",
       "      <td id=\"T_28a8a_row21_col2\" class=\"data row21 col2\" >22</td>\n",
       "    </tr>\n",
       "    <tr>\n",
       "      <th id=\"T_28a8a_level0_row22\" class=\"row_heading level0 row22\" >22</th>\n",
       "      <td id=\"T_28a8a_row22_col0\" class=\"data row22 col0\" >book of kells</td>\n",
       "      <td id=\"T_28a8a_row22_col1\" class=\"data row22 col1\" >637</td>\n",
       "      <td id=\"T_28a8a_row22_col2\" class=\"data row22 col2\" >23</td>\n",
       "    </tr>\n",
       "    <tr>\n",
       "      <th id=\"T_28a8a_level0_row23\" class=\"row_heading level0 row23\" >23</th>\n",
       "      <td id=\"T_28a8a_row23_col0\" class=\"data row23 col0\" >mba</td>\n",
       "      <td id=\"T_28a8a_row23_col1\" class=\"data row23 col1\" >603</td>\n",
       "      <td id=\"T_28a8a_row23_col2\" class=\"data row23 col2\" >24</td>\n",
       "    </tr>\n",
       "    <tr>\n",
       "      <th id=\"T_28a8a_level0_row24\" class=\"row_heading level0 row24\" >24</th>\n",
       "      <td id=\"T_28a8a_row24_col0\" class=\"data row24 col0\" >engineering</td>\n",
       "      <td id=\"T_28a8a_row24_col1\" class=\"data row24 col1\" >596</td>\n",
       "      <td id=\"T_28a8a_row24_col2\" class=\"data row24 col2\" >25</td>\n",
       "    </tr>\n",
       "    <tr>\n",
       "      <th id=\"T_28a8a_level0_row25\" class=\"row_heading level0 row25\" >25</th>\n",
       "      <td id=\"T_28a8a_row25_col0\" class=\"data row25 col0\" >music</td>\n",
       "      <td id=\"T_28a8a_row25_col1\" class=\"data row25 col1\" >578</td>\n",
       "      <td id=\"T_28a8a_row25_col2\" class=\"data row25 col2\" >26</td>\n",
       "    </tr>\n",
       "    <tr>\n",
       "      <th id=\"T_28a8a_level0_row26\" class=\"row_heading level0 row26\" >26</th>\n",
       "      <td id=\"T_28a8a_row26_col0\" class=\"data row26 col0\" >business</td>\n",
       "      <td id=\"T_28a8a_row26_col1\" class=\"data row26 col1\" >573</td>\n",
       "      <td id=\"T_28a8a_row26_col2\" class=\"data row26 col2\" >27</td>\n",
       "    </tr>\n",
       "    <tr>\n",
       "      <th id=\"T_28a8a_level0_row27\" class=\"row_heading level0 row27\" >27</th>\n",
       "      <td id=\"T_28a8a_row27_col0\" class=\"data row27 col0\" >secretary communications noticeboard</td>\n",
       "      <td id=\"T_28a8a_row27_col1\" class=\"data row27 col1\" >570</td>\n",
       "      <td id=\"T_28a8a_row27_col2\" class=\"data row27 col2\" >28</td>\n",
       "    </tr>\n",
       "    <tr>\n",
       "      <th id=\"T_28a8a_level0_row28\" class=\"row_heading level0 row28\" >28</th>\n",
       "      <td id=\"T_28a8a_row28_col0\" class=\"data row28 col0\" >international</td>\n",
       "      <td id=\"T_28a8a_row28_col1\" class=\"data row28 col1\" >569</td>\n",
       "      <td id=\"T_28a8a_row28_col2\" class=\"data row28 col2\" >29</td>\n",
       "    </tr>\n",
       "    <tr>\n",
       "      <th id=\"T_28a8a_level0_row29\" class=\"row_heading level0 row29\" >29</th>\n",
       "      <td id=\"T_28a8a_row29_col0\" class=\"data row29 col0\" >history</td>\n",
       "      <td id=\"T_28a8a_row29_col1\" class=\"data row29 col1\" >563</td>\n",
       "      <td id=\"T_28a8a_row29_col2\" class=\"data row29 col2\" >30</td>\n",
       "    </tr>\n",
       "    <tr>\n",
       "      <th id=\"T_28a8a_level0_row30\" class=\"row_heading level0 row30\" >30</th>\n",
       "      <td id=\"T_28a8a_row30_col0\" class=\"data row30 col0\" >blackboard</td>\n",
       "      <td id=\"T_28a8a_row30_col1\" class=\"data row30 col1\" >551</td>\n",
       "      <td id=\"T_28a8a_row30_col2\" class=\"data row30 col2\" >31</td>\n",
       "    </tr>\n",
       "    <tr>\n",
       "      <th id=\"T_28a8a_level0_row31\" class=\"row_heading level0 row31\" >31</th>\n",
       "      <td id=\"T_28a8a_row31_col0\" class=\"data row31 col0\" >nursing</td>\n",
       "      <td id=\"T_28a8a_row31_col1\" class=\"data row31 col1\" >550</td>\n",
       "      <td id=\"T_28a8a_row31_col2\" class=\"data row31 col2\" >32</td>\n",
       "    </tr>\n",
       "    <tr>\n",
       "      <th id=\"T_28a8a_level0_row32\" class=\"row_heading level0 row32\" >32</th>\n",
       "      <td id=\"T_28a8a_row32_col0\" class=\"data row32 col0\" >courses</td>\n",
       "      <td id=\"T_28a8a_row32_col1\" class=\"data row32 col1\" >538</td>\n",
       "      <td id=\"T_28a8a_row32_col2\" class=\"data row32 col2\" >33</td>\n",
       "    </tr>\n",
       "    <tr>\n",
       "      <th id=\"T_28a8a_level0_row33\" class=\"row_heading level0 row33\" >33</th>\n",
       "      <td id=\"T_28a8a_row33_col0\" class=\"data row33 col0\" >open day</td>\n",
       "      <td id=\"T_28a8a_row33_col1\" class=\"data row33 col1\" >510</td>\n",
       "      <td id=\"T_28a8a_row33_col2\" class=\"data row33 col2\" >34</td>\n",
       "    </tr>\n",
       "    <tr>\n",
       "      <th id=\"T_28a8a_level0_row34\" class=\"row_heading level0 row34\" >34</th>\n",
       "      <td id=\"T_28a8a_row34_col0\" class=\"data row34 col0\" >application</td>\n",
       "      <td id=\"T_28a8a_row34_col1\" class=\"data row34 col1\" >495</td>\n",
       "      <td id=\"T_28a8a_row34_col2\" class=\"data row34 col2\" >35</td>\n",
       "    </tr>\n",
       "    <tr>\n",
       "      <th id=\"T_28a8a_level0_row35\" class=\"row_heading level0 row35\" >35</th>\n",
       "      <td id=\"T_28a8a_row35_col0\" class=\"data row35 col0\" >graduatestudies students prospective awards</td>\n",
       "      <td id=\"T_28a8a_row35_col1\" class=\"data row35 col1\" >481</td>\n",
       "      <td id=\"T_28a8a_row35_col2\" class=\"data row35 col2\" >36</td>\n",
       "    </tr>\n",
       "    <tr>\n",
       "      <th id=\"T_28a8a_level0_row36\" class=\"row_heading level0 row36\" >36</th>\n",
       "      <td id=\"T_28a8a_row36_col0\" class=\"data row36 col0\" >library bookofkells</td>\n",
       "      <td id=\"T_28a8a_row36_col1\" class=\"data row36 col1\" >479</td>\n",
       "      <td id=\"T_28a8a_row36_col2\" class=\"data row36 col2\" >37</td>\n",
       "    </tr>\n",
       "    <tr>\n",
       "      <th id=\"T_28a8a_level0_row37\" class=\"row_heading level0 row37\" >37</th>\n",
       "      <td id=\"T_28a8a_row37_col0\" class=\"data row37 col0\" >fee</td>\n",
       "      <td id=\"T_28a8a_row37_col1\" class=\"data row37 col1\" >472</td>\n",
       "      <td id=\"T_28a8a_row37_col2\" class=\"data row37 col2\" >38</td>\n",
       "    </tr>\n",
       "    <tr>\n",
       "      <th id=\"T_28a8a_level0_row38\" class=\"row_heading level0 row38\" >38</th>\n",
       "      <td id=\"T_28a8a_row38_col0\" class=\"data row38 col0\" >business msc international requirements</td>\n",
       "      <td id=\"T_28a8a_row38_col1\" class=\"data row38 col1\" >457</td>\n",
       "      <td id=\"T_28a8a_row38_col2\" class=\"data row38 col2\" >39</td>\n",
       "    </tr>\n",
       "    <tr>\n",
       "      <th id=\"T_28a8a_level0_row39\" class=\"row_heading level0 row39\" >39</th>\n",
       "      <td id=\"T_28a8a_row39_col0\" class=\"data row39 col0\" >pharmacy</td>\n",
       "      <td id=\"T_28a8a_row39_col1\" class=\"data row39 col1\" >448</td>\n",
       "      <td id=\"T_28a8a_row39_col2\" class=\"data row39 col2\" >40</td>\n",
       "    </tr>\n",
       "    <tr>\n",
       "      <th id=\"T_28a8a_level0_row40\" class=\"row_heading level0 row40\" >40</th>\n",
       "      <td id=\"T_28a8a_row40_col0\" class=\"data row40 col0\" >library bookofkells old library</td>\n",
       "      <td id=\"T_28a8a_row40_col1\" class=\"data row40 col1\" >431</td>\n",
       "      <td id=\"T_28a8a_row40_col2\" class=\"data row40 col2\" >41</td>\n",
       "    </tr>\n",
       "    <tr>\n",
       "      <th id=\"T_28a8a_level0_row41\" class=\"row_heading level0 row41\" >41</th>\n",
       "      <td id=\"T_28a8a_row41_col0\" class=\"data row41 col0\" >human resources</td>\n",
       "      <td id=\"T_28a8a_row41_col1\" class=\"data row41 col1\" >431</td>\n",
       "      <td id=\"T_28a8a_row41_col2\" class=\"data row41 col2\" >42</td>\n",
       "    </tr>\n",
       "    <tr>\n",
       "      <th id=\"T_28a8a_level0_row42\" class=\"row_heading level0 row42\" >42</th>\n",
       "      <td id=\"T_28a8a_row42_col0\" class=\"data row42 col0\" >dentistry</td>\n",
       "      <td id=\"T_28a8a_row42_col1\" class=\"data row42 col1\" >431</td>\n",
       "      <td id=\"T_28a8a_row42_col2\" class=\"data row42 col2\" >43</td>\n",
       "    </tr>\n",
       "    <tr>\n",
       "      <th id=\"T_28a8a_level0_row43\" class=\"row_heading level0 row43\" >43</th>\n",
       "      <td id=\"T_28a8a_row43_col0\" class=\"data row43 col0\" >finance</td>\n",
       "      <td id=\"T_28a8a_row43_col1\" class=\"data row43 col1\" >428</td>\n",
       "      <td id=\"T_28a8a_row43_col2\" class=\"data row43 col2\" >44</td>\n",
       "    </tr>\n",
       "    <tr>\n",
       "      <th id=\"T_28a8a_level0_row44\" class=\"row_heading level0 row44\" >44</th>\n",
       "      <td id=\"T_28a8a_row44_col0\" class=\"data row44 col0\" >master</td>\n",
       "      <td id=\"T_28a8a_row44_col1\" class=\"data row44 col1\" >426</td>\n",
       "      <td id=\"T_28a8a_row44_col2\" class=\"data row44 col2\" >45</td>\n",
       "    </tr>\n",
       "    <tr>\n",
       "      <th id=\"T_28a8a_level0_row45\" class=\"row_heading level0 row45\" >45</th>\n",
       "      <td id=\"T_28a8a_row45_col0\" class=\"data row45 col0\" >careers</td>\n",
       "      <td id=\"T_28a8a_row45_col1\" class=\"data row45 col1\" >422</td>\n",
       "      <td id=\"T_28a8a_row45_col2\" class=\"data row45 col2\" >46</td>\n",
       "    </tr>\n",
       "    <tr>\n",
       "      <th id=\"T_28a8a_level0_row46\" class=\"row_heading level0 row46\" >46</th>\n",
       "      <td id=\"T_28a8a_row46_col0\" class=\"data row46 col0\" >economics</td>\n",
       "      <td id=\"T_28a8a_row46_col1\" class=\"data row46 col1\" >416</td>\n",
       "      <td id=\"T_28a8a_row46_col2\" class=\"data row46 col2\" >47</td>\n",
       "    </tr>\n",
       "    <tr>\n",
       "      <th id=\"T_28a8a_level0_row47\" class=\"row_heading level0 row47\" >47</th>\n",
       "      <td id=\"T_28a8a_row47_col0\" class=\"data row47 col0\" >exchange</td>\n",
       "      <td id=\"T_28a8a_row47_col1\" class=\"data row47 col1\" >414</td>\n",
       "      <td id=\"T_28a8a_row47_col2\" class=\"data row47 col2\" >48</td>\n",
       "    </tr>\n",
       "    <tr>\n",
       "      <th id=\"T_28a8a_level0_row48\" class=\"row_heading level0 row48\" >48</th>\n",
       "      <td id=\"T_28a8a_row48_col0\" class=\"data row48 col0\" >ahss columbia</td>\n",
       "      <td id=\"T_28a8a_row48_col1\" class=\"data row48 col1\" >414</td>\n",
       "      <td id=\"T_28a8a_row48_col2\" class=\"data row48 col2\" >49</td>\n",
       "    </tr>\n",
       "    <tr>\n",
       "      <th id=\"T_28a8a_level0_row49\" class=\"row_heading level0 row49\" >49</th>\n",
       "      <td id=\"T_28a8a_row49_col0\" class=\"data row49 col0\" >marketing</td>\n",
       "      <td id=\"T_28a8a_row49_col1\" class=\"data row49 col1\" >393</td>\n",
       "      <td id=\"T_28a8a_row49_col2\" class=\"data row49 col2\" >50</td>\n",
       "    </tr>\n",
       "    <tr>\n",
       "      <th id=\"T_28a8a_level0_row50\" class=\"row_heading level0 row50\" >50</th>\n",
       "      <td id=\"T_28a8a_row50_col0\" class=\"data row50 col0\" >creativearts students current</td>\n",
       "      <td id=\"T_28a8a_row50_col1\" class=\"data row50 col1\" >386</td>\n",
       "      <td id=\"T_28a8a_row50_col2\" class=\"data row50 col2\" >51</td>\n",
       "    </tr>\n",
       "    <tr>\n",
       "      <th id=\"T_28a8a_level0_row51\" class=\"row_heading level0 row51\" >51</th>\n",
       "      <td id=\"T_28a8a_row51_col0\" class=\"data row51 col0\" >film</td>\n",
       "      <td id=\"T_28a8a_row51_col1\" class=\"data row51 col1\" >384</td>\n",
       "      <td id=\"T_28a8a_row51_col2\" class=\"data row51 col2\" >52</td>\n",
       "    </tr>\n",
       "    <tr>\n",
       "      <th id=\"T_28a8a_level0_row52\" class=\"row_heading level0 row52\" >52</th>\n",
       "      <td id=\"T_28a8a_row52_col0\" class=\"data row52 col0\" >study abroad</td>\n",
       "      <td id=\"T_28a8a_row52_col1\" class=\"data row52 col1\" >364</td>\n",
       "      <td id=\"T_28a8a_row52_col2\" class=\"data row52 col2\" >53</td>\n",
       "    </tr>\n",
       "    <tr>\n",
       "      <th id=\"T_28a8a_level0_row53\" class=\"row_heading level0 row53\" >53</th>\n",
       "      <td id=\"T_28a8a_row53_col0\" class=\"data row53 col0\" >academic registry</td>\n",
       "      <td id=\"T_28a8a_row53_col1\" class=\"data row53 col1\" >361</td>\n",
       "      <td id=\"T_28a8a_row53_col2\" class=\"data row53 col2\" >54</td>\n",
       "    </tr>\n",
       "    <tr>\n",
       "      <th id=\"T_28a8a_level0_row54\" class=\"row_heading level0 row54\" >54</th>\n",
       "      <td id=\"T_28a8a_row54_col0\" class=\"data row54 col0\" >orientation</td>\n",
       "      <td id=\"T_28a8a_row54_col1\" class=\"data row54 col1\" >359</td>\n",
       "      <td id=\"T_28a8a_row54_col2\" class=\"data row54 col2\" >55</td>\n",
       "    </tr>\n",
       "    <tr>\n",
       "      <th id=\"T_28a8a_level0_row55\" class=\"row_heading level0 row55\" >55</th>\n",
       "      <td id=\"T_28a8a_row55_col0\" class=\"data row55 col0\" >architecture</td>\n",
       "      <td id=\"T_28a8a_row55_col1\" class=\"data row55 col1\" >355</td>\n",
       "      <td id=\"T_28a8a_row55_col2\" class=\"data row55 col2\" >56</td>\n",
       "    </tr>\n",
       "    <tr>\n",
       "      <th id=\"T_28a8a_level0_row56\" class=\"row_heading level0 row56\" >56</th>\n",
       "      <td id=\"T_28a8a_row56_col0\" class=\"data row56 col0\" >masters</td>\n",
       "      <td id=\"T_28a8a_row56_col1\" class=\"data row56 col1\" >353</td>\n",
       "      <td id=\"T_28a8a_row56_col2\" class=\"data row56 col2\" >57</td>\n",
       "    </tr>\n",
       "    <tr>\n",
       "      <th id=\"T_28a8a_level0_row57\" class=\"row_heading level0 row57\" >57</th>\n",
       "      <td id=\"T_28a8a_row57_col0\" class=\"data row57 col0\" >handbook</td>\n",
       "      <td id=\"T_28a8a_row57_col1\" class=\"data row57 col1\" >351</td>\n",
       "      <td id=\"T_28a8a_row57_col2\" class=\"data row57 col2\" >58</td>\n",
       "    </tr>\n",
       "    <tr>\n",
       "      <th id=\"T_28a8a_level0_row58\" class=\"row_heading level0 row58\" >58</th>\n",
       "      <td id=\"T_28a8a_row58_col0\" class=\"data row58 col0\" >philosophy</td>\n",
       "      <td id=\"T_28a8a_row58_col1\" class=\"data row58 col1\" >350</td>\n",
       "      <td id=\"T_28a8a_row58_col2\" class=\"data row58 col2\" >59</td>\n",
       "    </tr>\n",
       "    <tr>\n",
       "      <th id=\"T_28a8a_level0_row59\" class=\"row_heading level0 row59\" >59</th>\n",
       "      <td id=\"T_28a8a_row59_col0\" class=\"data row59 col0\" >admission</td>\n",
       "      <td id=\"T_28a8a_row59_col1\" class=\"data row59 col1\" >350</td>\n",
       "      <td id=\"T_28a8a_row59_col2\" class=\"data row59 col2\" >60</td>\n",
       "    </tr>\n",
       "    <tr>\n",
       "      <th id=\"T_28a8a_level0_row60\" class=\"row_heading level0 row60\" >60</th>\n",
       "      <td id=\"T_28a8a_row60_col0\" class=\"data row60 col0\" >admissions</td>\n",
       "      <td id=\"T_28a8a_row60_col1\" class=\"data row60 col1\" >344</td>\n",
       "      <td id=\"T_28a8a_row60_col2\" class=\"data row60 col2\" >61</td>\n",
       "    </tr>\n",
       "    <tr>\n",
       "      <th id=\"T_28a8a_level0_row61\" class=\"row_heading level0 row61\" >61</th>\n",
       "      <td id=\"T_28a8a_row61_col0\" class=\"data row61 col0\" >fis</td>\n",
       "      <td id=\"T_28a8a_row61_col1\" class=\"data row61 col1\" >343</td>\n",
       "      <td id=\"T_28a8a_row61_col2\" class=\"data row61 col2\" >62</td>\n",
       "    </tr>\n",
       "    <tr>\n",
       "      <th id=\"T_28a8a_level0_row62\" class=\"row_heading level0 row62\" >62</th>\n",
       "      <td id=\"T_28a8a_row62_col0\" class=\"data row62 col0\" >data science</td>\n",
       "      <td id=\"T_28a8a_row62_col1\" class=\"data row62 col1\" >343</td>\n",
       "      <td id=\"T_28a8a_row62_col2\" class=\"data row62 col2\" >63</td>\n",
       "    </tr>\n",
       "    <tr>\n",
       "      <th id=\"T_28a8a_level0_row63\" class=\"row_heading level0 row63\" >63</th>\n",
       "      <td id=\"T_28a8a_row63_col0\" class=\"data row63 col0\" >procurement</td>\n",
       "      <td id=\"T_28a8a_row63_col1\" class=\"data row63 col1\" >341</td>\n",
       "      <td id=\"T_28a8a_row63_col2\" class=\"data row63 col2\" >64</td>\n",
       "    </tr>\n",
       "    <tr>\n",
       "      <th id=\"T_28a8a_level0_row64\" class=\"row_heading level0 row64\" >64</th>\n",
       "      <td id=\"T_28a8a_row64_col0\" class=\"data row64 col0\" >business msc unibuddy</td>\n",
       "      <td id=\"T_28a8a_row64_col1\" class=\"data row64 col1\" >337</td>\n",
       "      <td id=\"T_28a8a_row64_col2\" class=\"data row64 col2\" >65</td>\n",
       "    </tr>\n",
       "  </tbody>\n",
       "</table>\n"
      ]
     },
     "metadata": {},
     "output_type": "display_data"
    }
   ],
   "source": [
    "from IPython.display import display_html \n",
    "\n",
    "number=65\n",
    "es_df_top=es_df.head(number)\n",
    "\n",
    "es_df_styler = es_df_top.style.set_table_attributes(\"style='display:inline'\").set_caption('<b>ES Top Query Terms</b>')\n",
    "\n",
    "#display_html(es_df_styler._repr_html_()+ws_df_styler._repr_html_(), raw=True)\n",
    "display_html(es_df_styler._repr_html_(), raw=True)"
   ]
  },
  {
   "cell_type": "markdown",
   "id": "2f814524",
   "metadata": {
    "papermill": {
     "duration": 0.006527,
     "end_time": "2024-04-29T10:38:16.825727",
     "exception": false,
     "start_time": "2024-04-29T10:38:16.819200",
     "status": "completed"
    },
    "tags": []
   },
   "source": [
    "# **GPT-4 Synonyms**  <a class=\"anchor\"  id=\"GPT-4\"></a>"
   ]
  },
  {
   "cell_type": "code",
   "execution_count": 7,
   "id": "e5ae1c55",
   "metadata": {
    "execution": {
     "iopub.execute_input": "2024-04-29T10:38:16.841589Z",
     "iopub.status.busy": "2024-04-29T10:38:16.840534Z",
     "iopub.status.idle": "2024-04-29T10:38:32.220626Z",
     "shell.execute_reply": "2024-04-29T10:38:32.219679Z"
    },
    "papermill": {
     "duration": 15.390511,
     "end_time": "2024-04-29T10:38:32.223078",
     "exception": false,
     "start_time": "2024-04-29T10:38:16.832567",
     "status": "completed"
    },
    "tags": []
   },
   "outputs": [
    {
     "name": "stdout",
     "output_type": "stream",
     "text": [
      "Collecting openai\r\n",
      "  Downloading openai-1.23.6-py3-none-any.whl.metadata (21 kB)\r\n",
      "Requirement already satisfied: anyio<5,>=3.5.0 in /opt/conda/lib/python3.10/site-packages (from openai) (4.2.0)\r\n",
      "Requirement already satisfied: distro<2,>=1.7.0 in /opt/conda/lib/python3.10/site-packages (from openai) (1.9.0)\r\n",
      "Requirement already satisfied: httpx<1,>=0.23.0 in /opt/conda/lib/python3.10/site-packages (from openai) (0.27.0)\r\n",
      "Requirement already satisfied: pydantic<3,>=1.9.0 in /opt/conda/lib/python3.10/site-packages (from openai) (2.5.3)\r\n",
      "Requirement already satisfied: sniffio in /opt/conda/lib/python3.10/site-packages (from openai) (1.3.0)\r\n",
      "Requirement already satisfied: tqdm>4 in /opt/conda/lib/python3.10/site-packages (from openai) (4.66.1)\r\n",
      "Requirement already satisfied: typing-extensions<5,>=4.7 in /opt/conda/lib/python3.10/site-packages (from openai) (4.9.0)\r\n",
      "Requirement already satisfied: idna>=2.8 in /opt/conda/lib/python3.10/site-packages (from anyio<5,>=3.5.0->openai) (3.6)\r\n",
      "Requirement already satisfied: exceptiongroup>=1.0.2 in /opt/conda/lib/python3.10/site-packages (from anyio<5,>=3.5.0->openai) (1.2.0)\r\n",
      "Requirement already satisfied: certifi in /opt/conda/lib/python3.10/site-packages (from httpx<1,>=0.23.0->openai) (2024.2.2)\r\n",
      "Requirement already satisfied: httpcore==1.* in /opt/conda/lib/python3.10/site-packages (from httpx<1,>=0.23.0->openai) (1.0.4)\r\n",
      "Requirement already satisfied: h11<0.15,>=0.13 in /opt/conda/lib/python3.10/site-packages (from httpcore==1.*->httpx<1,>=0.23.0->openai) (0.14.0)\r\n",
      "Requirement already satisfied: annotated-types>=0.4.0 in /opt/conda/lib/python3.10/site-packages (from pydantic<3,>=1.9.0->openai) (0.6.0)\r\n",
      "Requirement already satisfied: pydantic-core==2.14.6 in /opt/conda/lib/python3.10/site-packages (from pydantic<3,>=1.9.0->openai) (2.14.6)\r\n",
      "Downloading openai-1.23.6-py3-none-any.whl (311 kB)\r\n",
      "\u001b[2K   \u001b[90m━━━━━━━━━━━━━━━━━━━━━━━━━━━━━━━━━━━━━━━━\u001b[0m \u001b[32m311.6/311.6 kB\u001b[0m \u001b[31m6.9 MB/s\u001b[0m eta \u001b[36m0:00:00\u001b[0m\r\n",
      "\u001b[?25hInstalling collected packages: openai\r\n",
      "Successfully installed openai-1.23.6\r\n"
     ]
    }
   ],
   "source": [
    "try:\n",
    "    import openai\n",
    "except:\n",
    "    !pip install openai\n",
    "    import openai\n",
    "    \n",
    "from openai import OpenAI"
   ]
  },
  {
   "cell_type": "code",
   "execution_count": 8,
   "id": "e4a44b82",
   "metadata": {
    "execution": {
     "iopub.execute_input": "2024-04-29T10:38:32.239939Z",
     "iopub.status.busy": "2024-04-29T10:38:32.239037Z",
     "iopub.status.idle": "2024-04-29T10:38:32.264112Z",
     "shell.execute_reply": "2024-04-29T10:38:32.263179Z"
    },
    "papermill": {
     "duration": 0.036006,
     "end_time": "2024-04-29T10:38:32.266523",
     "exception": false,
     "start_time": "2024-04-29T10:38:32.230517",
     "status": "completed"
    },
    "tags": []
   },
   "outputs": [],
   "source": [
    "from dotenv import load_dotenv, find_dotenv\n",
    "_ = load_dotenv(\"/kaggle/input/hidden-abc/abc.env\")\n",
    "openai.api_key=os.getenv(\"OPENAI_API_KEY\")\n",
    "\n",
    "#print(openai.api_key)"
   ]
  },
  {
   "cell_type": "code",
   "execution_count": 9,
   "id": "cff7097b",
   "metadata": {
    "execution": {
     "iopub.execute_input": "2024-04-29T10:38:32.283718Z",
     "iopub.status.busy": "2024-04-29T10:38:32.282624Z",
     "iopub.status.idle": "2024-04-29T10:38:32.288572Z",
     "shell.execute_reply": "2024-04-29T10:38:32.287543Z"
    },
    "papermill": {
     "duration": 0.016428,
     "end_time": "2024-04-29T10:38:32.290639",
     "exception": false,
     "start_time": "2024-04-29T10:38:32.274211",
     "status": "completed"
    },
    "tags": []
   },
   "outputs": [
    {
     "name": "stdout",
     "output_type": "stream",
     "text": [
      "['scholarship', 'fees', 'library', 'phd', 'medicine', 'psychology', 'erasmus', 'courses esc', 'vacancies', 'law', 'scholarships', 'accommodation', 'calendar', 'jobs', 'accomodation', 'computer science', 'accommodation contactus', 'apply', 'tuition', 'accommodation studentsandstaff', 'hr', 'english', 'book of kells', 'mba', 'engineering', 'music', 'business', 'secretary communications noticeboard', 'international', 'history', 'blackboard', 'nursing', 'courses', 'open day', 'application', 'graduatestudies students prospective awards', 'library bookofkells', 'fee', 'business msc international requirements', 'pharmacy', 'library bookofkells old library', 'human resources', 'dentistry', 'finance', 'master', 'careers', 'economics', 'exchange', 'ahss columbia', 'marketing', 'creativearts students current', 'film', 'study abroad', 'academic registry', 'orientation', 'architecture', 'masters', 'handbook', 'philosophy', 'admission', 'admissions', 'fis', 'data science', 'procurement', 'business msc unibuddy']\n"
     ]
    }
   ],
   "source": [
    "arr = es_df_top['queries'].values.tolist()\n",
    "print (arr)"
   ]
  },
  {
   "attachments": {
    "bc96ea7a-11c6-4fd1-9200-8a58eeeedad3.PNG": {
     "image/png": "[encoded data removed]"
    }
   },
   "cell_type": "markdown",
   "id": "50bbdef8",
   "metadata": {
    "papermill": {
     "duration": 0.007079,
     "end_time": "2024-04-29T10:38:32.305282",
     "exception": false,
     "start_time": "2024-04-29T10:38:32.298203",
     "status": "completed"
    },
    "tags": []
   },
   "source": [
    "**We need to break down the above array into smaller chunks to satisfy gpt-4 requirements.  Otherwise, the following message may appear: -**\n",
    "\n",
    "![fig-qac-chat-gpt-sorry-list-too-long.PNG](attachment:bc96ea7a-11c6-4fd1-9200-8a58eeeedad3.PNG)"
   ]
  },
  {
   "cell_type": "code",
   "execution_count": 10,
   "id": "6b46f7b0",
   "metadata": {
    "execution": {
     "iopub.execute_input": "2024-04-29T10:38:32.321865Z",
     "iopub.status.busy": "2024-04-29T10:38:32.321511Z",
     "iopub.status.idle": "2024-04-29T10:38:32.327527Z",
     "shell.execute_reply": "2024-04-29T10:38:32.326555Z"
    },
    "papermill": {
     "duration": 0.016585,
     "end_time": "2024-04-29T10:38:32.329437",
     "exception": false,
     "start_time": "2024-04-29T10:38:32.312852",
     "status": "completed"
    },
    "tags": []
   },
   "outputs": [],
   "source": [
    "\n",
    "if DEBUG == 'TRUE':\n",
    "    n = 8\n",
    "    s = 0\n",
    "    for s in 0,8,16,24,32,40,48,56,65:\n",
    "        short_list = str(arr[s:n+s])[1:-1] \n",
    "        #print (short_list)\n",
    "        my_messages=[\n",
    "            {\"role\": \"user\", \"content\": \"create a flat, sorted, unnumbered list the of top 10 synonym words or phrases for each of the words in the followin array: -\"},\n",
    "            {\"role\": \"user\", \"content\": 'please list them in lower case letters with a comma separator'},     \n",
    "            {\"role\": \"user\", \"content\": short_list},\n",
    "        ]\n",
    "        print (my_messages)"
   ]
  },
  {
   "cell_type": "code",
   "execution_count": 11,
   "id": "d9148121",
   "metadata": {
    "execution": {
     "iopub.execute_input": "2024-04-29T10:38:32.345612Z",
     "iopub.status.busy": "2024-04-29T10:38:32.345200Z",
     "iopub.status.idle": "2024-04-29T10:38:32.353168Z",
     "shell.execute_reply": "2024-04-29T10:38:32.351855Z"
    },
    "papermill": {
     "duration": 0.018417,
     "end_time": "2024-04-29T10:38:32.355098",
     "exception": false,
     "start_time": "2024-04-29T10:38:32.336681",
     "status": "completed"
    },
    "tags": []
   },
   "outputs": [
    {
     "name": "stdout",
     "output_type": "stream",
     "text": [
      "got here\n"
     ]
    }
   ],
   "source": [
    "MODEL = \"gpt-4\"\n",
    "n = 8\n",
    "s = 0\n",
    "\n",
    "if USE_CACHED_GPT_RESULTS != 'TRUE': \n",
    "    for s in 0,8,16,24,32,40,48,56,64:\n",
    "        short_list = str(arr[s:n+s])[1:-1] \n",
    "        my_messages=[\n",
    "            {\"role\": \"user\", \"content\": \"create a flat, sorted, unnumbered list the of top 10 synonym words or phrases for each of the words in the followin array: -\"},\n",
    "            {\"role\": \"user\", \"content\": 'please list them in lower case letters with a comma separator'},     \n",
    "            {\"role\": \"user\", \"content\": short_list},\n",
    "            ]\n",
    "        response = client.chat.completions.create(\n",
    "        model=MODEL,\n",
    "        messages=my_messages,\n",
    "        temperature=1,\n",
    "        )\n",
    "        print (response.choices[0].message.content)\n",
    "\n",
    "print (\"got here\")\n"
   ]
  },
  {
   "cell_type": "markdown",
   "id": "4c7c82a5",
   "metadata": {
    "papermill": {
     "duration": 0.0071,
     "end_time": "2024-04-29T10:38:32.369849",
     "exception": false,
     "start_time": "2024-04-29T10:38:32.362749",
     "status": "completed"
    },
    "tags": []
   },
   "source": [
    "# **NLP Synonyms**  <a class=\"anchor\"  id=\"NLP\"></a>"
   ]
  },
  {
   "cell_type": "code",
   "execution_count": 12,
   "id": "fcd49a2d",
   "metadata": {
    "execution": {
     "iopub.execute_input": "2024-04-29T10:38:32.385966Z",
     "iopub.status.busy": "2024-04-29T10:38:32.385580Z",
     "iopub.status.idle": "2024-04-29T10:38:32.435043Z",
     "shell.execute_reply": "2024-04-29T10:38:32.433907Z"
    },
    "papermill": {
     "duration": 0.060014,
     "end_time": "2024-04-29T10:38:32.437092",
     "exception": false,
     "start_time": "2024-04-29T10:38:32.377078",
     "status": "completed"
    },
    "tags": []
   },
   "outputs": [
    {
     "name": "stdout",
     "output_type": "stream",
     "text": [
      "                       0                         1                   2   \\\n",
      "0            mailing list             mailing lists                       \n",
      "1                  grouse                                                 \n",
      "2                 diploma                   masters     masters courses   \n",
      "3              employment  employment opportunities   job opportunities   \n",
      "4            january 2022                term dates                       \n",
      "5                  dargan                       m17      semester dates   \n",
      "6  educational psychology                                                 \n",
      "7       business analysis        business analytics  msc human resource   \n",
      "8         colm cunningham            kingston mills                       \n",
      "9                   tr031                     tr032               tr033   \n",
      "\n",
      "               3      4      5      6  7  8  9   ... 18 19 20 21 22 23 24 25  \\\n",
      "0                                                ...                           \n",
      "1                                                ...                           \n",
      "2  masters degree                                ...                           \n",
      "3         upskill                                ...                           \n",
      "4                                                ...                           \n",
      "5                                                ...                           \n",
      "6                                                ...                           \n",
      "7                                                ...                           \n",
      "8                                                ...                           \n",
      "9           tr034  tr035  tr038  tr039           ...                           \n",
      "\n",
      "  26 27  \n",
      "0        \n",
      "1        \n",
      "2        \n",
      "3        \n",
      "4        \n",
      "5        \n",
      "6        \n",
      "7        \n",
      "8        \n",
      "9        \n",
      "\n",
      "[10 rows x 28 columns]\n"
     ]
    },
    {
     "data": {
      "text/plain": [
       "(1000, 28)"
      ]
     },
     "execution_count": 12,
     "metadata": {},
     "output_type": "execute_result"
    }
   ],
   "source": [
    "#nlp synonyms that match top 65 queries\n",
    "import pandas as pd\n",
    "#nlp_df = pd.read_csv('/kaggle/input/tcd-nlp-synonyms/cluster_synonyms3000.txt',na_values='NaN')\n",
    "\n",
    "#!grep query ^file\n",
    "\n",
    "\n",
    "# Input\n",
    "data_file = \"/kaggle/input/tcd-nlp-synonyms/cluster_synonyms3000.txt\"\n",
    "\n",
    "# Delimiter\n",
    "data_file_delimiter = ','\n",
    "\n",
    "# The max column count a line in the file could have\n",
    "largest_column_count = 0\n",
    "\n",
    "# Loop the data lines\n",
    "with open(data_file, 'r') as temp_f:\n",
    "    # Read the lines\n",
    "    lines = temp_f.readlines()\n",
    "\n",
    "    for l in lines:\n",
    "        # Count the column count for the current line\n",
    "        column_count = len(l.split(data_file_delimiter)) + 1\n",
    "        \n",
    "        # Set the new most column count\n",
    "        largest_column_count = column_count if largest_column_count < column_count else largest_column_count\n",
    "\n",
    "# Generate column names (will be 0, 1, 2, ..., largest_column_count - 1)\n",
    "column_names = [i for i in range(0, largest_column_count)]\n",
    "\n",
    "# Read csv\n",
    "df = pd.read_csv(data_file, header=None, delimiter=data_file_delimiter, names=column_names)\n",
    "df = df.replace({'=>cl_[0-9]+$': ''}, regex=True)\n",
    "print(df.fillna(\"\").head(10))\n",
    "df.shape\n"
   ]
  },
  {
   "cell_type": "markdown",
   "id": "9758dd9c",
   "metadata": {
    "papermill": {
     "duration": 0.007556,
     "end_time": "2024-04-29T10:38:32.452829",
     "exception": false,
     "start_time": "2024-04-29T10:38:32.445273",
     "status": "completed"
    },
    "tags": []
   },
   "source": [
    "# **Jargon Detection**  <a class=\"anchor\"  id=\"Jargon\"></a>"
   ]
  },
  {
   "cell_type": "markdown",
   "id": "2aef630d",
   "metadata": {
    "papermill": {
     "duration": 0.007308,
     "end_time": "2024-04-29T10:38:32.467790",
     "exception": false,
     "start_time": "2024-04-29T10:38:32.460482",
     "status": "completed"
    },
    "tags": []
   },
   "source": [
    "# **Jargony**  <a class=\"anchor\"  id=\"Jargony\"></a>"
   ]
  },
  {
   "cell_type": "code",
   "execution_count": 13,
   "id": "7f221909",
   "metadata": {
    "execution": {
     "iopub.execute_input": "2024-04-29T10:38:32.485023Z",
     "iopub.status.busy": "2024-04-29T10:38:32.484188Z",
     "iopub.status.idle": "2024-04-29T10:38:32.489086Z",
     "shell.execute_reply": "2024-04-29T10:38:32.488430Z"
    },
    "papermill": {
     "duration": 0.015396,
     "end_time": "2024-04-29T10:38:32.490908",
     "exception": false,
     "start_time": "2024-04-29T10:38:32.475512",
     "status": "completed"
    },
    "tags": []
   },
   "outputs": [],
   "source": [
    "def jaccard_similarity(list1, list2):\n",
    "    set1 = set(list1)\n",
    "    set2 = set(list2)\n",
    "    intersection = len(set1.intersection(set2))\n",
    "    union = len(set1.union(set2))\n",
    "    print (set2-set1)   # the words in list2 that do not exist in list1\n",
    "    return intersection / union\n",
    "    #print (set2-set1)"
   ]
  },
  {
   "cell_type": "code",
   "execution_count": 14,
   "id": "9021e241",
   "metadata": {
    "execution": {
     "iopub.execute_input": "2024-04-29T10:38:32.507677Z",
     "iopub.status.busy": "2024-04-29T10:38:32.507065Z",
     "iopub.status.idle": "2024-04-29T10:38:32.511133Z",
     "shell.execute_reply": "2024-04-29T10:38:32.510456Z"
    },
    "papermill": {
     "duration": 0.014701,
     "end_time": "2024-04-29T10:38:32.513084",
     "exception": false,
     "start_time": "2024-04-29T10:38:32.498383",
     "status": "completed"
    },
    "tags": []
   },
   "outputs": [],
   "source": [
    "word2vec_list = [\"Office of the registrar\", \"university records office\", \"student registration office\", \"Dean's office\", \"Admissions office\", \"students records office\", \"academic office\", \"enrolment office\", \"academic affairs office\", \"education office\"]\n",
    "llm_list = [\"Office of the registrar\", \"Bizarre\", \"education office\"]\n"
   ]
  },
  {
   "cell_type": "code",
   "execution_count": 15,
   "id": "d2dad53a",
   "metadata": {
    "execution": {
     "iopub.execute_input": "2024-04-29T10:38:32.530342Z",
     "iopub.status.busy": "2024-04-29T10:38:32.529701Z",
     "iopub.status.idle": "2024-04-29T10:38:32.536341Z",
     "shell.execute_reply": "2024-04-29T10:38:32.535422Z"
    },
    "papermill": {
     "duration": 0.017549,
     "end_time": "2024-04-29T10:38:32.538445",
     "exception": false,
     "start_time": "2024-04-29T10:38:32.520896",
     "status": "completed"
    },
    "tags": []
   },
   "outputs": [
    {
     "name": "stdout",
     "output_type": "stream",
     "text": [
      "{'Bizarre'}\n"
     ]
    },
    {
     "data": {
      "text/plain": [
       "0.18181818181818182"
      ]
     },
     "execution_count": 15,
     "metadata": {},
     "output_type": "execute_result"
    }
   ],
   "source": [
    "jaccard_similarity(word2vec_list,llm_list)"
   ]
  },
  {
   "cell_type": "markdown",
   "id": "62ee8acb",
   "metadata": {
    "papermill": {
     "duration": 0.00778,
     "end_time": "2024-04-29T10:38:32.554047",
     "exception": false,
     "start_time": "2024-04-29T10:38:32.546267",
     "status": "completed"
    },
    "tags": []
   },
   "source": [
    "# **LTR Feature**  <a class=\"anchor\"  id=\"LTR\"></a>"
   ]
  },
  {
   "cell_type": "markdown",
   "id": "d39b0231",
   "metadata": {
    "papermill": {
     "duration": 0.007742,
     "end_time": "2024-04-29T10:38:32.569923",
     "exception": false,
     "start_time": "2024-04-29T10:38:32.562181",
     "status": "completed"
    },
    "tags": []
   },
   "source": [
    "# **References**  <a class=\"anchor\"  id=\"References\"></a>"
   ]
  }
 ],
 "metadata": {
  "kaggle": {
   "accelerator": "none",
   "dataSources": [
    {
     "datasetId": 4462893,
     "sourceId": 7714034,
     "sourceType": "datasetVersion"
    },
    {
     "datasetId": 4745179,
     "sourceId": 8047127,
     "sourceType": "datasetVersion"
    },
    {
     "datasetId": 4898774,
     "sourceId": 8255059,
     "sourceType": "datasetVersion"
    }
   ],
   "dockerImageVersionId": 30673,
   "isGpuEnabled": false,
   "isInternetEnabled": true,
   "language": "python",
   "sourceType": "notebook"
  },
  "kernelspec": {
   "display_name": "Python 3",
   "language": "python",
   "name": "python3"
  },
  "language_info": {
   "codemirror_mode": {
    "name": "ipython",
    "version": 3
   },
   "file_extension": ".py",
   "mimetype": "text/x-python",
   "name": "python",
   "nbconvert_exporter": "python",
   "pygments_lexer": "ipython3",
   "version": "3.10.13"
  },
  "papermill": {
   "default_parameters": {},
   "duration": 20.358734,
   "end_time": "2024-04-29T10:38:33.298415",
   "environment_variables": {},
   "exception": null,
   "input_path": "__notebook__.ipynb",
   "output_path": "__notebook__.ipynb",
   "parameters": {},
   "start_time": "2024-04-29T10:38:12.939681",
   "version": "2.5.0"
  }
 },
 "nbformat": 4,
 "nbformat_minor": 5
}
