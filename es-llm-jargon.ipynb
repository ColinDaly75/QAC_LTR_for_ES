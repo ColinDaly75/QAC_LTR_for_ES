{
 "cells": [
  {
   "cell_type": "markdown",
   "id": "9b2f07fc",
   "metadata": {
    "papermill": {
     "duration": 0.017114,
     "end_time": "2024-05-06T14:35:29.488974",
     "exception": false,
     "start_time": "2024-05-06T14:35:29.471860",
     "status": "completed"
    },
    "tags": []
   },
   "source": [
    "# **QACES feature for jargon detection in Enterprise Search.**\n"
   ]
  },
  {
   "cell_type": "markdown",
   "id": "af2ccf55",
   "metadata": {
    "papermill": {
     "duration": 0.016792,
     "end_time": "2024-05-06T14:35:29.523219",
     "exception": false,
     "start_time": "2024-05-06T14:35:29.506427",
     "status": "completed"
    },
    "tags": []
   },
   "source": [
    "* [Introduction to Jargon and Enterprises](#Introduction)\n",
    "* [QACES](#QACES)\n",
    "* [Loading the QAC history log file](#Loading)\n",
    "* [Top 65 Queries](#Top65)\n",
    "* [GPT-4 Synonyms](#GPT-4)\n",
    "* [LLM Synonums](#Average)\n",
    "* [Jargon detection](#Jangon)\n",
    "* [Jargony](#Jargony)\n",
    "* [LTR feature](#LTR)\n",
    "* [Repeatability](#Verification)\n",
    "* [References](#References)"
   ]
  },
  {
   "cell_type": "markdown",
   "id": "b6ab4e4d",
   "metadata": {
    "papermill": {
     "duration": 0.01223,
     "end_time": "2024-05-06T14:35:29.549748",
     "exception": false,
     "start_time": "2024-05-06T14:35:29.537518",
     "status": "completed"
    },
    "tags": []
   },
   "source": [
    "# **Introduction to Jargon and Enterprises**  <a class=\"anchor\"  id=\"Introduction\"></a>\n",
    "Enterprise Search (ES) can be simply defined as finding the information needed from within an organisation.   As illustrated below, ES is a federated store of workplace information with data gathered from multiple sources, such as intranets, document management systems,\n",
    "e-mail and social media and may also include the organisation’s external-facing HTTP web servers(Kraswell et al, 2005).\n",
    "\n",
    "Query auto-completion (QAC) is of particular importance to the field of Enterprise Search, where query suggestions can steer searchers to use the appropriate organisational jargon/terminology and avoid submitting\n",
    "queries that produce no results.\n",
    "\n",
    "Excessive use of jargon and terminology in organisations is often perceived as exclusionary. We use the\n",
    "terms here in a positive context for efficiently conveying complex ideas, processes, or services among\n",
    "employees/members who share common knowledge of the enterprise. In this context, jargon and terminology facilitate effective communication. "
   ]
  },
  {
   "cell_type": "markdown",
   "id": "d49e46f6",
   "metadata": {
    "papermill": {
     "duration": 0.012257,
     "end_time": "2024-05-06T14:35:29.574622",
     "exception": false,
     "start_time": "2024-05-06T14:35:29.562365",
     "status": "completed"
    },
    "tags": []
   },
   "source": [
    "# **QACES**  <a class=\"anchor\"  id=\"QACES\"></a>\n",
    "QACES stands for **Query Auto-Complete for Enterprise Search**.     The task of detecting enterprise jargon/terminology terms within a corpus lends itself to the fields of NLP and LLM. Once the terms have been detected, they can be ‘upranked’ in our ranking model."
   ]
  },
  {
   "cell_type": "code",
   "execution_count": 1,
   "id": "f6685f7b",
   "metadata": {
    "execution": {
     "iopub.execute_input": "2024-05-06T14:35:29.602079Z",
     "iopub.status.busy": "2024-05-06T14:35:29.601228Z",
     "iopub.status.idle": "2024-05-06T14:35:29.621522Z",
     "shell.execute_reply": "2024-05-06T14:35:29.615539Z"
    },
    "papermill": {
     "duration": 0.043548,
     "end_time": "2024-05-06T14:35:29.630801",
     "exception": false,
     "start_time": "2024-05-06T14:35:29.587253",
     "status": "completed"
    },
    "tags": []
   },
   "outputs": [],
   "source": [
    "DEBUG='FALSE'\n",
    "USE_CACHED_GPT_RESULTS='FALSE'"
   ]
  },
  {
   "cell_type": "code",
   "execution_count": 2,
   "id": "9d11f5b5",
   "metadata": {
    "_cell_guid": "b1076dfc-b9ad-4769-8c92-a6c4dae69d19",
    "_uuid": "8f2839f25d086af736a60e9eeb907d3b93b6e0e5",
    "execution": {
     "iopub.execute_input": "2024-05-06T14:35:29.657428Z",
     "iopub.status.busy": "2024-05-06T14:35:29.657025Z",
     "iopub.status.idle": "2024-05-06T14:35:30.673663Z",
     "shell.execute_reply": "2024-05-06T14:35:30.672450Z"
    },
    "papermill": {
     "duration": 1.03321,
     "end_time": "2024-05-06T14:35:30.676566",
     "exception": false,
     "start_time": "2024-05-06T14:35:29.643356",
     "status": "completed"
    },
    "tags": []
   },
   "outputs": [],
   "source": [
    "import numpy as np \n",
    "import pandas as pd \n",
    "import os\n",
    "import decimal  "
   ]
  },
  {
   "cell_type": "markdown",
   "id": "c1356935",
   "metadata": {
    "papermill": {
     "duration": 0.011904,
     "end_time": "2024-05-06T14:35:30.701155",
     "exception": false,
     "start_time": "2024-05-06T14:35:30.689251",
     "status": "completed"
    },
    "tags": []
   },
   "source": [
    "# **Loading the QAC history logfile**  <a class=\"anchor\"  id=\"Loading\"></a>"
   ]
  },
  {
   "cell_type": "code",
   "execution_count": 3,
   "id": "ceea81e0",
   "metadata": {
    "execution": {
     "iopub.execute_input": "2024-05-06T14:35:30.728427Z",
     "iopub.status.busy": "2024-05-06T14:35:30.727900Z",
     "iopub.status.idle": "2024-05-06T14:35:30.757878Z",
     "shell.execute_reply": "2024-05-06T14:35:30.756892Z"
    },
    "papermill": {
     "duration": 0.046168,
     "end_time": "2024-05-06T14:35:30.760389",
     "exception": false,
     "start_time": "2024-05-06T14:35:30.714221",
     "status": "completed"
    },
    "tags": []
   },
   "outputs": [
    {
     "name": "stdout",
     "output_type": "stream",
     "text": [
      "/kaggle/input/tcd-nlp-synonyms/cluster_synonyms3000.txt\n",
      "/kaggle/input/hidden-abc/abc.env\n",
      "/kaggle/input/es-query-history/ws-query-history-v25.txt\n",
      "/kaggle/input/es-query-history/es-query-history-v25.txt\n"
     ]
    }
   ],
   "source": [
    "for dirname, _, filenames in os.walk('/kaggle/input'):\n",
    "    for filename in filenames:\n",
    "        print(os.path.join(dirname, filename))"
   ]
  },
  {
   "cell_type": "code",
   "execution_count": 4,
   "id": "ffa751c9",
   "metadata": {
    "execution": {
     "iopub.execute_input": "2024-05-06T14:35:30.787194Z",
     "iopub.status.busy": "2024-05-06T14:35:30.786707Z",
     "iopub.status.idle": "2024-05-06T14:35:30.887924Z",
     "shell.execute_reply": "2024-05-06T14:35:30.886618Z"
    },
    "papermill": {
     "duration": 0.118218,
     "end_time": "2024-05-06T14:35:30.890926",
     "exception": false,
     "start_time": "2024-05-06T14:35:30.772708",
     "status": "completed"
    },
    "tags": []
   },
   "outputs": [],
   "source": [
    "# import the ES two-column query history \n",
    "query_history_file=\"/kaggle/input/es-query-history/es-query-history-v25.txt\"\n",
    "column_names = ['queries', 'volume']\n",
    "es_df = pd.read_csv(\n",
    "    query_history_file,\n",
    "    sep =\"\\t\",\n",
    "    names=column_names,\n",
    "    header=None\n",
    ")\n",
    "\n",
    "# add a counter column\n",
    "initial_value = 1\n",
    "es_df['counter'] = range(initial_value, len(es_df) +initial_value)"
   ]
  },
  {
   "cell_type": "markdown",
   "id": "a9171547",
   "metadata": {
    "papermill": {
     "duration": 0.012165,
     "end_time": "2024-05-06T14:35:30.915924",
     "exception": false,
     "start_time": "2024-05-06T14:35:30.903759",
     "status": "completed"
    },
    "tags": []
   },
   "source": [
    "# **Top 65 Queries**  <a class=\"anchor\"  id=\"Top65\"></a>"
   ]
  },
  {
   "cell_type": "code",
   "execution_count": 5,
   "id": "390f42c7",
   "metadata": {
    "execution": {
     "iopub.execute_input": "2024-05-06T14:35:30.943323Z",
     "iopub.status.busy": "2024-05-06T14:35:30.942894Z",
     "iopub.status.idle": "2024-05-06T14:35:30.948263Z",
     "shell.execute_reply": "2024-05-06T14:35:30.947088Z"
    },
    "papermill": {
     "duration": 0.021971,
     "end_time": "2024-05-06T14:35:30.950676",
     "exception": false,
     "start_time": "2024-05-06T14:35:30.928705",
     "status": "completed"
    },
    "tags": []
   },
   "outputs": [],
   "source": [
    "# Truncate to use just top 65 queries \n",
    "# Without this truncation, the long tail will be excessively right-skewed\n",
    "es_df = es_df.head(65)"
   ]
  },
  {
   "cell_type": "code",
   "execution_count": 6,
   "id": "860be0af",
   "metadata": {
    "execution": {
     "iopub.execute_input": "2024-05-06T14:35:30.977535Z",
     "iopub.status.busy": "2024-05-06T14:35:30.976877Z",
     "iopub.status.idle": "2024-05-06T14:35:31.090338Z",
     "shell.execute_reply": "2024-05-06T14:35:31.088960Z"
    },
    "papermill": {
     "duration": 0.129847,
     "end_time": "2024-05-06T14:35:31.092993",
     "exception": false,
     "start_time": "2024-05-06T14:35:30.963146",
     "status": "completed"
    },
    "tags": []
   },
   "outputs": [
    {
     "data": {
      "text/html": [
       "<style type=\"text/css\">\n",
       "</style>\n",
       "<table id=\"T_df489\" style='display:inline'>\n",
       "  <caption><b>ES Top Query Terms</b></caption>\n",
       "  <thead>\n",
       "    <tr>\n",
       "      <th class=\"blank level0\" >&nbsp;</th>\n",
       "      <th id=\"T_df489_level0_col0\" class=\"col_heading level0 col0\" >queries</th>\n",
       "      <th id=\"T_df489_level0_col1\" class=\"col_heading level0 col1\" >volume</th>\n",
       "      <th id=\"T_df489_level0_col2\" class=\"col_heading level0 col2\" >counter</th>\n",
       "    </tr>\n",
       "  </thead>\n",
       "  <tbody>\n",
       "    <tr>\n",
       "      <th id=\"T_df489_level0_row0\" class=\"row_heading level0 row0\" >0</th>\n",
       "      <td id=\"T_df489_row0_col0\" class=\"data row0 col0\" >scholarship</td>\n",
       "      <td id=\"T_df489_row0_col1\" class=\"data row0 col1\" >2148</td>\n",
       "      <td id=\"T_df489_row0_col2\" class=\"data row0 col2\" >1</td>\n",
       "    </tr>\n",
       "    <tr>\n",
       "      <th id=\"T_df489_level0_row1\" class=\"row_heading level0 row1\" >1</th>\n",
       "      <td id=\"T_df489_row1_col0\" class=\"data row1 col0\" >fees</td>\n",
       "      <td id=\"T_df489_row1_col1\" class=\"data row1 col1\" >1941</td>\n",
       "      <td id=\"T_df489_row1_col2\" class=\"data row1 col2\" >2</td>\n",
       "    </tr>\n",
       "    <tr>\n",
       "      <th id=\"T_df489_level0_row2\" class=\"row_heading level0 row2\" >2</th>\n",
       "      <td id=\"T_df489_row2_col0\" class=\"data row2 col0\" >library</td>\n",
       "      <td id=\"T_df489_row2_col1\" class=\"data row2 col1\" >1849</td>\n",
       "      <td id=\"T_df489_row2_col2\" class=\"data row2 col2\" >3</td>\n",
       "    </tr>\n",
       "    <tr>\n",
       "      <th id=\"T_df489_level0_row3\" class=\"row_heading level0 row3\" >3</th>\n",
       "      <td id=\"T_df489_row3_col0\" class=\"data row3 col0\" >phd</td>\n",
       "      <td id=\"T_df489_row3_col1\" class=\"data row3 col1\" >1751</td>\n",
       "      <td id=\"T_df489_row3_col2\" class=\"data row3 col2\" >4</td>\n",
       "    </tr>\n",
       "    <tr>\n",
       "      <th id=\"T_df489_level0_row4\" class=\"row_heading level0 row4\" >4</th>\n",
       "      <td id=\"T_df489_row4_col0\" class=\"data row4 col0\" >medicine</td>\n",
       "      <td id=\"T_df489_row4_col1\" class=\"data row4 col1\" >1573</td>\n",
       "      <td id=\"T_df489_row4_col2\" class=\"data row4 col2\" >5</td>\n",
       "    </tr>\n",
       "    <tr>\n",
       "      <th id=\"T_df489_level0_row5\" class=\"row_heading level0 row5\" >5</th>\n",
       "      <td id=\"T_df489_row5_col0\" class=\"data row5 col0\" >psychology</td>\n",
       "      <td id=\"T_df489_row5_col1\" class=\"data row5 col1\" >1421</td>\n",
       "      <td id=\"T_df489_row5_col2\" class=\"data row5 col2\" >6</td>\n",
       "    </tr>\n",
       "    <tr>\n",
       "      <th id=\"T_df489_level0_row6\" class=\"row_heading level0 row6\" >6</th>\n",
       "      <td id=\"T_df489_row6_col0\" class=\"data row6 col0\" >erasmus</td>\n",
       "      <td id=\"T_df489_row6_col1\" class=\"data row6 col1\" >1322</td>\n",
       "      <td id=\"T_df489_row6_col2\" class=\"data row6 col2\" >7</td>\n",
       "    </tr>\n",
       "    <tr>\n",
       "      <th id=\"T_df489_level0_row7\" class=\"row_heading level0 row7\" >7</th>\n",
       "      <td id=\"T_df489_row7_col0\" class=\"data row7 col0\" >courses esc</td>\n",
       "      <td id=\"T_df489_row7_col1\" class=\"data row7 col1\" >1190</td>\n",
       "      <td id=\"T_df489_row7_col2\" class=\"data row7 col2\" >8</td>\n",
       "    </tr>\n",
       "    <tr>\n",
       "      <th id=\"T_df489_level0_row8\" class=\"row_heading level0 row8\" >8</th>\n",
       "      <td id=\"T_df489_row8_col0\" class=\"data row8 col0\" >vacancies</td>\n",
       "      <td id=\"T_df489_row8_col1\" class=\"data row8 col1\" >1153</td>\n",
       "      <td id=\"T_df489_row8_col2\" class=\"data row8 col2\" >9</td>\n",
       "    </tr>\n",
       "    <tr>\n",
       "      <th id=\"T_df489_level0_row9\" class=\"row_heading level0 row9\" >9</th>\n",
       "      <td id=\"T_df489_row9_col0\" class=\"data row9 col0\" >law</td>\n",
       "      <td id=\"T_df489_row9_col1\" class=\"data row9 col1\" >1128</td>\n",
       "      <td id=\"T_df489_row9_col2\" class=\"data row9 col2\" >10</td>\n",
       "    </tr>\n",
       "    <tr>\n",
       "      <th id=\"T_df489_level0_row10\" class=\"row_heading level0 row10\" >10</th>\n",
       "      <td id=\"T_df489_row10_col0\" class=\"data row10 col0\" >scholarships</td>\n",
       "      <td id=\"T_df489_row10_col1\" class=\"data row10 col1\" >981</td>\n",
       "      <td id=\"T_df489_row10_col2\" class=\"data row10 col2\" >11</td>\n",
       "    </tr>\n",
       "    <tr>\n",
       "      <th id=\"T_df489_level0_row11\" class=\"row_heading level0 row11\" >11</th>\n",
       "      <td id=\"T_df489_row11_col0\" class=\"data row11 col0\" >accommodation</td>\n",
       "      <td id=\"T_df489_row11_col1\" class=\"data row11 col1\" >962</td>\n",
       "      <td id=\"T_df489_row11_col2\" class=\"data row11 col2\" >12</td>\n",
       "    </tr>\n",
       "    <tr>\n",
       "      <th id=\"T_df489_level0_row12\" class=\"row_heading level0 row12\" >12</th>\n",
       "      <td id=\"T_df489_row12_col0\" class=\"data row12 col0\" >calendar</td>\n",
       "      <td id=\"T_df489_row12_col1\" class=\"data row12 col1\" >956</td>\n",
       "      <td id=\"T_df489_row12_col2\" class=\"data row12 col2\" >13</td>\n",
       "    </tr>\n",
       "    <tr>\n",
       "      <th id=\"T_df489_level0_row13\" class=\"row_heading level0 row13\" >13</th>\n",
       "      <td id=\"T_df489_row13_col0\" class=\"data row13 col0\" >jobs</td>\n",
       "      <td id=\"T_df489_row13_col1\" class=\"data row13 col1\" >919</td>\n",
       "      <td id=\"T_df489_row13_col2\" class=\"data row13 col2\" >14</td>\n",
       "    </tr>\n",
       "    <tr>\n",
       "      <th id=\"T_df489_level0_row14\" class=\"row_heading level0 row14\" >14</th>\n",
       "      <td id=\"T_df489_row14_col0\" class=\"data row14 col0\" >accomodation</td>\n",
       "      <td id=\"T_df489_row14_col1\" class=\"data row14 col1\" >909</td>\n",
       "      <td id=\"T_df489_row14_col2\" class=\"data row14 col2\" >15</td>\n",
       "    </tr>\n",
       "    <tr>\n",
       "      <th id=\"T_df489_level0_row15\" class=\"row_heading level0 row15\" >15</th>\n",
       "      <td id=\"T_df489_row15_col0\" class=\"data row15 col0\" >computer science</td>\n",
       "      <td id=\"T_df489_row15_col1\" class=\"data row15 col1\" >887</td>\n",
       "      <td id=\"T_df489_row15_col2\" class=\"data row15 col2\" >16</td>\n",
       "    </tr>\n",
       "    <tr>\n",
       "      <th id=\"T_df489_level0_row16\" class=\"row_heading level0 row16\" >16</th>\n",
       "      <td id=\"T_df489_row16_col0\" class=\"data row16 col0\" >accommodation contactus</td>\n",
       "      <td id=\"T_df489_row16_col1\" class=\"data row16 col1\" >803</td>\n",
       "      <td id=\"T_df489_row16_col2\" class=\"data row16 col2\" >17</td>\n",
       "    </tr>\n",
       "    <tr>\n",
       "      <th id=\"T_df489_level0_row17\" class=\"row_heading level0 row17\" >17</th>\n",
       "      <td id=\"T_df489_row17_col0\" class=\"data row17 col0\" >apply</td>\n",
       "      <td id=\"T_df489_row17_col1\" class=\"data row17 col1\" >765</td>\n",
       "      <td id=\"T_df489_row17_col2\" class=\"data row17 col2\" >18</td>\n",
       "    </tr>\n",
       "    <tr>\n",
       "      <th id=\"T_df489_level0_row18\" class=\"row_heading level0 row18\" >18</th>\n",
       "      <td id=\"T_df489_row18_col0\" class=\"data row18 col0\" >tuition</td>\n",
       "      <td id=\"T_df489_row18_col1\" class=\"data row18 col1\" >728</td>\n",
       "      <td id=\"T_df489_row18_col2\" class=\"data row18 col2\" >19</td>\n",
       "    </tr>\n",
       "    <tr>\n",
       "      <th id=\"T_df489_level0_row19\" class=\"row_heading level0 row19\" >19</th>\n",
       "      <td id=\"T_df489_row19_col0\" class=\"data row19 col0\" >accommodation studentsandstaff</td>\n",
       "      <td id=\"T_df489_row19_col1\" class=\"data row19 col1\" >724</td>\n",
       "      <td id=\"T_df489_row19_col2\" class=\"data row19 col2\" >20</td>\n",
       "    </tr>\n",
       "    <tr>\n",
       "      <th id=\"T_df489_level0_row20\" class=\"row_heading level0 row20\" >20</th>\n",
       "      <td id=\"T_df489_row20_col0\" class=\"data row20 col0\" >hr</td>\n",
       "      <td id=\"T_df489_row20_col1\" class=\"data row20 col1\" >688</td>\n",
       "      <td id=\"T_df489_row20_col2\" class=\"data row20 col2\" >21</td>\n",
       "    </tr>\n",
       "    <tr>\n",
       "      <th id=\"T_df489_level0_row21\" class=\"row_heading level0 row21\" >21</th>\n",
       "      <td id=\"T_df489_row21_col0\" class=\"data row21 col0\" >english</td>\n",
       "      <td id=\"T_df489_row21_col1\" class=\"data row21 col1\" >652</td>\n",
       "      <td id=\"T_df489_row21_col2\" class=\"data row21 col2\" >22</td>\n",
       "    </tr>\n",
       "    <tr>\n",
       "      <th id=\"T_df489_level0_row22\" class=\"row_heading level0 row22\" >22</th>\n",
       "      <td id=\"T_df489_row22_col0\" class=\"data row22 col0\" >book of kells</td>\n",
       "      <td id=\"T_df489_row22_col1\" class=\"data row22 col1\" >637</td>\n",
       "      <td id=\"T_df489_row22_col2\" class=\"data row22 col2\" >23</td>\n",
       "    </tr>\n",
       "    <tr>\n",
       "      <th id=\"T_df489_level0_row23\" class=\"row_heading level0 row23\" >23</th>\n",
       "      <td id=\"T_df489_row23_col0\" class=\"data row23 col0\" >mba</td>\n",
       "      <td id=\"T_df489_row23_col1\" class=\"data row23 col1\" >603</td>\n",
       "      <td id=\"T_df489_row23_col2\" class=\"data row23 col2\" >24</td>\n",
       "    </tr>\n",
       "    <tr>\n",
       "      <th id=\"T_df489_level0_row24\" class=\"row_heading level0 row24\" >24</th>\n",
       "      <td id=\"T_df489_row24_col0\" class=\"data row24 col0\" >engineering</td>\n",
       "      <td id=\"T_df489_row24_col1\" class=\"data row24 col1\" >596</td>\n",
       "      <td id=\"T_df489_row24_col2\" class=\"data row24 col2\" >25</td>\n",
       "    </tr>\n",
       "    <tr>\n",
       "      <th id=\"T_df489_level0_row25\" class=\"row_heading level0 row25\" >25</th>\n",
       "      <td id=\"T_df489_row25_col0\" class=\"data row25 col0\" >music</td>\n",
       "      <td id=\"T_df489_row25_col1\" class=\"data row25 col1\" >578</td>\n",
       "      <td id=\"T_df489_row25_col2\" class=\"data row25 col2\" >26</td>\n",
       "    </tr>\n",
       "    <tr>\n",
       "      <th id=\"T_df489_level0_row26\" class=\"row_heading level0 row26\" >26</th>\n",
       "      <td id=\"T_df489_row26_col0\" class=\"data row26 col0\" >business</td>\n",
       "      <td id=\"T_df489_row26_col1\" class=\"data row26 col1\" >573</td>\n",
       "      <td id=\"T_df489_row26_col2\" class=\"data row26 col2\" >27</td>\n",
       "    </tr>\n",
       "    <tr>\n",
       "      <th id=\"T_df489_level0_row27\" class=\"row_heading level0 row27\" >27</th>\n",
       "      <td id=\"T_df489_row27_col0\" class=\"data row27 col0\" >secretary communications noticeboard</td>\n",
       "      <td id=\"T_df489_row27_col1\" class=\"data row27 col1\" >570</td>\n",
       "      <td id=\"T_df489_row27_col2\" class=\"data row27 col2\" >28</td>\n",
       "    </tr>\n",
       "    <tr>\n",
       "      <th id=\"T_df489_level0_row28\" class=\"row_heading level0 row28\" >28</th>\n",
       "      <td id=\"T_df489_row28_col0\" class=\"data row28 col0\" >international</td>\n",
       "      <td id=\"T_df489_row28_col1\" class=\"data row28 col1\" >569</td>\n",
       "      <td id=\"T_df489_row28_col2\" class=\"data row28 col2\" >29</td>\n",
       "    </tr>\n",
       "    <tr>\n",
       "      <th id=\"T_df489_level0_row29\" class=\"row_heading level0 row29\" >29</th>\n",
       "      <td id=\"T_df489_row29_col0\" class=\"data row29 col0\" >history</td>\n",
       "      <td id=\"T_df489_row29_col1\" class=\"data row29 col1\" >563</td>\n",
       "      <td id=\"T_df489_row29_col2\" class=\"data row29 col2\" >30</td>\n",
       "    </tr>\n",
       "    <tr>\n",
       "      <th id=\"T_df489_level0_row30\" class=\"row_heading level0 row30\" >30</th>\n",
       "      <td id=\"T_df489_row30_col0\" class=\"data row30 col0\" >blackboard</td>\n",
       "      <td id=\"T_df489_row30_col1\" class=\"data row30 col1\" >551</td>\n",
       "      <td id=\"T_df489_row30_col2\" class=\"data row30 col2\" >31</td>\n",
       "    </tr>\n",
       "    <tr>\n",
       "      <th id=\"T_df489_level0_row31\" class=\"row_heading level0 row31\" >31</th>\n",
       "      <td id=\"T_df489_row31_col0\" class=\"data row31 col0\" >nursing</td>\n",
       "      <td id=\"T_df489_row31_col1\" class=\"data row31 col1\" >550</td>\n",
       "      <td id=\"T_df489_row31_col2\" class=\"data row31 col2\" >32</td>\n",
       "    </tr>\n",
       "    <tr>\n",
       "      <th id=\"T_df489_level0_row32\" class=\"row_heading level0 row32\" >32</th>\n",
       "      <td id=\"T_df489_row32_col0\" class=\"data row32 col0\" >courses</td>\n",
       "      <td id=\"T_df489_row32_col1\" class=\"data row32 col1\" >538</td>\n",
       "      <td id=\"T_df489_row32_col2\" class=\"data row32 col2\" >33</td>\n",
       "    </tr>\n",
       "    <tr>\n",
       "      <th id=\"T_df489_level0_row33\" class=\"row_heading level0 row33\" >33</th>\n",
       "      <td id=\"T_df489_row33_col0\" class=\"data row33 col0\" >open day</td>\n",
       "      <td id=\"T_df489_row33_col1\" class=\"data row33 col1\" >510</td>\n",
       "      <td id=\"T_df489_row33_col2\" class=\"data row33 col2\" >34</td>\n",
       "    </tr>\n",
       "    <tr>\n",
       "      <th id=\"T_df489_level0_row34\" class=\"row_heading level0 row34\" >34</th>\n",
       "      <td id=\"T_df489_row34_col0\" class=\"data row34 col0\" >application</td>\n",
       "      <td id=\"T_df489_row34_col1\" class=\"data row34 col1\" >495</td>\n",
       "      <td id=\"T_df489_row34_col2\" class=\"data row34 col2\" >35</td>\n",
       "    </tr>\n",
       "    <tr>\n",
       "      <th id=\"T_df489_level0_row35\" class=\"row_heading level0 row35\" >35</th>\n",
       "      <td id=\"T_df489_row35_col0\" class=\"data row35 col0\" >graduatestudies students prospective awards</td>\n",
       "      <td id=\"T_df489_row35_col1\" class=\"data row35 col1\" >481</td>\n",
       "      <td id=\"T_df489_row35_col2\" class=\"data row35 col2\" >36</td>\n",
       "    </tr>\n",
       "    <tr>\n",
       "      <th id=\"T_df489_level0_row36\" class=\"row_heading level0 row36\" >36</th>\n",
       "      <td id=\"T_df489_row36_col0\" class=\"data row36 col0\" >library bookofkells</td>\n",
       "      <td id=\"T_df489_row36_col1\" class=\"data row36 col1\" >479</td>\n",
       "      <td id=\"T_df489_row36_col2\" class=\"data row36 col2\" >37</td>\n",
       "    </tr>\n",
       "    <tr>\n",
       "      <th id=\"T_df489_level0_row37\" class=\"row_heading level0 row37\" >37</th>\n",
       "      <td id=\"T_df489_row37_col0\" class=\"data row37 col0\" >fee</td>\n",
       "      <td id=\"T_df489_row37_col1\" class=\"data row37 col1\" >472</td>\n",
       "      <td id=\"T_df489_row37_col2\" class=\"data row37 col2\" >38</td>\n",
       "    </tr>\n",
       "    <tr>\n",
       "      <th id=\"T_df489_level0_row38\" class=\"row_heading level0 row38\" >38</th>\n",
       "      <td id=\"T_df489_row38_col0\" class=\"data row38 col0\" >business msc international requirements</td>\n",
       "      <td id=\"T_df489_row38_col1\" class=\"data row38 col1\" >457</td>\n",
       "      <td id=\"T_df489_row38_col2\" class=\"data row38 col2\" >39</td>\n",
       "    </tr>\n",
       "    <tr>\n",
       "      <th id=\"T_df489_level0_row39\" class=\"row_heading level0 row39\" >39</th>\n",
       "      <td id=\"T_df489_row39_col0\" class=\"data row39 col0\" >pharmacy</td>\n",
       "      <td id=\"T_df489_row39_col1\" class=\"data row39 col1\" >448</td>\n",
       "      <td id=\"T_df489_row39_col2\" class=\"data row39 col2\" >40</td>\n",
       "    </tr>\n",
       "    <tr>\n",
       "      <th id=\"T_df489_level0_row40\" class=\"row_heading level0 row40\" >40</th>\n",
       "      <td id=\"T_df489_row40_col0\" class=\"data row40 col0\" >library bookofkells old library</td>\n",
       "      <td id=\"T_df489_row40_col1\" class=\"data row40 col1\" >431</td>\n",
       "      <td id=\"T_df489_row40_col2\" class=\"data row40 col2\" >41</td>\n",
       "    </tr>\n",
       "    <tr>\n",
       "      <th id=\"T_df489_level0_row41\" class=\"row_heading level0 row41\" >41</th>\n",
       "      <td id=\"T_df489_row41_col0\" class=\"data row41 col0\" >human resources</td>\n",
       "      <td id=\"T_df489_row41_col1\" class=\"data row41 col1\" >431</td>\n",
       "      <td id=\"T_df489_row41_col2\" class=\"data row41 col2\" >42</td>\n",
       "    </tr>\n",
       "    <tr>\n",
       "      <th id=\"T_df489_level0_row42\" class=\"row_heading level0 row42\" >42</th>\n",
       "      <td id=\"T_df489_row42_col0\" class=\"data row42 col0\" >dentistry</td>\n",
       "      <td id=\"T_df489_row42_col1\" class=\"data row42 col1\" >431</td>\n",
       "      <td id=\"T_df489_row42_col2\" class=\"data row42 col2\" >43</td>\n",
       "    </tr>\n",
       "    <tr>\n",
       "      <th id=\"T_df489_level0_row43\" class=\"row_heading level0 row43\" >43</th>\n",
       "      <td id=\"T_df489_row43_col0\" class=\"data row43 col0\" >finance</td>\n",
       "      <td id=\"T_df489_row43_col1\" class=\"data row43 col1\" >428</td>\n",
       "      <td id=\"T_df489_row43_col2\" class=\"data row43 col2\" >44</td>\n",
       "    </tr>\n",
       "    <tr>\n",
       "      <th id=\"T_df489_level0_row44\" class=\"row_heading level0 row44\" >44</th>\n",
       "      <td id=\"T_df489_row44_col0\" class=\"data row44 col0\" >master</td>\n",
       "      <td id=\"T_df489_row44_col1\" class=\"data row44 col1\" >426</td>\n",
       "      <td id=\"T_df489_row44_col2\" class=\"data row44 col2\" >45</td>\n",
       "    </tr>\n",
       "    <tr>\n",
       "      <th id=\"T_df489_level0_row45\" class=\"row_heading level0 row45\" >45</th>\n",
       "      <td id=\"T_df489_row45_col0\" class=\"data row45 col0\" >careers</td>\n",
       "      <td id=\"T_df489_row45_col1\" class=\"data row45 col1\" >422</td>\n",
       "      <td id=\"T_df489_row45_col2\" class=\"data row45 col2\" >46</td>\n",
       "    </tr>\n",
       "    <tr>\n",
       "      <th id=\"T_df489_level0_row46\" class=\"row_heading level0 row46\" >46</th>\n",
       "      <td id=\"T_df489_row46_col0\" class=\"data row46 col0\" >economics</td>\n",
       "      <td id=\"T_df489_row46_col1\" class=\"data row46 col1\" >416</td>\n",
       "      <td id=\"T_df489_row46_col2\" class=\"data row46 col2\" >47</td>\n",
       "    </tr>\n",
       "    <tr>\n",
       "      <th id=\"T_df489_level0_row47\" class=\"row_heading level0 row47\" >47</th>\n",
       "      <td id=\"T_df489_row47_col0\" class=\"data row47 col0\" >exchange</td>\n",
       "      <td id=\"T_df489_row47_col1\" class=\"data row47 col1\" >414</td>\n",
       "      <td id=\"T_df489_row47_col2\" class=\"data row47 col2\" >48</td>\n",
       "    </tr>\n",
       "    <tr>\n",
       "      <th id=\"T_df489_level0_row48\" class=\"row_heading level0 row48\" >48</th>\n",
       "      <td id=\"T_df489_row48_col0\" class=\"data row48 col0\" >ahss columbia</td>\n",
       "      <td id=\"T_df489_row48_col1\" class=\"data row48 col1\" >414</td>\n",
       "      <td id=\"T_df489_row48_col2\" class=\"data row48 col2\" >49</td>\n",
       "    </tr>\n",
       "    <tr>\n",
       "      <th id=\"T_df489_level0_row49\" class=\"row_heading level0 row49\" >49</th>\n",
       "      <td id=\"T_df489_row49_col0\" class=\"data row49 col0\" >marketing</td>\n",
       "      <td id=\"T_df489_row49_col1\" class=\"data row49 col1\" >393</td>\n",
       "      <td id=\"T_df489_row49_col2\" class=\"data row49 col2\" >50</td>\n",
       "    </tr>\n",
       "    <tr>\n",
       "      <th id=\"T_df489_level0_row50\" class=\"row_heading level0 row50\" >50</th>\n",
       "      <td id=\"T_df489_row50_col0\" class=\"data row50 col0\" >creativearts students current</td>\n",
       "      <td id=\"T_df489_row50_col1\" class=\"data row50 col1\" >386</td>\n",
       "      <td id=\"T_df489_row50_col2\" class=\"data row50 col2\" >51</td>\n",
       "    </tr>\n",
       "    <tr>\n",
       "      <th id=\"T_df489_level0_row51\" class=\"row_heading level0 row51\" >51</th>\n",
       "      <td id=\"T_df489_row51_col0\" class=\"data row51 col0\" >film</td>\n",
       "      <td id=\"T_df489_row51_col1\" class=\"data row51 col1\" >384</td>\n",
       "      <td id=\"T_df489_row51_col2\" class=\"data row51 col2\" >52</td>\n",
       "    </tr>\n",
       "    <tr>\n",
       "      <th id=\"T_df489_level0_row52\" class=\"row_heading level0 row52\" >52</th>\n",
       "      <td id=\"T_df489_row52_col0\" class=\"data row52 col0\" >study abroad</td>\n",
       "      <td id=\"T_df489_row52_col1\" class=\"data row52 col1\" >364</td>\n",
       "      <td id=\"T_df489_row52_col2\" class=\"data row52 col2\" >53</td>\n",
       "    </tr>\n",
       "    <tr>\n",
       "      <th id=\"T_df489_level0_row53\" class=\"row_heading level0 row53\" >53</th>\n",
       "      <td id=\"T_df489_row53_col0\" class=\"data row53 col0\" >academic registry</td>\n",
       "      <td id=\"T_df489_row53_col1\" class=\"data row53 col1\" >361</td>\n",
       "      <td id=\"T_df489_row53_col2\" class=\"data row53 col2\" >54</td>\n",
       "    </tr>\n",
       "    <tr>\n",
       "      <th id=\"T_df489_level0_row54\" class=\"row_heading level0 row54\" >54</th>\n",
       "      <td id=\"T_df489_row54_col0\" class=\"data row54 col0\" >orientation</td>\n",
       "      <td id=\"T_df489_row54_col1\" class=\"data row54 col1\" >359</td>\n",
       "      <td id=\"T_df489_row54_col2\" class=\"data row54 col2\" >55</td>\n",
       "    </tr>\n",
       "    <tr>\n",
       "      <th id=\"T_df489_level0_row55\" class=\"row_heading level0 row55\" >55</th>\n",
       "      <td id=\"T_df489_row55_col0\" class=\"data row55 col0\" >architecture</td>\n",
       "      <td id=\"T_df489_row55_col1\" class=\"data row55 col1\" >355</td>\n",
       "      <td id=\"T_df489_row55_col2\" class=\"data row55 col2\" >56</td>\n",
       "    </tr>\n",
       "    <tr>\n",
       "      <th id=\"T_df489_level0_row56\" class=\"row_heading level0 row56\" >56</th>\n",
       "      <td id=\"T_df489_row56_col0\" class=\"data row56 col0\" >masters</td>\n",
       "      <td id=\"T_df489_row56_col1\" class=\"data row56 col1\" >353</td>\n",
       "      <td id=\"T_df489_row56_col2\" class=\"data row56 col2\" >57</td>\n",
       "    </tr>\n",
       "    <tr>\n",
       "      <th id=\"T_df489_level0_row57\" class=\"row_heading level0 row57\" >57</th>\n",
       "      <td id=\"T_df489_row57_col0\" class=\"data row57 col0\" >handbook</td>\n",
       "      <td id=\"T_df489_row57_col1\" class=\"data row57 col1\" >351</td>\n",
       "      <td id=\"T_df489_row57_col2\" class=\"data row57 col2\" >58</td>\n",
       "    </tr>\n",
       "    <tr>\n",
       "      <th id=\"T_df489_level0_row58\" class=\"row_heading level0 row58\" >58</th>\n",
       "      <td id=\"T_df489_row58_col0\" class=\"data row58 col0\" >philosophy</td>\n",
       "      <td id=\"T_df489_row58_col1\" class=\"data row58 col1\" >350</td>\n",
       "      <td id=\"T_df489_row58_col2\" class=\"data row58 col2\" >59</td>\n",
       "    </tr>\n",
       "    <tr>\n",
       "      <th id=\"T_df489_level0_row59\" class=\"row_heading level0 row59\" >59</th>\n",
       "      <td id=\"T_df489_row59_col0\" class=\"data row59 col0\" >admission</td>\n",
       "      <td id=\"T_df489_row59_col1\" class=\"data row59 col1\" >350</td>\n",
       "      <td id=\"T_df489_row59_col2\" class=\"data row59 col2\" >60</td>\n",
       "    </tr>\n",
       "    <tr>\n",
       "      <th id=\"T_df489_level0_row60\" class=\"row_heading level0 row60\" >60</th>\n",
       "      <td id=\"T_df489_row60_col0\" class=\"data row60 col0\" >admissions</td>\n",
       "      <td id=\"T_df489_row60_col1\" class=\"data row60 col1\" >344</td>\n",
       "      <td id=\"T_df489_row60_col2\" class=\"data row60 col2\" >61</td>\n",
       "    </tr>\n",
       "    <tr>\n",
       "      <th id=\"T_df489_level0_row61\" class=\"row_heading level0 row61\" >61</th>\n",
       "      <td id=\"T_df489_row61_col0\" class=\"data row61 col0\" >fis</td>\n",
       "      <td id=\"T_df489_row61_col1\" class=\"data row61 col1\" >343</td>\n",
       "      <td id=\"T_df489_row61_col2\" class=\"data row61 col2\" >62</td>\n",
       "    </tr>\n",
       "    <tr>\n",
       "      <th id=\"T_df489_level0_row62\" class=\"row_heading level0 row62\" >62</th>\n",
       "      <td id=\"T_df489_row62_col0\" class=\"data row62 col0\" >data science</td>\n",
       "      <td id=\"T_df489_row62_col1\" class=\"data row62 col1\" >343</td>\n",
       "      <td id=\"T_df489_row62_col2\" class=\"data row62 col2\" >63</td>\n",
       "    </tr>\n",
       "    <tr>\n",
       "      <th id=\"T_df489_level0_row63\" class=\"row_heading level0 row63\" >63</th>\n",
       "      <td id=\"T_df489_row63_col0\" class=\"data row63 col0\" >procurement</td>\n",
       "      <td id=\"T_df489_row63_col1\" class=\"data row63 col1\" >341</td>\n",
       "      <td id=\"T_df489_row63_col2\" class=\"data row63 col2\" >64</td>\n",
       "    </tr>\n",
       "    <tr>\n",
       "      <th id=\"T_df489_level0_row64\" class=\"row_heading level0 row64\" >64</th>\n",
       "      <td id=\"T_df489_row64_col0\" class=\"data row64 col0\" >business msc unibuddy</td>\n",
       "      <td id=\"T_df489_row64_col1\" class=\"data row64 col1\" >337</td>\n",
       "      <td id=\"T_df489_row64_col2\" class=\"data row64 col2\" >65</td>\n",
       "    </tr>\n",
       "  </tbody>\n",
       "</table>\n"
      ]
     },
     "metadata": {},
     "output_type": "display_data"
    }
   ],
   "source": [
    "from IPython.display import display_html \n",
    "\n",
    "number=65\n",
    "es_df_top=es_df.head(number)\n",
    "\n",
    "es_df_styler = es_df_top.style.set_table_attributes(\"style='display:inline'\").set_caption('<b>ES Top Query Terms</b>')\n",
    "\n",
    "#display_html(es_df_styler._repr_html_()+ws_df_styler._repr_html_(), raw=True)\n",
    "display_html(es_df_styler._repr_html_(), raw=True)"
   ]
  },
  {
   "cell_type": "markdown",
   "id": "676a89f2",
   "metadata": {
    "papermill": {
     "duration": 0.012554,
     "end_time": "2024-05-06T14:35:31.118556",
     "exception": false,
     "start_time": "2024-05-06T14:35:31.106002",
     "status": "completed"
    },
    "tags": []
   },
   "source": [
    "# **GPT-4 Synonyms**  <a class=\"anchor\"  id=\"GPT-4\"></a>"
   ]
  },
  {
   "cell_type": "code",
   "execution_count": 7,
   "id": "240503be",
   "metadata": {
    "execution": {
     "iopub.execute_input": "2024-05-06T14:35:31.146784Z",
     "iopub.status.busy": "2024-05-06T14:35:31.145955Z",
     "iopub.status.idle": "2024-05-06T14:35:49.758191Z",
     "shell.execute_reply": "2024-05-06T14:35:49.756842Z"
    },
    "papermill": {
     "duration": 18.629898,
     "end_time": "2024-05-06T14:35:49.761353",
     "exception": false,
     "start_time": "2024-05-06T14:35:31.131455",
     "status": "completed"
    },
    "tags": []
   },
   "outputs": [
    {
     "name": "stdout",
     "output_type": "stream",
     "text": [
      "Collecting openai\r\n",
      "  Downloading openai-1.25.2-py3-none-any.whl.metadata (21 kB)\r\n",
      "Requirement already satisfied: anyio<5,>=3.5.0 in /opt/conda/lib/python3.10/site-packages (from openai) (4.2.0)\r\n",
      "Requirement already satisfied: distro<2,>=1.7.0 in /opt/conda/lib/python3.10/site-packages (from openai) (1.9.0)\r\n",
      "Requirement already satisfied: httpx<1,>=0.23.0 in /opt/conda/lib/python3.10/site-packages (from openai) (0.27.0)\r\n",
      "Requirement already satisfied: pydantic<3,>=1.9.0 in /opt/conda/lib/python3.10/site-packages (from openai) (2.5.3)\r\n",
      "Requirement already satisfied: sniffio in /opt/conda/lib/python3.10/site-packages (from openai) (1.3.0)\r\n",
      "Requirement already satisfied: tqdm>4 in /opt/conda/lib/python3.10/site-packages (from openai) (4.66.1)\r\n",
      "Requirement already satisfied: typing-extensions<5,>=4.7 in /opt/conda/lib/python3.10/site-packages (from openai) (4.9.0)\r\n",
      "Requirement already satisfied: idna>=2.8 in /opt/conda/lib/python3.10/site-packages (from anyio<5,>=3.5.0->openai) (3.6)\r\n",
      "Requirement already satisfied: exceptiongroup>=1.0.2 in /opt/conda/lib/python3.10/site-packages (from anyio<5,>=3.5.0->openai) (1.2.0)\r\n",
      "Requirement already satisfied: certifi in /opt/conda/lib/python3.10/site-packages (from httpx<1,>=0.23.0->openai) (2024.2.2)\r\n",
      "Requirement already satisfied: httpcore==1.* in /opt/conda/lib/python3.10/site-packages (from httpx<1,>=0.23.0->openai) (1.0.4)\r\n",
      "Requirement already satisfied: h11<0.15,>=0.13 in /opt/conda/lib/python3.10/site-packages (from httpcore==1.*->httpx<1,>=0.23.0->openai) (0.14.0)\r\n",
      "Requirement already satisfied: annotated-types>=0.4.0 in /opt/conda/lib/python3.10/site-packages (from pydantic<3,>=1.9.0->openai) (0.6.0)\r\n",
      "Requirement already satisfied: pydantic-core==2.14.6 in /opt/conda/lib/python3.10/site-packages (from pydantic<3,>=1.9.0->openai) (2.14.6)\r\n",
      "Downloading openai-1.25.2-py3-none-any.whl (312 kB)\r\n",
      "\u001b[2K   \u001b[90m━━━━━━━━━━━━━━━━━━━━━━━━━━━━━━━━━━━━━━━━\u001b[0m \u001b[32m312.9/312.9 kB\u001b[0m \u001b[31m7.4 MB/s\u001b[0m eta \u001b[36m0:00:00\u001b[0m\r\n",
      "\u001b[?25hInstalling collected packages: openai\r\n",
      "Successfully installed openai-1.25.2\r\n"
     ]
    }
   ],
   "source": [
    "try:\n",
    "    import openai\n",
    "except:\n",
    "    !pip install openai\n",
    "    import openai\n",
    "    \n",
    "from openai import OpenAI\n"
   ]
  },
  {
   "cell_type": "code",
   "execution_count": 8,
   "id": "e7dbd542",
   "metadata": {
    "execution": {
     "iopub.execute_input": "2024-05-06T14:35:49.791139Z",
     "iopub.status.busy": "2024-05-06T14:35:49.790725Z",
     "iopub.status.idle": "2024-05-06T14:35:49.820193Z",
     "shell.execute_reply": "2024-05-06T14:35:49.819159Z"
    },
    "papermill": {
     "duration": 0.047392,
     "end_time": "2024-05-06T14:35:49.822953",
     "exception": false,
     "start_time": "2024-05-06T14:35:49.775561",
     "status": "completed"
    },
    "tags": []
   },
   "outputs": [],
   "source": [
    "from dotenv import load_dotenv, find_dotenv\n",
    "_ = load_dotenv(\"/kaggle/input/hidden-abc/abc.env\")\n",
    "openai.api_key=os.getenv(\"OPENAI_API_KEY\")\n",
    "\n",
    "#print(openai.api_key)"
   ]
  },
  {
   "cell_type": "code",
   "execution_count": 9,
   "id": "0eeaf0a4",
   "metadata": {
    "execution": {
     "iopub.execute_input": "2024-05-06T14:35:49.853384Z",
     "iopub.status.busy": "2024-05-06T14:35:49.852970Z",
     "iopub.status.idle": "2024-05-06T14:35:49.859154Z",
     "shell.execute_reply": "2024-05-06T14:35:49.858080Z"
    },
    "papermill": {
     "duration": 0.024147,
     "end_time": "2024-05-06T14:35:49.861874",
     "exception": false,
     "start_time": "2024-05-06T14:35:49.837727",
     "status": "completed"
    },
    "tags": []
   },
   "outputs": [
    {
     "name": "stdout",
     "output_type": "stream",
     "text": [
      "['scholarship', 'fees', 'library', 'phd', 'medicine', 'psychology', 'erasmus', 'courses esc', 'vacancies', 'law', 'scholarships', 'accommodation', 'calendar', 'jobs', 'accomodation', 'computer science', 'accommodation contactus', 'apply', 'tuition', 'accommodation studentsandstaff', 'hr', 'english', 'book of kells', 'mba', 'engineering', 'music', 'business', 'secretary communications noticeboard', 'international', 'history', 'blackboard', 'nursing', 'courses', 'open day', 'application', 'graduatestudies students prospective awards', 'library bookofkells', 'fee', 'business msc international requirements', 'pharmacy', 'library bookofkells old library', 'human resources', 'dentistry', 'finance', 'master', 'careers', 'economics', 'exchange', 'ahss columbia', 'marketing', 'creativearts students current', 'film', 'study abroad', 'academic registry', 'orientation', 'architecture', 'masters', 'handbook', 'philosophy', 'admission', 'admissions', 'fis', 'data science', 'procurement', 'business msc unibuddy']\n"
     ]
    }
   ],
   "source": [
    "arr = es_df_top['queries'].values.tolist()\n",
    "print (arr)"
   ]
  },
  {
   "attachments": {
    "bc96ea7a-11c6-4fd1-9200-8a58eeeedad3.PNG": {
     "image/png": "[encoded data removed]"
    }
   },
   "cell_type": "markdown",
   "id": "66642d87",
   "metadata": {
    "papermill": {
     "duration": 0.013511,
     "end_time": "2024-05-06T14:35:49.889218",
     "exception": false,
     "start_time": "2024-05-06T14:35:49.875707",
     "status": "completed"
    },
    "tags": []
   },
   "source": [
    "**We need to break down the above array into smaller chunks to satisfy gpt-4 requirements.  Otherwise, the following message may appear: -**\n",
    "\n",
    "![fig-qac-chat-gpt-sorry-list-too-long.PNG](attachment:bc96ea7a-11c6-4fd1-9200-8a58eeeedad3.PNG)"
   ]
  },
  {
   "cell_type": "code",
   "execution_count": 10,
   "id": "5a67c1b4",
   "metadata": {
    "execution": {
     "iopub.execute_input": "2024-05-06T14:35:49.918647Z",
     "iopub.status.busy": "2024-05-06T14:35:49.918279Z",
     "iopub.status.idle": "2024-05-06T14:38:34.791837Z",
     "shell.execute_reply": "2024-05-06T14:38:34.790576Z"
    },
    "papermill": {
     "duration": 164.891942,
     "end_time": "2024-05-06T14:38:34.794958",
     "exception": false,
     "start_time": "2024-05-06T14:35:49.903016",
     "status": "completed"
    },
    "tags": []
   },
   "outputs": [],
   "source": [
    "client = OpenAI()\n",
    "MODEL = \"gpt-4\"\n",
    "n = 8\n",
    "s = 0\n",
    "#  {\"role\": \"user\", \"content\":  \"please list them in lower case letters with a comma separator'}, \n",
    "\n",
    "if USE_CACHED_GPT_RESULTS != 'TRUE': \n",
    "    !rm -f /kaggle/working/LLM-synonyms.json\n",
    "    for s in 0,8,16,24,32,40,48,56,64:\n",
    "    #for s in 0,8,16:\n",
    "        short_list = str(arr[s:n+s])[1:-1] \n",
    "        my_messages=[\n",
    "            {\"role\": \"user\", \"content\": \"create a flat, json-formatted, sorted, unnumbered list of the top 10 synonyms words or phrases for each of the words in the following array: -\"}, \n",
    "            {\"role\": \"user\", \"content\": \"Your output must always be in comma separated format, for example: \\\"word: synonym1, synonym2, synonym3, etc\\\"\"},\n",
    "            {\"role\": \"user\", \"content\": short_list},\n",
    "            ]\n",
    "        response = client.chat.completions.create(\n",
    "        model=MODEL,\n",
    "        messages=my_messages,\n",
    "        temperature=0,\n",
    "        )\n",
    "        with open('LLM-synonyms.json', 'a') as f:\n",
    "            print (response.choices[0].message.content, file=f)\n",
    "\n"
   ]
  },
  {
   "cell_type": "markdown",
   "id": "474dcff3",
   "metadata": {
    "papermill": {
     "duration": 0.013695,
     "end_time": "2024-05-06T14:38:34.823805",
     "exception": false,
     "start_time": "2024-05-06T14:38:34.810110",
     "status": "completed"
    },
    "tags": []
   },
   "source": [
    "Sorry, there seems to be a misunderstanding. The words \"business\", \"msc\", and \"unibuddy\" are likely contextually dependent and may not have clear synonyms. Synonyms for \"business\" might include \"commerce\", \"trade\", \"industry\", \"market\", etc. However, \"msc\" is normally an abbreviation for Master of Science, which has no synonym, and \"unibuddy\" seems to be the name of a particular platform or product, again with no obvious synonyms. If you're looking for synonyms for different words or maybe different representations of these terms, consider providing a bit more context.\n"
   ]
  },
  {
   "cell_type": "code",
   "execution_count": 11,
   "id": "81b0c069",
   "metadata": {
    "execution": {
     "iopub.execute_input": "2024-05-06T14:38:34.855235Z",
     "iopub.status.busy": "2024-05-06T14:38:34.854033Z",
     "iopub.status.idle": "2024-05-06T14:38:35.950422Z",
     "shell.execute_reply": "2024-05-06T14:38:35.948668Z"
    },
    "papermill": {
     "duration": 1.115141,
     "end_time": "2024-05-06T14:38:35.953441",
     "exception": false,
     "start_time": "2024-05-06T14:38:34.838300",
     "status": "completed"
    },
    "tags": []
   },
   "outputs": [
    {
     "name": "stdout",
     "output_type": "stream",
     "text": [
      "113 /kaggle/working/LLM-synonyms.json\r\n"
     ]
    }
   ],
   "source": [
    "# file size\n",
    "!wc -l /kaggle/working/LLM-synonyms.json"
   ]
  },
  {
   "cell_type": "code",
   "execution_count": 12,
   "id": "05068308",
   "metadata": {
    "execution": {
     "iopub.execute_input": "2024-05-06T14:38:35.984031Z",
     "iopub.status.busy": "2024-05-06T14:38:35.983575Z",
     "iopub.status.idle": "2024-05-06T14:38:39.317990Z",
     "shell.execute_reply": "2024-05-06T14:38:39.316810Z"
    },
    "papermill": {
     "duration": 3.353116,
     "end_time": "2024-05-06T14:38:39.320783",
     "exception": false,
     "start_time": "2024-05-06T14:38:35.967667",
     "status": "completed"
    },
    "tags": []
   },
   "outputs": [
    {
     "name": "stdout",
     "output_type": "stream",
     "text": [
      "67 /kaggle/working/LLM-synonyms.csv\r\n",
      "scholarship, grant, bursary, fellowship, financial aid, award, stipend, subsidy, assistance, endowment, aid\r\n",
      "fees, charges, cost, payment, price, expense, levy, tariff, dues, toll, rate\r\n",
      "library, bookstore, archive, repository, collection, depository, storehouse, treasury, reserve, stock, vault\r\n",
      "phd, doctorate, doctors degree, doctor of philosophy, highest degree, advanced degree, postgraduate degree, doctoral degree, doctor, dphil, dr.phil\r\n",
      "medicine, medication, drug, remedy, cure, treatment, pharmaceutical, prescription, medicament, therapy, healing\r\n",
      "psychology, psychoanalysis, behaviorism, psychiatry, psych, mental science, study of mind, cognitive science, mental processes, mind study, behavioural science\r\n",
      "erasmus, exchange program, student exchange, study abroad program, international study, academic exchange, scholarship program, mobility program, educational exchange, learning abroad, overseas study\r\n",
      "courses esc, classes, lessons, studies, programs, curriculum, syllabus, modules, subjects, disciplines, coursework\r\n",
      "vacancies, openings, positions, jobs, opportunities, posts, slots, places, situations, employments, appointments\r\n",
      "law, legislation, statute, legal code, rules, regulations, ordinance, decree, act, constitution, jurisprudence\r\n",
      "scholarships, grants, bursaries, fellowships, awards, financial aid, stipends, endowments, aids, subsidies, studentships\r\n",
      "accommodation, lodging, housing, residence, quarters, apartments, rooms, places, suites, living quarters, dwellings\r\n",
      "calendar, schedule, timetable, agenda, diary, almanac, datebook, planner, chronology, time frame, program\r\n",
      "jobs, positions, occupations, professions, careers, work, employments, tasks, duties, roles, services\r\n",
      "accomodation, lodging, housing, residence, quarters, apartments, rooms, places, suites, living quarters, dwellings\r\n",
      "computer science, informatics, computing, it, information technology, data processing, software engineering, computer engineering, computer studies, cybernetics, programming\r\n",
      "accommodation contactus, housing communication, lodging reachus, residence getintouch, quarters connectwithus, domicile correspondwithus\r\n",
      "apply, submit, use, employ, utilize, implement\r\n",
      "tuition, education, instruction, teaching, schooling, training\r\n",
      "accommodation studentsandstaff, housing pupilsandemployees, lodging learnersandworkers, residence studentsandpersonnel, quarters scholarsandstaff, domicile studentsandemployees\r\n",
      "hr, human resources, personnel, workforce, staff, employees\r\n",
      "english, british, anglophone, anglican, english language, englishspeaking\r\n",
      "book of kells, manuscript of kells, volume of kells, tome of kells, codex of kells, scroll of kells\r\n",
      "mba, master of business administration, business degree, business masters, graduate business degree, business administration masters]\r\n",
      "engineering, architecture, technology, mechanics, civil engineering, construction, design, innovation, invention, development, infrastructure\r\n",
      "music, melody, harmony, rhythm, tune, song, symphony, sound, notes, composition, beat\r\n",
      "business, commerce, trade, industry, market, enterprise, corporation, firm, establishment, organization, venture\r\n",
      "secretary communications noticeboard, bulletin board, information board, announcement board, message board, notice board, posting board, display board, news board, communication center, information center\r\n",
      "international, global, worldwide, universal, multinational, foreign, intercontinental, cosmopolitan, transnational, world, planetary\r\n",
      "history, past, chronicle, record, annals, archives, antiquity, narrative, story, heritage, tradition\r\n",
      "blackboard, chalkboard, whiteboard, noticeboard, bulletin board, board, display board, writing board, teaching board, slate, easel\r\n",
      "nursing, caregiving, caretaking, medical, healthcare, healing, treatment, therapy, rehabilitation, patient care, medicine\r\n",
      "courses, classes, programs, studies, lessons, modules\r\n",
      "open day, orientation day, information day, visitation day, open house, tour day\r\n",
      "application, submission, request, appeal, petition, entry\r\n",
      "graduatestudies students prospective awards, postgraduate scholarships, future student grants, potential student prizes, prospective student awards, graduate student honors\r\n",
      "library bookofkells, bookofkells collection, bookofkells archive, bookofkells library, bookofkells repository, bookofkells catalogue\r\n",
      "fee, charge, cost, price, expense, payment\r\n",
      "business msc international requirements, global business masters prerequisites, international business masters criteria, msc business international necessities, international business msc needs, global business msc specifications\r\n",
      "pharmacy, drugstore, apothecary, chemists, dispensary, druggist\r\n",
      "library bookofkells old library, archive, depository, repository, storehouse, treasury, collection, storage, vault, museum, catalog\r\n",
      "human resources, personnel, staff, workforce, employees, manpower, labor, hr, human capital, people, crew\r\n",
      "dentistry, dental surgery, orthodontics, periodontics, endodontics, oral surgery, prosthodontics, pedodontics, dental medicine, dental science, tooth care\r\n",
      "finance, economics, banking, investment, commerce, money management, fiscal matters, financial affairs, funds, capital, budgeting\r\n",
      "master, expert, professional, specialist, maestro, virtuoso, authority, guru, adept, proficient, connoisseur\r\n",
      "careers, professions, occupations, jobs, vocations, livelihoods, trades, employments, lines of work, posts, positions\r\n",
      "economics, finance, commerce, business, trade, supply and demand, microeconomics, macroeconomics, econometrics, economic theory, fiscal policy\r\n",
      "exchange, trade, swap, interchange, barter, transaction, conversion, substitution, replacement, switch, reciprocity\r\n",
      "ahss columbia, liberal arts school, arts and sciences college, humanities institute\r\n",
      "marketing, promotion, advertising, sales strategy, branding, public relations\r\n",
      "creativearts students current, present art students, contemporary art learners, current students of arts\r\n",
      "film, movie, cinema, motion picture, flick, silver screen\r\n",
      "study abroad, overseas education, international studies, foreign studies, global education, crossborder learning\r\n",
      "academic registry, educational records, scholastic registry, academic records, school registry, university records\r\n",
      "orientation, induction, introduction, initiation, onboarding, acclimatization\r\n",
      "architecture, building design, structural design, construction planning, architectonics, building style]\r\n",
      "masters, degree, diploma, expert, maestro, virtuoso, scholar, teacher, professional, specialist, proficient\r\n",
      "handbook, guide, manual, reference book, directory, guidebook, instruction book, vade mecum, companion, primer, textbook\r\n",
      "philosophy, belief, thought, viewpoint, doctrine, ideology, theory, wisdom, knowledge, principles, ethics\r\n",
      "admission, admittance, entrance, access, entry, ingress, acceptance, confession, disclosure, revelation, acknowledgment\r\n",
      "admissions, admittances, entrances, accesses, entries, ingresses, acceptances, confessions, disclosures, revelations, acknowledgments\r\n",
      "fis, financial information system, fiscal information system, financial intelligence service, financial inspection service, financial investigation service, financial information service, financial information source, financial information solutions, financial information software, financial information services\r\n",
      "data science, data analysis, data mining, machine learning, big data, predictive analytics, data visualization, statistical analysis, data processing, data engineering, data analytics\r\n",
      "procurement, acquisition, purchasing, sourcing, buying, obtainment, appropriation, attainment, procurement process, procurement management, procurement strategy\r\n",
      "business, commerce, trade, industry, market, enterprise\r\n",
      "msc, master of science, postgraduate degree, advanced degree, graduate study, higher degree\r\n",
      "unibuddy, university friend, college mate, school pal, academic companion, study buddy]\r\n"
     ]
    }
   ],
   "source": [
    "!cat /kaggle/working/LLM-synonyms.json | sed 's/[1-9]\\.//' | grep \\: | sed 's/[^\\x00-\\x7F]//g' | sed 's/\\[//g' |  sed 's/\\],//g'| sed 's/\":/\",/g' |  sed \"s/:/,/g\" | sed 's/\"//g' | sed \"s/'//g\" |  sed 's/-$//' | sed 's/,$//' | sed 's/\\.$//' | sed 's/-//g' | awk '{$1=$1};1' | sed -e 's/\\(.*\\)/\\L\\1/' | sed 's/\\0x02BC//g'  | grep -vi synonym | grep -vi sorry | grep -vi apolog | grep -vi json > /kaggle/working/LLM-synonyms.csv\n",
    "!wc -l /kaggle/working/LLM-synonyms.csv \n",
    "#!head -5 /kaggle/working/LLM-synonyms.csv\n",
    "#!tail -5 /kaggle/working/LLM-synonyms.csv\n",
    "!cat  /kaggle/working/LLM-synonyms.csv"
   ]
  },
  {
   "cell_type": "code",
   "execution_count": 13,
   "id": "31ee0f57",
   "metadata": {
    "execution": {
     "iopub.execute_input": "2024-05-06T14:38:39.352890Z",
     "iopub.status.busy": "2024-05-06T14:38:39.352465Z",
     "iopub.status.idle": "2024-05-06T14:38:39.386045Z",
     "shell.execute_reply": "2024-05-06T14:38:39.384714Z"
    },
    "papermill": {
     "duration": 0.053453,
     "end_time": "2024-05-06T14:38:39.388784",
     "exception": false,
     "start_time": "2024-05-06T14:38:39.335331",
     "status": "completed"
    },
    "tags": []
   },
   "outputs": [
    {
     "name": "stdout",
     "output_type": "stream",
     "text": [
      "            0            1                2                      3   \\\n",
      "0  scholarship        grant          bursary             fellowship   \n",
      "1         fees      charges             cost                payment   \n",
      "2      library    bookstore          archive             repository   \n",
      "3          phd    doctorate   doctors degree   doctor of philosophy   \n",
      "4     medicine   medication             drug                 remedy   \n",
      "\n",
      "                4                 5                     6                 7   \\\n",
      "0    financial aid             award               stipend           subsidy   \n",
      "1            price           expense                  levy            tariff   \n",
      "2       collection        depository            storehouse          treasury   \n",
      "3   highest degree   advanced degree   postgraduate degree   doctoral degree   \n",
      "4             cure         treatment        pharmaceutical      prescription   \n",
      "\n",
      "            8           9         10 11  \n",
      "0   assistance   endowment       aid     \n",
      "1         dues        toll      rate     \n",
      "2      reserve       stock     vault     \n",
      "3       doctor       dphil   dr.phil     \n",
      "4   medicament     therapy   healing     \n"
     ]
    },
    {
     "data": {
      "text/plain": [
       "(67, 12)"
      ]
     },
     "execution_count": 13,
     "metadata": {},
     "output_type": "execute_result"
    }
   ],
   "source": [
    "#import the above LLM's into a pandas table\n",
    "import pandas as pd\n",
    "\n",
    "# Input\n",
    "data_file = \"/kaggle/working/LLM-synonyms.csv\"\n",
    "\n",
    "# Delimiter\n",
    "data_file_delimiter = ','\n",
    "\n",
    "# The max column count a line in the file could have\n",
    "largest_column_count = 0\n",
    "\n",
    "# Loop the data lines\n",
    "with open(data_file, 'r') as temp_f:\n",
    "    # Read the lines\n",
    "    lines = temp_f.readlines()\n",
    "\n",
    "    for l in lines:\n",
    "        # Count the column count for the current line\n",
    "        column_count = len(l.split(data_file_delimiter)) + 1\n",
    "        \n",
    "        # Set the new most column count\n",
    "        largest_column_count = column_count if largest_column_count < column_count else largest_column_count\n",
    "\n",
    "# Generate column names (will be 0, 1, 2, ..., largest_column_count - 1)\n",
    "column_names = [i for i in range(0, largest_column_count)]\n",
    "\n",
    "# Read csv\n",
    "df_llm = pd.read_csv(data_file, header=None, delimiter=data_file_delimiter, names=column_names)\n",
    "#df_llm = pd.read_json(data_file)\n",
    "\n",
    "#df_llm = df.replace({'=>cl_[0-9]+$': ''}, regex=True)\n",
    "print(df_llm.fillna(\"\").head(5))\n",
    "df_llm.shape\n"
   ]
  },
  {
   "cell_type": "code",
   "execution_count": 14,
   "id": "eff0e075",
   "metadata": {
    "execution": {
     "iopub.execute_input": "2024-05-06T14:38:39.419915Z",
     "iopub.status.busy": "2024-05-06T14:38:39.419515Z",
     "iopub.status.idle": "2024-05-06T14:38:46.880530Z",
     "shell.execute_reply": "2024-05-06T14:38:46.879271Z"
    },
    "papermill": {
     "duration": 7.47963,
     "end_time": "2024-05-06T14:38:46.883093",
     "exception": false,
     "start_time": "2024-05-06T14:38:39.403463",
     "status": "completed"
    },
    "tags": []
   },
   "outputs": [
    {
     "name": "stdout",
     "output_type": "stream",
     "text": [
      "installing wordnet\n",
      "[nltk_data] Downloading package wordnet to /kaggle/working/...\n",
      "/kaggle/working/corpora/wordnet.zip\r\n",
      "Archive:  wordnet.zip\r\n",
      "   creating: wordnet/\r\n",
      "  inflating: wordnet/lexnames        \r\n",
      "  inflating: wordnet/data.verb       \r\n",
      "  inflating: wordnet/index.adv       \r\n",
      "  inflating: wordnet/adv.exc         \r\n",
      "  inflating: wordnet/index.verb      \r\n",
      "  inflating: wordnet/cntlist.rev     \r\n",
      "  inflating: wordnet/data.adj        \r\n",
      "  inflating: wordnet/index.adj       \r\n",
      "  inflating: wordnet/LICENSE         \r\n",
      "  inflating: wordnet/citation.bib    \r\n",
      "  inflating: wordnet/noun.exc        \r\n",
      "  inflating: wordnet/verb.exc        \r\n",
      "  inflating: wordnet/README          \r\n",
      "  inflating: wordnet/index.sense     \r\n",
      "  inflating: wordnet/data.noun       \r\n",
      "  inflating: wordnet/data.adv        \r\n",
      "  inflating: wordnet/index.noun      \r\n",
      "  inflating: wordnet/adj.exc         \r\n"
     ]
    },
    {
     "data": {
      "text/plain": [
       "[Synset('dog.n.01'),\n",
       " Synset('frump.n.01'),\n",
       " Synset('dog.n.03'),\n",
       " Synset('cad.n.01'),\n",
       " Synset('frank.n.02'),\n",
       " Synset('pawl.n.01'),\n",
       " Synset('andiron.n.01'),\n",
       " Synset('chase.v.01')]"
      ]
     },
     "execution_count": 14,
     "metadata": {},
     "output_type": "execute_result"
    }
   ],
   "source": [
    "import nltk\n",
    "from nltk.corpus import wordnet as wn\n",
    "\n",
    "try:\n",
    "    nltk.data.find('/kaggle/working/corpora/wordnet/lexnames')\n",
    "    print (\"wordnet already installed\")\n",
    "    !ls /kaggle/working/corpora/wordnet.zip\n",
    "except LookupError:\n",
    "    print (\"installing wordnet\")\n",
    "    nltk.download('wordnet', download_dir='/kaggle/working/')  #nltk.download('wordnet', '/usr/share/nltk_data')\n",
    "    !ls /kaggle/working/corpora/wordnet.zip\n",
    "    !cd /kaggle/working/corpora; unzip -o wordnet.zip\n",
    "    \n",
    "\n",
    "    \n",
    "#from nltk.corpus import wordnet as wn\n",
    "nltk.data.path.append('/kaggle/working/')\n",
    "#nltk.data.path\n",
    "wn.synsets('dog')"
   ]
  },
  {
   "cell_type": "code",
   "execution_count": 15,
   "id": "799d4942",
   "metadata": {
    "execution": {
     "iopub.execute_input": "2024-05-06T14:38:46.916405Z",
     "iopub.status.busy": "2024-05-06T14:38:46.915952Z",
     "iopub.status.idle": "2024-05-06T14:38:48.010906Z",
     "shell.execute_reply": "2024-05-06T14:38:48.009702Z"
    },
    "papermill": {
     "duration": 1.114778,
     "end_time": "2024-05-06T14:38:48.013590",
     "exception": false,
     "start_time": "2024-05-06T14:38:46.898812",
     "status": "completed"
    },
    "tags": []
   },
   "outputs": [
    {
     "name": "stdout",
     "output_type": "stream",
     "text": [
      "total 10528\r\n",
      "drwxrwxr-x 2 root root     4096 Sep 19  2015 wordnet\r\n",
      "-rw-r--r-- 1 root root 10775600 May  6 14:38 wordnet.zip\r\n"
     ]
    }
   ],
   "source": [
    "#!cd /kaggle/working/corpora/\n",
    "!ls -l /kaggle/working/corpora\n",
    "#print(nltk.find('wordnet.zip'))"
   ]
  },
  {
   "cell_type": "markdown",
   "id": "02a0071b",
   "metadata": {
    "papermill": {
     "duration": 0.015254,
     "end_time": "2024-05-06T14:38:48.044640",
     "exception": false,
     "start_time": "2024-05-06T14:38:48.029386",
     "status": "completed"
    },
    "tags": []
   },
   "source": [
    "# **NLP Synonyms**  <a class=\"anchor\"  id=\"NLP\"></a>"
   ]
  },
  {
   "cell_type": "code",
   "execution_count": 16,
   "id": "9219a9c2",
   "metadata": {
    "execution": {
     "iopub.execute_input": "2024-05-06T14:38:48.078612Z",
     "iopub.status.busy": "2024-05-06T14:38:48.077323Z",
     "iopub.status.idle": "2024-05-06T14:38:49.187651Z",
     "shell.execute_reply": "2024-05-06T14:38:49.186247Z"
    },
    "papermill": {
     "duration": 1.130483,
     "end_time": "2024-05-06T14:38:49.190656",
     "exception": false,
     "start_time": "2024-05-06T14:38:48.060173",
     "status": "completed"
    },
    "tags": []
   },
   "outputs": [
    {
     "name": "stdout",
     "output_type": "stream",
     "text": [
      "81:academic registry,admissions office,advanced entry=>cl_80\r\n"
     ]
    }
   ],
   "source": [
    "!grep -ni ^\"academic registry\" /kaggle/input/tcd-nlp-synonyms/cluster_synonyms3000.txt"
   ]
  },
  {
   "cell_type": "code",
   "execution_count": 17,
   "id": "02e71a10",
   "metadata": {
    "execution": {
     "iopub.execute_input": "2024-05-06T14:38:49.225215Z",
     "iopub.status.busy": "2024-05-06T14:38:49.224352Z",
     "iopub.status.idle": "2024-05-06T14:38:49.274943Z",
     "shell.execute_reply": "2024-05-06T14:38:49.273753Z"
    },
    "papermill": {
     "duration": 0.070676,
     "end_time": "2024-05-06T14:38:49.277354",
     "exception": false,
     "start_time": "2024-05-06T14:38:49.206678",
     "status": "completed"
    },
    "tags": []
   },
   "outputs": [
    {
     "name": "stdout",
     "output_type": "stream",
     "text": [
      "                        0                         1                   2  \\\n",
      "0            mailing list             mailing lists                       \n",
      "1                  grouse                                                 \n",
      "2                 diploma                   masters     masters courses   \n",
      "3              employment  employment opportunities   job opportunities   \n",
      "4            january 2022                term dates                       \n",
      "5                  dargan                       m17      semester dates   \n",
      "6  educational psychology                                                 \n",
      "7       business analysis        business analytics  msc human resource   \n",
      "8         colm cunningham            kingston mills                       \n",
      "9                   tr031                     tr032               tr033   \n",
      "\n",
      "                3      4      5      6 7 8 9  \n",
      "0                                             \n",
      "1                                             \n",
      "2  masters degree                             \n",
      "3         upskill                             \n",
      "4                                             \n",
      "5                                             \n",
      "6                                             \n",
      "7                                             \n",
      "8                                             \n",
      "9           tr034  tr035  tr038  tr039        \n"
     ]
    },
    {
     "data": {
      "text/plain": [
       "(1000, 10)"
      ]
     },
     "execution_count": 17,
     "metadata": {},
     "output_type": "execute_result"
    }
   ],
   "source": [
    "#nlp synonyms that match top 65 queries\n",
    "import pandas as pd\n",
    "#nlp_df = pd.read_csv('/kaggle/input/tcd-nlp-synonyms/cluster_synonyms3000.txt',na_values='NaN')\n",
    "\n",
    "#!grep query ^file\n",
    "\n",
    "\n",
    "# Input\n",
    "data_file = \"/kaggle/input/tcd-nlp-synonyms/cluster_synonyms3000.txt\"\n",
    "\n",
    "col_list = [0,1,2,3,4,5,6,7,8,9]\n",
    "\n",
    "\n",
    "# Delimiter\n",
    "data_file_delimiter = ','\n",
    "\n",
    "# The max column count a line in the file could have\n",
    "largest_column_count = 0\n",
    "\n",
    "# Loop the data lines\n",
    "with open(data_file, 'r') as temp_f:\n",
    "    # Read the lines\n",
    "    lines = temp_f.readlines()\n",
    "\n",
    "    for l in lines:\n",
    "        # Count the column count for the current line\n",
    "        column_count = len(l.split(data_file_delimiter)) + 1\n",
    "        \n",
    "        # Set the new most column count\n",
    "        largest_column_count = column_count if largest_column_count < column_count else largest_column_count\n",
    "\n",
    "# Generate column names (will be 0, 1, 2, ..., largest_column_count - 1)\n",
    "column_names = [i for i in range(0, largest_column_count)]\n",
    "\n",
    "# Read csv\n",
    "df_nlp = pd.read_csv(data_file, header=None, delimiter=data_file_delimiter, names=column_names)\n",
    "\n",
    "df_nlp = df_nlp[col_list]\n",
    "df_nlp = df_nlp.replace({'=>cl_[0-9]+$': ''}, regex=True)\n",
    "print(df_nlp.fillna(\"\").head(10))\n",
    "df_nlp.shape\n"
   ]
  },
  {
   "cell_type": "code",
   "execution_count": null,
   "id": "f4d74852",
   "metadata": {
    "papermill": {
     "duration": 0.015913,
     "end_time": "2024-05-06T14:38:49.309670",
     "exception": false,
     "start_time": "2024-05-06T14:38:49.293757",
     "status": "completed"
    },
    "tags": []
   },
   "outputs": [],
   "source": []
  },
  {
   "cell_type": "markdown",
   "id": "e3f34f80",
   "metadata": {
    "papermill": {
     "duration": 0.015771,
     "end_time": "2024-05-06T14:38:49.342110",
     "exception": false,
     "start_time": "2024-05-06T14:38:49.326339",
     "status": "completed"
    },
    "tags": []
   },
   "source": [
    "# **Jargon Detection**  <a class=\"anchor\"  id=\"Jargon\"></a>"
   ]
  },
  {
   "cell_type": "code",
   "execution_count": 18,
   "id": "f60204f4",
   "metadata": {
    "execution": {
     "iopub.execute_input": "2024-05-06T14:38:49.377318Z",
     "iopub.status.busy": "2024-05-06T14:38:49.376624Z",
     "iopub.status.idle": "2024-05-06T14:38:49.397813Z",
     "shell.execute_reply": "2024-05-06T14:38:49.396782Z"
    },
    "papermill": {
     "duration": 0.041962,
     "end_time": "2024-05-06T14:38:49.400093",
     "exception": false,
     "start_time": "2024-05-06T14:38:49.358131",
     "status": "completed"
    },
    "tags": []
   },
   "outputs": [
    {
     "data": {
      "text/plain": [
       "(29, 21)"
      ]
     },
     "execution_count": 18,
     "metadata": {},
     "output_type": "execute_result"
    }
   ],
   "source": [
    "merged_df = pd.merge(df_llm, df_nlp, on=0)\n",
    "merged_df.shape\n"
   ]
  },
  {
   "cell_type": "code",
   "execution_count": 19,
   "id": "c63fce12",
   "metadata": {
    "execution": {
     "iopub.execute_input": "2024-05-06T14:38:49.434395Z",
     "iopub.status.busy": "2024-05-06T14:38:49.433978Z",
     "iopub.status.idle": "2024-05-06T14:38:49.452616Z",
     "shell.execute_reply": "2024-05-06T14:38:49.451354Z"
    },
    "papermill": {
     "duration": 0.039314,
     "end_time": "2024-05-06T14:38:49.455607",
     "exception": false,
     "start_time": "2024-05-06T14:38:49.416293",
     "status": "completed"
    },
    "tags": []
   },
   "outputs": [
    {
     "name": "stdout",
     "output_type": "stream",
     "text": [
      "               0          1_x         2_x          3_x             4_x  \\\n",
      "0        library    bookstore     archive   repository      collection   \n",
      "1       medicine   medication        drug       remedy            cure   \n",
      "2      vacancies     openings   positions         jobs   opportunities   \n",
      "3  accommodation      lodging     housing    residence        quarters   \n",
      "4       calendar     schedule   timetable       agenda           diary   \n",
      "\n",
      "           5_x              6_x            7_x          8_x               9_x  \\\n",
      "0   depository       storehouse       treasury      reserve             stock   \n",
      "1    treatment   pharmaceutical   prescription   medicament           therapy   \n",
      "2        posts            slots         places   situations       employments   \n",
      "3   apartments            rooms         places       suites   living quarters   \n",
      "4      almanac         datebook        planner   chronology        time frame   \n",
      "\n",
      "   ...  11          1_y                    2_y  3_y  4_y  5_y  6_y  7_y  8_y  \\\n",
      "0  ... NaN  tcd library                    NaN  NaN  NaN  NaN  NaN  NaN  NaN   \n",
      "1  ... NaN          NaN                    NaN  NaN  NaN  NaN  NaN  NaN  NaN   \n",
      "2  ... NaN      vacancy                    NaN  NaN  NaN  NaN  NaN  NaN  NaN   \n",
      "3  ... NaN       campus  student accommodation  NaN  NaN  NaN  NaN  NaN  NaN   \n",
      "4  ... NaN          NaN                    NaN  NaN  NaN  NaN  NaN  NaN  NaN   \n",
      "\n",
      "   9_y  \n",
      "0  NaN  \n",
      "1  NaN  \n",
      "2  NaN  \n",
      "3  NaN  \n",
      "4  NaN  \n",
      "\n",
      "[5 rows x 21 columns]\n",
      "0               library\n",
      "1              medicine\n",
      "2             vacancies\n",
      "3         accommodation\n",
      "4              calendar\n",
      "5          accomodation\n",
      "6      computer science\n",
      "7                 apply\n",
      "8               tuition\n",
      "9                    hr\n",
      "10              english\n",
      "11                music\n",
      "12             business\n",
      "13              history\n",
      "14           blackboard\n",
      "15              courses\n",
      "16             open day\n",
      "17          application\n",
      "18               master\n",
      "19            economics\n",
      "20            marketing\n",
      "21                 film\n",
      "22    academic registry\n",
      "23          orientation\n",
      "24         architecture\n",
      "25            admission\n",
      "26                  fis\n",
      "27             business\n",
      "28                  msc\n",
      "Name: 0, dtype: object\n"
     ]
    }
   ],
   "source": [
    "print (merged_df.head(5))\n",
    "print (merged_df.iloc[:, 0])\n",
    "#print (merged_df.iloc[12:,])\n",
    "\n"
   ]
  },
  {
   "cell_type": "markdown",
   "id": "b180a32d",
   "metadata": {
    "papermill": {
     "duration": 0.015824,
     "end_time": "2024-05-06T14:38:49.487810",
     "exception": false,
     "start_time": "2024-05-06T14:38:49.471986",
     "status": "completed"
    },
    "tags": []
   },
   "source": [
    "# **Jargony**  <a class=\"anchor\"  id=\"Jargony\"></a>"
   ]
  },
  {
   "cell_type": "code",
   "execution_count": 20,
   "id": "a15de606",
   "metadata": {
    "execution": {
     "iopub.execute_input": "2024-05-06T14:38:49.522508Z",
     "iopub.status.busy": "2024-05-06T14:38:49.522071Z",
     "iopub.status.idle": "2024-05-06T14:38:49.529368Z",
     "shell.execute_reply": "2024-05-06T14:38:49.528192Z"
    },
    "papermill": {
     "duration": 0.027851,
     "end_time": "2024-05-06T14:38:49.531856",
     "exception": false,
     "start_time": "2024-05-06T14:38:49.504005",
     "status": "completed"
    },
    "tags": []
   },
   "outputs": [],
   "source": [
    "def jaccard_jargony(list1, list2):\n",
    "    # inverse of jaccard, i.e. big number means big distance, which means more 'jargony'\n",
    "    set1 = set(list1)\n",
    "    set2 = set(list2)\n",
    "    intersection = len(set1.intersection(set2))\n",
    "    union = len(set1.union(set2))\n",
    "    #print (set2-set1)   # the words in list2 that do not exist in list1\n",
    "    number = (1/(intersection / union))\n",
    "    decimal_value = decimal.Decimal(number)  \n",
    "    rounded_number = decimal_value.quantize(decimal.Decimal('0.00'))  \n",
    "    return rounded_number\n",
    "    #print (set2-set1)"
   ]
  },
  {
   "cell_type": "code",
   "execution_count": 21,
   "id": "f0f86d12",
   "metadata": {
    "execution": {
     "iopub.execute_input": "2024-05-06T14:38:49.566682Z",
     "iopub.status.busy": "2024-05-06T14:38:49.566255Z",
     "iopub.status.idle": "2024-05-06T14:38:49.594565Z",
     "shell.execute_reply": "2024-05-06T14:38:49.593266Z"
    },
    "papermill": {
     "duration": 0.049436,
     "end_time": "2024-05-06T14:38:49.597762",
     "exception": false,
     "start_time": "2024-05-06T14:38:49.548326",
     "status": "completed"
    },
    "tags": []
   },
   "outputs": [
    {
     "name": "stdout",
     "output_type": "stream",
     "text": [
      "nan\n",
      " 'tcd library'\n",
      " nan\n",
      " nan\n",
      " nan\n",
      " nan\n",
      " nan\n",
      " nan\n",
      " nan\n",
      " nan\n",
      "nan\n",
      " nan\n",
      " nan\n",
      " nan\n",
      " nan\n",
      " nan\n",
      " nan\n",
      " nan\n",
      " nan\n",
      " nan\n",
      "nan\n",
      " 'vacancy'\n",
      " nan\n",
      " nan\n",
      " nan\n",
      " nan\n",
      " nan\n",
      " nan\n",
      " nan\n",
      " nan\n",
      "nan\n",
      " 'campus'\n",
      " 'student accommodation'\n",
      " nan\n",
      " nan\n",
      " nan\n",
      " nan\n",
      " nan\n",
      " nan\n",
      " nan\n",
      "nan\n",
      " nan\n",
      " nan\n",
      " nan\n",
      " nan\n",
      " nan\n",
      " nan\n",
      " nan\n",
      " nan\n",
      " nan\n",
      "nan\n",
      " nan\n",
      " nan\n",
      " nan\n",
      " nan\n",
      " nan\n",
      " nan\n",
      " nan\n",
      " nan\n",
      " nan\n",
      "nan\n",
      " 'statistics'\n",
      " nan\n",
      " nan\n",
      " nan\n",
      " nan\n",
      " nan\n",
      " nan\n",
      " nan\n",
      " nan\n",
      "nan\n",
      " 'applying'\n",
      " nan\n",
      " nan\n",
      " nan\n",
      " nan\n",
      " nan\n",
      " nan\n",
      " nan\n",
      " nan\n",
      "nan\n",
      " nan\n",
      " nan\n",
      " nan\n",
      " nan\n",
      " nan\n",
      " nan\n",
      " nan\n",
      " nan\n",
      " nan\n",
      "nan\n",
      " 'human resources'\n",
      " 'payroll'\n",
      " nan\n",
      " nan\n",
      " nan\n",
      " nan\n",
      " nan\n",
      " nan\n",
      " nan\n",
      "nan\n",
      " 'french'\n",
      " 'german'\n",
      " 'italian'\n",
      " 'spanish'\n",
      " nan\n",
      " nan\n",
      " nan\n",
      " nan\n",
      " nan\n",
      "nan\n",
      " 'musicology'\n",
      " nan\n",
      " nan\n",
      " nan\n",
      " nan\n",
      " nan\n",
      " nan\n",
      " nan\n",
      " nan\n",
      "nan\n",
      " 'finance'\n",
      " 'financial'\n",
      " 'financial services'\n",
      " nan\n",
      " nan\n",
      " nan\n",
      " nan\n",
      " nan\n",
      " nan\n",
      "nan\n",
      " nan\n",
      " nan\n",
      " nan\n",
      " nan\n",
      " nan\n",
      " nan\n",
      " nan\n",
      " nan\n",
      " nan\n",
      "nan\n",
      " 'distance learning'\n",
      " 'online'\n",
      " nan\n",
      " nan\n",
      " nan\n",
      " nan\n",
      " nan\n",
      " nan\n",
      " nan\n",
      "nan\n",
      " 'degree courses'\n",
      " 'postgraduate'\n",
      " 'students'\n",
      " 'teaching'\n",
      " 'undergraduate'\n",
      " 'undergraduate courses'\n",
      " 'undergraduates'\n",
      " nan\n",
      " nan\n",
      "nan\n",
      " 'open days'\n",
      " nan\n",
      " nan\n",
      " nan\n",
      " nan\n",
      " nan\n",
      " nan\n",
      " nan\n",
      " nan\n",
      "nan\n",
      " 'application requirements'\n",
      " 'applications'\n",
      " nan\n",
      " nan\n",
      " nan\n",
      " nan\n",
      " nan\n",
      " nan\n",
      " nan\n",
      "nan\n",
      " nan\n",
      " nan\n",
      " nan\n",
      " nan\n",
      " nan\n",
      " nan\n",
      " nan\n",
      " nan\n",
      " nan\n",
      "nan\n",
      " 'geography'\n",
      " 'political science'\n",
      " 'political science department'\n",
      " 'sociology'\n",
      " nan\n",
      " nan\n",
      " nan\n",
      " nan\n",
      " nan\n",
      "nan\n",
      " nan\n",
      " nan\n",
      " nan\n",
      " nan\n",
      " nan\n",
      " nan\n",
      " nan\n",
      " nan\n",
      " nan\n",
      "nan\n",
      " nan\n",
      " nan\n",
      " nan\n",
      " nan\n",
      " nan\n",
      " nan\n",
      " nan\n",
      " nan\n",
      " nan\n",
      "nan\n",
      " 'admissions office'\n",
      " 'advanced entry'\n",
      " nan\n",
      " nan\n",
      " nan\n",
      " nan\n",
      " nan\n",
      " nan\n",
      " nan\n",
      "nan\n",
      " nan\n",
      " nan\n",
      " nan\n",
      " nan\n",
      " nan\n",
      " nan\n",
      " nan\n",
      " nan\n",
      " nan\n",
      "nan\n",
      " nan\n",
      " nan\n",
      " nan\n",
      " nan\n",
      " nan\n",
      " nan\n",
      " nan\n",
      " nan\n",
      " nan\n",
      "nan\n",
      " 'admissions'\n",
      " nan\n",
      " nan\n",
      " nan\n",
      " nan\n",
      " nan\n",
      " nan\n",
      " nan\n",
      " nan\n",
      "nan\n",
      " nan\n",
      " nan\n",
      " nan\n",
      " nan\n",
      " nan\n",
      " nan\n",
      " nan\n",
      " nan\n",
      " nan\n",
      "nan\n",
      " 'finance'\n",
      " 'financial'\n",
      " 'financial services'\n",
      " nan\n",
      " nan\n",
      " nan\n",
      " nan\n",
      " nan\n",
      " nan\n",
      "nan\n",
      " 'phd'\n",
      " 'post graduate'\n",
      " nan\n",
      " nan\n",
      " nan\n",
      " nan\n",
      " nan\n",
      " nan\n",
      " nan\n"
     ]
    }
   ],
   "source": [
    "\n",
    "max_rows=len(merged_df)\n",
    "#print (max_rows)\n",
    "\n",
    "column=10\n",
    "\n",
    "import re\n",
    "\n",
    "for row in range(0,max_rows):\n",
    "    list_1=merged_df.iloc[row:row+1, : column:].values.tolist()\n",
    "    list_1 =str(list_1).replace('[[', '[').replace(']]', ']')\n",
    "    #print (\"LLM Nearest:\",list_1)\n",
    "    list_2_real=merged_df.iloc[row:row+1 :, -column:].values.tolist()     \n",
    "    list_2 =str(list_2_real).replace('[[', '[').replace(']]', ']')  \n",
    "    #solr_list_2=list_2.replace('[', '').replace(']', '').replace('nan', '').replace(',', '\\n')\n",
    "    #solr_list_2=list_2.replace('[', '').replace(']', '').replace('nan', '').replace(',', '\\n')\n",
    "    \n",
    "    solr_list_2=list_2.replace('[', '').replace(']', '').replace(',', '\\n')\n",
    "    cleanedList = [x for x in list_2_real if str(x) != 'nan'] # not pd.isna(item)   if (math.isnan(x) == True)\n",
    "    \n",
    "    #cleanedList = [x for x in list_2_real if x == x]\n",
    "    #cleanedList = [x for x in list_2_real if ~np.isnan(x)]\n",
    "    #cleanedList = [x for x in list_2_real if pd.notnull(x)]\n",
    "    text = os.linesep.join([s for s in solr_list_2.splitlines() if s])\n",
    "\n",
    "    print (solr_list_2) \n",
    "    #print (text)\n",
    "    #print (cleanedList)\n",
    "\n",
    "    #print (\"NLP Nearest:\",list_2)  #, (jaccard_similarity(list_2,list_1)))\n",
    "    #pprint.pprint(list_2,)\n",
    "    #print(merged_df.iloc[row:row+1,:1].to_string(index=False,header=False), \",\", (jaccard_jargony(list_2,list_1)))   \n"
   ]
  },
  {
   "cell_type": "code",
   "execution_count": 22,
   "id": "8a8ca6be",
   "metadata": {
    "execution": {
     "iopub.execute_input": "2024-05-06T14:38:49.635643Z",
     "iopub.status.busy": "2024-05-06T14:38:49.634484Z",
     "iopub.status.idle": "2024-05-06T14:38:49.639054Z",
     "shell.execute_reply": "2024-05-06T14:38:49.638254Z"
    },
    "papermill": {
     "duration": 0.025806,
     "end_time": "2024-05-06T14:38:49.641344",
     "exception": false,
     "start_time": "2024-05-06T14:38:49.615538",
     "status": "completed"
    },
    "tags": []
   },
   "outputs": [],
   "source": [
    "#list1=[print(*row, sep=', ') for row in merged_df.iloc[1:, : 10].values.tolist()];\n"
   ]
  },
  {
   "cell_type": "code",
   "execution_count": null,
   "id": "45bbac31",
   "metadata": {
    "papermill": {
     "duration": 0.016447,
     "end_time": "2024-05-06T14:38:49.674765",
     "exception": false,
     "start_time": "2024-05-06T14:38:49.658318",
     "status": "completed"
    },
    "tags": []
   },
   "outputs": [],
   "source": []
  },
  {
   "cell_type": "code",
   "execution_count": 23,
   "id": "a0199c44",
   "metadata": {
    "execution": {
     "iopub.execute_input": "2024-05-06T14:38:49.710704Z",
     "iopub.status.busy": "2024-05-06T14:38:49.709914Z",
     "iopub.status.idle": "2024-05-06T14:38:49.715821Z",
     "shell.execute_reply": "2024-05-06T14:38:49.714694Z"
    },
    "papermill": {
     "duration": 0.026623,
     "end_time": "2024-05-06T14:38:49.718248",
     "exception": false,
     "start_time": "2024-05-06T14:38:49.691625",
     "status": "completed"
    },
    "tags": []
   },
   "outputs": [],
   "source": [
    "word2vec_list = [\"Office of the registrar\", \"university records office\", \"student registration office\", \"Dean's office\", \"Admissions office\", \"students records office\", \"academic office\", \"enrolment office\", \"academic affairs office\", \"education office\"]\n",
    "llm_list = [\"Office of the registrar\", \"university records office\", \"Bizarre\", \"education office\"]\n"
   ]
  },
  {
   "cell_type": "code",
   "execution_count": 24,
   "id": "0bf3960e",
   "metadata": {
    "execution": {
     "iopub.execute_input": "2024-05-06T14:38:49.753942Z",
     "iopub.status.busy": "2024-05-06T14:38:49.753506Z",
     "iopub.status.idle": "2024-05-06T14:38:49.761140Z",
     "shell.execute_reply": "2024-05-06T14:38:49.759952Z"
    },
    "papermill": {
     "duration": 0.028264,
     "end_time": "2024-05-06T14:38:49.763491",
     "exception": false,
     "start_time": "2024-05-06T14:38:49.735227",
     "status": "completed"
    },
    "tags": []
   },
   "outputs": [
    {
     "data": {
      "text/plain": [
       "Decimal('3.67')"
      ]
     },
     "execution_count": 24,
     "metadata": {},
     "output_type": "execute_result"
    }
   ],
   "source": [
    "jaccard_jargony(word2vec_list,llm_list)"
   ]
  },
  {
   "cell_type": "markdown",
   "id": "e9c40d4f",
   "metadata": {
    "papermill": {
     "duration": 0.016504,
     "end_time": "2024-05-06T14:38:49.796987",
     "exception": false,
     "start_time": "2024-05-06T14:38:49.780483",
     "status": "completed"
    },
    "tags": []
   },
   "source": [
    "# **LTR Feature**  <a class=\"anchor\"  id=\"LTR\"></a>"
   ]
  },
  {
   "cell_type": "markdown",
   "id": "095f77cb",
   "metadata": {
    "papermill": {
     "duration": 0.016533,
     "end_time": "2024-05-06T14:38:49.830345",
     "exception": false,
     "start_time": "2024-05-06T14:38:49.813812",
     "status": "completed"
    },
    "tags": []
   },
   "source": [
    "# **References**  <a class=\"anchor\"  id=\"References\"></a>"
   ]
  }
 ],
 "metadata": {
  "kaggle": {
   "accelerator": "none",
   "dataSources": [
    {
     "datasetId": 4462893,
     "sourceId": 7714034,
     "sourceType": "datasetVersion"
    },
    {
     "datasetId": 4745179,
     "sourceId": 8047127,
     "sourceType": "datasetVersion"
    },
    {
     "datasetId": 4898774,
     "sourceId": 8255059,
     "sourceType": "datasetVersion"
    }
   ],
   "dockerImageVersionId": 30673,
   "isGpuEnabled": false,
   "isInternetEnabled": true,
   "language": "python",
   "sourceType": "notebook"
  },
  "kernelspec": {
   "display_name": "Python 3",
   "language": "python",
   "name": "python3"
  },
  "language_info": {
   "codemirror_mode": {
    "name": "ipython",
    "version": 3
   },
   "file_extension": ".py",
   "mimetype": "text/x-python",
   "name": "python",
   "nbconvert_exporter": "python",
   "pygments_lexer": "ipython3",
   "version": "3.10.13"
  },
  "papermill": {
   "default_parameters": {},
   "duration": 204.763417,
   "end_time": "2024-05-06T14:38:50.971305",
   "environment_variables": {},
   "exception": null,
   "input_path": "__notebook__.ipynb",
   "output_path": "__notebook__.ipynb",
   "parameters": {},
   "start_time": "2024-05-06T14:35:26.207888",
   "version": "2.5.0"
  }
 },
 "nbformat": 4,
 "nbformat_minor": 5
}
