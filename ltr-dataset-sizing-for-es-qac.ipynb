{
 "cells": [
  {
   "cell_type": "markdown",
   "metadata": {
    "papermill": {
     "duration": 0.033854,
     "end_time": "2024-10-23T10:56:10.351657",
     "exception": false,
     "start_time": "2024-10-23T10:56:10.317803",
     "status": "completed"
    },
    "tags": []
   },
   "source": [
    "## Is my QAC LTR dataset sufficently sized?\n",
    "\n",
    "There are many factors that determine the minimum size of a dataset.  The more complex the form of underlying relationship between the variables, the more data would be needed to estimate it.   Additionally, the more noise corrupting the data, the more data you are likely to need to average out the effects of the noise. \n",
    "\n",
    "\n",
    "# Learning Curve Plot\n",
    "Learning curve graphs can be employed to estimate the required size of a dataset size.   As the dataset size increases, the performance initially increases until the model saturates.  The minimum sufficient dataset size occurs when adding more data does not lead to a significant increase in the performance.   When the model performance saturates, we can potentially assume that the general population and the training dataset now have very similar underlying distributions. Thus, the cost of further computation and storage has diminishing rewards.\n"
   ]
  },
  {
   "cell_type": "markdown",
   "metadata": {
    "papermill": {
     "duration": 0.030413,
     "end_time": "2024-10-23T10:56:10.413054",
     "exception": false,
     "start_time": "2024-10-23T10:56:10.382641",
     "status": "completed"
    },
    "tags": []
   },
   "source": [
    "# **Scroll to end of script to see plot**"
   ]
  },
  {
   "cell_type": "code",
   "execution_count": 1,
   "metadata": {
    "execution": {
     "iopub.execute_input": "2024-10-23T10:56:10.482035Z",
     "iopub.status.busy": "2024-10-23T10:56:10.481196Z",
     "iopub.status.idle": "2024-10-23T10:56:12.338486Z",
     "shell.execute_reply": "2024-10-23T10:56:12.337777Z",
     "shell.execute_reply.started": "2024-10-23T10:32:40.090176Z"
    },
    "papermill": {
     "duration": 1.894042,
     "end_time": "2024-10-23T10:56:12.338685",
     "exception": false,
     "start_time": "2024-10-23T10:56:10.444643",
     "status": "completed"
    },
    "tags": []
   },
   "outputs": [],
   "source": [
    "import numpy as np\n",
    "import pandas as pd\n",
    "import pickle\n",
    "import xgboost as xgb\n",
    "import graphviz\n",
    "import matplotlib\n",
    "import math\n",
    "import io\n",
    "\n",
    "import xgboost as xgb\n"
   ]
  },
  {
   "cell_type": "markdown",
   "metadata": {
    "papermill": {
     "duration": 0.029579,
     "end_time": "2024-10-23T10:56:12.400734",
     "exception": false,
     "start_time": "2024-10-23T10:56:12.371155",
     "status": "completed"
    },
    "tags": []
   },
   "source": [
    "## Data\n",
    "\n",
    "The data I use is the ENTRP-SRCH dataset.\n",
    "\n",
    "The data is a LETOR-formatted, of the form: \"reference lable (ie ranking given by human), query id, query-url pairs (length 8 feature vectors)\".  \n",
    " "
   ]
  },
  {
   "cell_type": "code",
   "execution_count": 2,
   "metadata": {
    "execution": {
     "iopub.execute_input": "2024-10-23T10:56:12.465851Z",
     "iopub.status.busy": "2024-10-23T10:56:12.464807Z",
     "iopub.status.idle": "2024-10-23T10:56:12.468166Z",
     "shell.execute_reply": "2024-10-23T10:56:12.467485Z",
     "shell.execute_reply.started": "2024-10-23T10:32:42.193721Z"
    },
    "papermill": {
     "duration": 0.038195,
     "end_time": "2024-10-23T10:56:12.468328",
     "exception": false,
     "start_time": "2024-10-23T10:56:12.430133",
     "status": "completed"
    },
    "tags": []
   },
   "outputs": [],
   "source": [
    "import glob\n",
    "import os\n"
   ]
  },
  {
   "cell_type": "code",
   "execution_count": 3,
   "metadata": {
    "execution": {
     "iopub.execute_input": "2024-10-23T10:56:12.535560Z",
     "iopub.status.busy": "2024-10-23T10:56:12.534814Z",
     "iopub.status.idle": "2024-10-23T10:56:13.730120Z",
     "shell.execute_reply": "2024-10-23T10:56:13.731157Z",
     "shell.execute_reply.started": "2024-10-23T10:32:42.202073Z"
    },
    "papermill": {
     "duration": 1.233355,
     "end_time": "2024-10-23T10:56:13.731449",
     "exception": false,
     "start_time": "2024-10-23T10:56:12.498094",
     "status": "completed"
    },
    "tags": []
   },
   "outputs": [],
   "source": [
    "#remove comments\n",
    "!cat /kaggle/input/tcd-qac/qid-dataset-sorted.txt | awk -F'\\t\\t#' '{print $1}' > /kaggle/working/qid-dataset-sorted-nocomments.txt"
   ]
  },
  {
   "cell_type": "code",
   "execution_count": 4,
   "metadata": {
    "execution": {
     "iopub.execute_input": "2024-10-23T10:56:13.811098Z",
     "iopub.status.busy": "2024-10-23T10:56:13.810270Z",
     "iopub.status.idle": "2024-10-23T10:56:13.896001Z",
     "shell.execute_reply": "2024-10-23T10:56:13.894947Z",
     "shell.execute_reply.started": "2024-10-23T10:32:43.347652Z"
    },
    "papermill": {
     "duration": 0.123302,
     "end_time": "2024-10-23T10:56:13.896160",
     "exception": false,
     "start_time": "2024-10-23T10:56:13.772858",
     "status": "completed"
    },
    "tags": []
   },
   "outputs": [],
   "source": [
    "df = pd.read_csv('/kaggle/working/qid-dataset-sorted-nocomments.txt',header=None,index_col=False, sep =' ')"
   ]
  },
  {
   "cell_type": "code",
   "execution_count": 5,
   "metadata": {
    "execution": {
     "iopub.execute_input": "2024-10-23T10:56:13.969718Z",
     "iopub.status.busy": "2024-10-23T10:56:13.968887Z",
     "iopub.status.idle": "2024-10-23T10:56:15.019872Z",
     "shell.execute_reply": "2024-10-23T10:56:15.019248Z",
     "shell.execute_reply.started": "2024-10-23T10:53:52.569815Z"
    },
    "papermill": {
     "duration": 1.092495,
     "end_time": "2024-10-23T10:56:15.020015",
     "exception": false,
     "start_time": "2024-10-23T10:56:13.927520",
     "status": "completed"
    },
    "tags": []
   },
   "outputs": [
    {
     "name": "stdout",
     "output_type": "stream",
     "text": [
      "65423 /kaggle/working/qid-dataset-sorted-nocomments.txt\r\n"
     ]
    }
   ],
   "source": [
    "!wc -l /kaggle/working/qid-dataset-sorted-nocomments.txt"
   ]
  },
  {
   "cell_type": "code",
   "execution_count": 6,
   "metadata": {
    "execution": {
     "iopub.execute_input": "2024-10-23T10:56:15.109192Z",
     "iopub.status.busy": "2024-10-23T10:56:15.087438Z",
     "iopub.status.idle": "2024-10-23T10:56:15.128924Z",
     "shell.execute_reply": "2024-10-23T10:56:15.128132Z",
     "shell.execute_reply.started": "2024-10-23T10:32:43.442121Z"
    },
    "papermill": {
     "duration": 0.078184,
     "end_time": "2024-10-23T10:56:15.129059",
     "exception": false,
     "start_time": "2024-10-23T10:56:15.050875",
     "status": "completed"
    },
    "tags": []
   },
   "outputs": [],
   "source": [
    "df = df.dropna(axis=1, how='all')"
   ]
  },
  {
   "cell_type": "code",
   "execution_count": 7,
   "metadata": {
    "execution": {
     "iopub.execute_input": "2024-10-23T10:56:15.208582Z",
     "iopub.status.busy": "2024-10-23T10:56:15.207642Z",
     "iopub.status.idle": "2024-10-23T10:56:15.219769Z",
     "shell.execute_reply": "2024-10-23T10:56:15.219058Z",
     "shell.execute_reply.started": "2024-10-23T10:32:43.487483Z"
    },
    "papermill": {
     "duration": 0.059793,
     "end_time": "2024-10-23T10:56:15.219897",
     "exception": false,
     "start_time": "2024-10-23T10:56:15.160104",
     "status": "completed"
    },
    "tags": []
   },
   "outputs": [
    {
     "data": {
      "text/html": [
       "<div>\n",
       "<style scoped>\n",
       "    .dataframe tbody tr th:only-of-type {\n",
       "        vertical-align: middle;\n",
       "    }\n",
       "\n",
       "    .dataframe tbody tr th {\n",
       "        vertical-align: top;\n",
       "    }\n",
       "\n",
       "    .dataframe thead th {\n",
       "        text-align: right;\n",
       "    }\n",
       "</style>\n",
       "<table border=\"1\" class=\"dataframe\">\n",
       "  <thead>\n",
       "    <tr style=\"text-align: right;\">\n",
       "      <th></th>\n",
       "      <th>0</th>\n",
       "      <th>1</th>\n",
       "      <th>2</th>\n",
       "      <th>3</th>\n",
       "      <th>4</th>\n",
       "      <th>5</th>\n",
       "      <th>6</th>\n",
       "      <th>7</th>\n",
       "    </tr>\n",
       "  </thead>\n",
       "  <tbody>\n",
       "    <tr>\n",
       "      <th>0</th>\n",
       "      <td>2</td>\n",
       "      <td>qid:1730</td>\n",
       "      <td>1:2</td>\n",
       "      <td>2:0</td>\n",
       "      <td>3:0</td>\n",
       "      <td>4:0</td>\n",
       "      <td>5:0</td>\n",
       "      <td>6:0</td>\n",
       "    </tr>\n",
       "    <tr>\n",
       "      <th>1</th>\n",
       "      <td>2</td>\n",
       "      <td>qid:1835</td>\n",
       "      <td>1:2</td>\n",
       "      <td>2:0</td>\n",
       "      <td>3:0</td>\n",
       "      <td>4:0</td>\n",
       "      <td>5:0</td>\n",
       "      <td>6:0</td>\n",
       "    </tr>\n",
       "    <tr>\n",
       "      <th>2</th>\n",
       "      <td>1</td>\n",
       "      <td>qid:4167</td>\n",
       "      <td>1:2</td>\n",
       "      <td>2:0</td>\n",
       "      <td>3:0</td>\n",
       "      <td>4:0</td>\n",
       "      <td>5:8</td>\n",
       "      <td>6:0</td>\n",
       "    </tr>\n",
       "    <tr>\n",
       "      <th>3</th>\n",
       "      <td>2</td>\n",
       "      <td>qid:1501</td>\n",
       "      <td>1:2</td>\n",
       "      <td>2:0</td>\n",
       "      <td>3:21</td>\n",
       "      <td>4:0</td>\n",
       "      <td>5:0</td>\n",
       "      <td>6:0</td>\n",
       "    </tr>\n",
       "    <tr>\n",
       "      <th>4</th>\n",
       "      <td>2</td>\n",
       "      <td>qid:899</td>\n",
       "      <td>1:2</td>\n",
       "      <td>2:0</td>\n",
       "      <td>3:0</td>\n",
       "      <td>4:0</td>\n",
       "      <td>5:0</td>\n",
       "      <td>6:0</td>\n",
       "    </tr>\n",
       "  </tbody>\n",
       "</table>\n",
       "</div>"
      ],
      "text/plain": [
       "   0         1    2    3     4    5    6    7\n",
       "0  2  qid:1730  1:2  2:0   3:0  4:0  5:0  6:0\n",
       "1  2  qid:1835  1:2  2:0   3:0  4:0  5:0  6:0\n",
       "2  1  qid:4167  1:2  2:0   3:0  4:0  5:8  6:0\n",
       "3  2  qid:1501  1:2  2:0  3:21  4:0  5:0  6:0\n",
       "4  2   qid:899  1:2  2:0   3:0  4:0  5:0  6:0"
      ]
     },
     "execution_count": 7,
     "metadata": {},
     "output_type": "execute_result"
    }
   ],
   "source": [
    "df.head(5)"
   ]
  },
  {
   "cell_type": "code",
   "execution_count": 8,
   "metadata": {
    "execution": {
     "iopub.execute_input": "2024-10-23T10:56:15.289661Z",
     "iopub.status.busy": "2024-10-23T10:56:15.288735Z",
     "iopub.status.idle": "2024-10-23T10:56:15.292113Z",
     "shell.execute_reply": "2024-10-23T10:56:15.291464Z",
     "shell.execute_reply.started": "2024-10-23T10:32:43.515438Z"
    },
    "papermill": {
     "duration": 0.041224,
     "end_time": "2024-10-23T10:56:15.292257",
     "exception": false,
     "start_time": "2024-10-23T10:56:15.251033",
     "status": "completed"
    },
    "tags": []
   },
   "outputs": [],
   "source": [
    "def cleanup ():\n",
    "    # ensure any train, test and vali data are empty to start with\n",
    "    !rm -f train*.txt; rm -f test*.txt; rm -f vali*.txt; rm -f *.group; rm -f qids.txt; rm -f ENTRP-SRCH-v14.txt; rm -f data; rm -f data.txt\n",
    "    #!ls -lrt"
   ]
  },
  {
   "cell_type": "code",
   "execution_count": 9,
   "metadata": {
    "execution": {
     "iopub.execute_input": "2024-10-23T10:56:15.363976Z",
     "iopub.status.busy": "2024-10-23T10:56:15.362914Z",
     "iopub.status.idle": "2024-10-23T10:56:15.366117Z",
     "shell.execute_reply": "2024-10-23T10:56:15.365426Z",
     "shell.execute_reply.started": "2024-10-23T10:32:43.524063Z"
    },
    "papermill": {
     "duration": 0.042673,
     "end_time": "2024-10-23T10:56:15.366244",
     "exception": false,
     "start_time": "2024-10-23T10:56:15.323571",
     "status": "completed"
    },
    "tags": []
   },
   "outputs": [],
   "source": [
    "def create_files():\n",
    "    print(\"creating train.txt, test.txt and vali.txt files\")\n",
    "    #!for SITE in 10* 20* 30* 40* 5 6 7 8 9 10 11 12 13 14 15 16 17; do grep \"qid:${SITE} \" /kaggle/working/qid-dataset-sorted-nocomments.txt >> train.txt; done\n",
    "    #!for SITE in 11* 12* 13* 14 15 16 17; do grep \"qid:${SITE} \" /kaggle/working/qid-dataset-sorted-nocomments.txt  >> test.txt; done\n",
    "    #!for SITE in 18* 19* 20*; do grep \"qid:${SITE} \" /kaggle/working/qid-dataset-sorted-nocomments.txt >> vali.txt; done\n",
    "    #!grep \"qid:[1-10]\" /kaggle/working/qid-dataset-sorted-nocomments.txt >> train.txt;\n",
    "    #!grep \"qid:[1-20]\" /kaggle/working/qid-dataset-sorted-nocomments.txt  >> test.txt; \n",
    "    !grep \"qid:[1-2]\" /kaggle/working/qid-dataset-sorted-nocomments.txt >> vali.txt;\n",
    "    !awk 'BEGIN {srand()} {print > (rand() < .9 ? \"train.txt\" : \"test.txt\")}' qid-dataset-sorted-nocomments.txt\n",
    "    \n",
    "    "
   ]
  },
  {
   "cell_type": "code",
   "execution_count": 10,
   "metadata": {
    "execution": {
     "iopub.execute_input": "2024-10-23T10:56:15.441712Z",
     "iopub.status.busy": "2024-10-23T10:56:15.436408Z",
     "iopub.status.idle": "2024-10-23T10:56:15.447570Z",
     "shell.execute_reply": "2024-10-23T10:56:15.448168Z",
     "shell.execute_reply.started": "2024-10-23T10:32:43.535570Z"
    },
    "papermill": {
     "duration": 0.051255,
     "end_time": "2024-10-23T10:56:15.448347",
     "exception": false,
     "start_time": "2024-10-23T10:56:15.397092",
     "status": "completed"
    },
    "tags": []
   },
   "outputs": [],
   "source": [
    "def map_convert():\n",
    "    print(\"converting 1-5 scores to 0's and 1's for MAP\")\n",
    "    !sed -i 's/^[123] /0 /g' train.txt\n",
    "    !sed -i 's/^[45] /1 /g' train.txt\n",
    "    !sed -i 's/^[123] /0 /g' test.txt\n",
    "    !sed -i 's/^[45] /1 /g' test.txt\n",
    "    !sed -i 's/^[123] /0 /g' vali.txt\n",
    "    !sed -i 's/^[45] /1 /g' vali.txt\n",
    "    \n",
    "    "
   ]
  },
  {
   "cell_type": "code",
   "execution_count": 11,
   "metadata": {
    "execution": {
     "iopub.execute_input": "2024-10-23T10:56:15.520136Z",
     "iopub.status.busy": "2024-10-23T10:56:15.519153Z",
     "iopub.status.idle": "2024-10-23T10:56:15.522674Z",
     "shell.execute_reply": "2024-10-23T10:56:15.521907Z",
     "shell.execute_reply.started": "2024-10-23T10:32:43.555670Z"
    },
    "papermill": {
     "duration": 0.04355,
     "end_time": "2024-10-23T10:56:15.522820",
     "exception": false,
     "start_time": "2024-10-23T10:56:15.479270",
     "status": "completed"
    },
    "tags": []
   },
   "outputs": [],
   "source": [
    "def get_size():\n",
    "    with open(r\"train.txt\", 'r') as fp:\n",
    "        x = len(fp.readlines())\n",
    "        print('Training Size lines:', x) \n",
    "\n",
    "    with open(r\"test.txt\", 'r') as fp:\n",
    "        x = len(fp.readlines())\n",
    "        print('Test Size lines:', x) \n",
    "    \n",
    "    with open(r\"vali.txt\", 'r') as fp:\n",
    "        x = len(fp.readlines())\n",
    "        print('Validation Size lines:', x) \n",
    "   \n",
    "\n"
   ]
  },
  {
   "cell_type": "code",
   "execution_count": 12,
   "metadata": {
    "execution": {
     "iopub.execute_input": "2024-10-23T10:56:15.593167Z",
     "iopub.status.busy": "2024-10-23T10:56:15.592411Z",
     "iopub.status.idle": "2024-10-23T10:56:17.717016Z",
     "shell.execute_reply": "2024-10-23T10:56:17.716194Z",
     "shell.execute_reply.started": "2024-10-23T10:32:43.572241Z"
    },
    "papermill": {
     "duration": 2.161815,
     "end_time": "2024-10-23T10:56:17.717162",
     "exception": false,
     "start_time": "2024-10-23T10:56:15.555347",
     "status": "completed"
    },
    "tags": []
   },
   "outputs": [
    {
     "name": "stdout",
     "output_type": "stream",
     "text": [
      "/kaggle/working\r\n",
      "total 2388\r\n",
      "-rw-r--r-- 1 root root 2398354 Oct 23 10:56 qid-dataset-sorted-nocomments.txt\r\n",
      "---------- 1 root root   44125 Oct 23 10:56 __notebook__.ipynb\r\n"
     ]
    }
   ],
   "source": [
    "!pwd\n",
    "!ls -lrt"
   ]
  },
  {
   "cell_type": "code",
   "execution_count": 13,
   "metadata": {
    "execution": {
     "iopub.execute_input": "2024-10-23T10:56:17.799330Z",
     "iopub.status.busy": "2024-10-23T10:56:17.793941Z",
     "iopub.status.idle": "2024-10-23T10:56:20.971488Z",
     "shell.execute_reply": "2024-10-23T10:56:20.970829Z",
     "shell.execute_reply.started": "2024-10-23T10:32:45.738631Z"
    },
    "papermill": {
     "duration": 3.221638,
     "end_time": "2024-10-23T10:56:20.971651",
     "exception": false,
     "start_time": "2024-10-23T10:56:17.750013",
     "status": "completed"
    },
    "tags": []
   },
   "outputs": [
    {
     "name": "stdout",
     "output_type": "stream",
     "text": [
      "head: cannot open 'train.txt' for reading: No such file or directory\r\n",
      "wc: train.txt: No such file or directory\r\n",
      "head: cannot open 'test.txt' for reading: No such file or directory\r\n",
      "wc: test.txt: No such file or directory\r\n",
      "head: cannot open 'vali.txt' for reading: No such file or directory\r\n",
      "wc: vali.txt: No such file or directory\r\n"
     ]
    }
   ],
   "source": [
    "# debug - verify data is in expected format\n",
    "!head -1 train.txt; wc -l train.txt\n",
    "!head -1 test.txt; wc -l test.txt\n",
    "!head -1 vali.txt; wc -l vali.txt"
   ]
  },
  {
   "cell_type": "code",
   "execution_count": 14,
   "metadata": {
    "execution": {
     "iopub.execute_input": "2024-10-23T10:56:21.079059Z",
     "iopub.status.busy": "2024-10-23T10:56:21.063536Z",
     "iopub.status.idle": "2024-10-23T10:56:21.111925Z",
     "shell.execute_reply": "2024-10-23T10:56:21.111107Z",
     "shell.execute_reply.started": "2024-10-23T10:32:48.968969Z"
    },
    "papermill": {
     "duration": 0.107362,
     "end_time": "2024-10-23T10:56:21.112058",
     "exception": false,
     "start_time": "2024-10-23T10:56:21.004696",
     "status": "completed"
    },
    "tags": []
   },
   "outputs": [],
   "source": [
    "# prepare files for XGBoost (requires a different formatting than LETOR)\n",
    "def create_xgbfiles():\n",
    " print(\"preparing files in XGBoost format\")\n",
    " ## remove qid from the files.\n",
    " !sed 's/[[:space:]][a-z]*:[0-9]*//g' train.txt > train_dat.txt\n",
    " !sed 's/[[:space:]][a-z]*:[0-9]*//g' vali.txt > vali_dat.txt\n",
    " !sed 's/[[:space:]][a-z]*:[0-9]*//g' test.txt > test_dat.txt\n",
    " !echo \"removed qids\"\n",
    " # extract the qids to their own files\n",
    " !grep -oh \"qid:[0-9]*\" train.txt > qids.txt\n",
    " !grep -oh \"qid:[0-9]*\" test.txt > test_qids.txt\n",
    " !grep -oh \"qid:[0-9]*\" vali.txt > vali_qids.txt\n",
    " !echo \"extracted qids\"\n",
    " ## make freq table from qids\n",
    " !uniq -c qids.txt > train_dat1.txt.group\n",
    " !uniq -c test_qids.txt > test_dat1.txt.group\n",
    " !uniq -c vali_qids.txt > vali_dat1.txt.group\n",
    " !echo \"made frequency tables\"\n",
    " ## extract first entry from frequency table\n",
    " !awk -F \" \" '{print $1}' train_dat1.txt.group > train_dat.txt.group\n",
    " !awk -F \" \" '{print $1}' test_dat1.txt.group > test_dat.txt.group\n",
    " !awk -F \" \" '{print $1}' vali_dat1.txt.group > vali_dat.txt.group\n",
    "\n",
    "# !wc -l *   # debug"
   ]
  },
  {
   "cell_type": "code",
   "execution_count": 15,
   "metadata": {
    "execution": {
     "iopub.execute_input": "2024-10-23T10:56:21.191344Z",
     "iopub.status.busy": "2024-10-23T10:56:21.190120Z",
     "iopub.status.idle": "2024-10-23T10:56:22.256078Z",
     "shell.execute_reply": "2024-10-23T10:56:22.255440Z",
     "shell.execute_reply.started": "2024-10-23T10:32:49.047790Z"
    },
    "papermill": {
     "duration": 1.109902,
     "end_time": "2024-10-23T10:56:22.256208",
     "exception": false,
     "start_time": "2024-10-23T10:56:21.146306",
     "status": "completed"
    },
    "tags": []
   },
   "outputs": [
    {
     "name": "stdout",
     "output_type": "stream",
     "text": [
      "total 2392\r\n",
      "-rw-r--r-- 1 root root 2398354 Oct 23 10:56 qid-dataset-sorted-nocomments.txt\r\n",
      "---------- 1 root root   45349 Oct 23 10:56 __notebook__.ipynb\r\n"
     ]
    }
   ],
   "source": [
    "!ls -lrt"
   ]
  },
  {
   "cell_type": "code",
   "execution_count": 16,
   "metadata": {
    "execution": {
     "iopub.execute_input": "2024-10-23T10:56:22.328259Z",
     "iopub.status.busy": "2024-10-23T10:56:22.327528Z",
     "iopub.status.idle": "2024-10-23T10:56:22.330757Z",
     "shell.execute_reply": "2024-10-23T10:56:22.330172Z",
     "shell.execute_reply.started": "2024-10-23T10:32:50.124881Z"
    },
    "papermill": {
     "duration": 0.041222,
     "end_time": "2024-10-23T10:56:22.330892",
     "exception": false,
     "start_time": "2024-10-23T10:56:22.289670",
     "status": "completed"
    },
    "tags": []
   },
   "outputs": [],
   "source": [
    "#!uniq -c qids.txt   # debug\n",
    "#!wc -l train.txt test.txt vali.txt"
   ]
  },
  {
   "cell_type": "code",
   "execution_count": 17,
   "metadata": {
    "execution": {
     "iopub.execute_input": "2024-10-23T10:56:22.405299Z",
     "iopub.status.busy": "2024-10-23T10:56:22.404515Z",
     "iopub.status.idle": "2024-10-23T10:56:22.408204Z",
     "shell.execute_reply": "2024-10-23T10:56:22.407451Z",
     "shell.execute_reply.started": "2024-10-23T10:32:50.131243Z"
    },
    "papermill": {
     "duration": 0.042678,
     "end_time": "2024-10-23T10:56:22.408414",
     "exception": false,
     "start_time": "2024-10-23T10:56:22.365736",
     "status": "completed"
    },
    "tags": []
   },
   "outputs": [],
   "source": [
    "def create_pd ():\n",
    "    training_data_set = pd.read_csv('train_dat.txt', sep = ' ', header = None) \n",
    "    testing_data_set = pd.read_csv('test_dat.txt', sep = ' ', header = None)\n",
    "    training_size = len(training_data_set)\n",
    "    print('TRAINING SIZE:', training_size) \n",
    "    testing_size = len(testing_data_set)\n",
    "    print('TESTING SIZE:', testing_size) \n",
    "    \n"
   ]
  },
  {
   "cell_type": "code",
   "execution_count": 18,
   "metadata": {
    "execution": {
     "iopub.execute_input": "2024-10-23T10:56:22.479970Z",
     "iopub.status.busy": "2024-10-23T10:56:22.478883Z",
     "iopub.status.idle": "2024-10-23T10:56:22.481727Z",
     "shell.execute_reply": "2024-10-23T10:56:22.482435Z",
     "shell.execute_reply.started": "2024-10-23T10:32:50.143344Z"
    },
    "papermill": {
     "duration": 0.040827,
     "end_time": "2024-10-23T10:56:22.482600",
     "exception": false,
     "start_time": "2024-10-23T10:56:22.441773",
     "status": "completed"
    },
    "tags": []
   },
   "outputs": [],
   "source": [
    "#df = df.sample(frac=0.50)"
   ]
  },
  {
   "cell_type": "markdown",
   "metadata": {
    "papermill": {
     "duration": 0.03184,
     "end_time": "2024-10-23T10:56:22.546748",
     "exception": false,
     "start_time": "2024-10-23T10:56:22.514908",
     "status": "completed"
    },
    "tags": []
   },
   "source": [
    "## Building a Model"
   ]
  },
  {
   "cell_type": "markdown",
   "metadata": {
    "papermill": {
     "duration": 0.032132,
     "end_time": "2024-10-23T10:56:22.611241",
     "exception": false,
     "start_time": "2024-10-23T10:56:22.579109",
     "status": "completed"
    },
    "tags": []
   },
   "source": [
    "We now set the model parameters:\n",
    "\n",
    "'max_depth' = number of layers in the tree\n",
    "'eta' = step shrinkage size, used to prevent overfitting\n",
    "'silent' = if 1, doesn't print updates. \n",
    "'objective' = which method is used/which objective function is minimised. 'rank:pairwise' implements LambdaMART.\n",
    "'num_round' = number of boosting rounds. "
   ]
  },
  {
   "cell_type": "markdown",
   "metadata": {
    "papermill": {
     "duration": 0.032387,
     "end_time": "2024-10-23T10:56:22.678925",
     "exception": false,
     "start_time": "2024-10-23T10:56:22.646538",
     "status": "completed"
    },
    "tags": []
   },
   "source": [
    "* rank:pairwise: Use LambdaMART to perform pairwise ranking where the pairwise loss is minimized \n",
    "* rank:ndcg: Use LambdaMART to perform list-wise ranking where Normalized Discounted Cumulative Gain (NDCG) is maximized"
   ]
  },
  {
   "cell_type": "markdown",
   "metadata": {
    "papermill": {
     "duration": 0.034484,
     "end_time": "2024-10-23T10:56:22.749670",
     "exception": false,
     "start_time": "2024-10-23T10:56:22.715186",
     "status": "completed"
    },
    "tags": []
   },
   "source": [
    "## Visualising the model\n",
    "\n",
    "The model takes the form of a decision tree, where splits at nodes are conditional on the inputted features in the feature vector for each query.  "
   ]
  },
  {
   "cell_type": "code",
   "execution_count": 19,
   "metadata": {
    "execution": {
     "iopub.execute_input": "2024-10-23T10:56:22.828683Z",
     "iopub.status.busy": "2024-10-23T10:56:22.827731Z",
     "iopub.status.idle": "2024-10-23T10:56:22.831307Z",
     "shell.execute_reply": "2024-10-23T10:56:22.830729Z",
     "shell.execute_reply.started": "2024-10-23T10:32:50.156223Z"
    },
    "papermill": {
     "duration": 0.047731,
     "end_time": "2024-10-23T10:56:22.831451",
     "exception": false,
     "start_time": "2024-10-23T10:56:22.783720",
     "status": "completed"
    },
    "tags": []
   },
   "outputs": [],
   "source": [
    "def visualise_model ():\n",
    "    print(\"Visualizing the Model with matplotlib\")\n",
    "    %matplotlib inline\n",
    "    xgb.plot_tree(model, num_trees=3)\n",
    "    fig = matplotlib.pyplot.gcf()\n",
    "    fig.set_size_inches(150, 100)\n",
    "    ax = xgb.plot_importance(model, color='red')\n",
    "    fig = ax.figure\n",
    "    fig.set_size_inches(20, 20)"
   ]
  },
  {
   "cell_type": "markdown",
   "metadata": {
    "papermill": {
     "duration": 0.032518,
     "end_time": "2024-10-23T10:56:22.897383",
     "exception": false,
     "start_time": "2024-10-23T10:56:22.864865",
     "status": "completed"
    },
    "tags": []
   },
   "source": [
    "It is possible to look a the importance of each of the 6 features within the model. In the feature plot below we see that the most 'important' feature in determining the output of the model for a given input is feature 1 (BM25)\n",
    "\n",
    "\n",
    "* feature 1: BM25  (like tf-idf, but with a probablistic twist)\n",
    "* feature 2: documentRecency (last modification date)\n",
    "* feature 3: isContact  (url contains the word 'contact')\n",
    "* feature 4: isAbout    (url contains keyword 'about')\n",
    "* feature 5: rawHits    (a measure of document popularity)\n",
    "* feature 6: urlLength  (number of terms in url path hierarchy)\n",
    "* feature 7: linkRank  (Like Google's PageRank, but for ES)\n",
    "* feature 8: clickThru  (CTR rate taken over a six-month period)\n",
    "\n"
   ]
  },
  {
   "cell_type": "markdown",
   "metadata": {
    "papermill": {
     "duration": 0.040998,
     "end_time": "2024-10-23T10:56:22.974159",
     "exception": false,
     "start_time": "2024-10-23T10:56:22.933161",
     "status": "completed"
    },
    "tags": []
   },
   "source": [
    "## Making predictions"
   ]
  },
  {
   "cell_type": "markdown",
   "metadata": {
    "papermill": {
     "duration": 0.033268,
     "end_time": "2024-10-23T10:56:23.051894",
     "exception": false,
     "start_time": "2024-10-23T10:56:23.018626",
     "status": "completed"
    },
    "tags": []
   },
   "source": [
    "'preds' contains predicted relelvance values for all of the queries in the testing data set. We want to compute the normalised discounted cumulative gain, or ndgc, of the results, in order to quantify the goodness of the model. This will allow us to compare models and tuning parameters. \n",
    "\n",
    "Predictions are made by passing a feature vector from the testing data set through the decision tree, ending at a leaf which gives a numerical value. The numerical value represents the relavance of that document for that query. "
   ]
  },
  {
   "cell_type": "markdown",
   "metadata": {
    "papermill": {
     "duration": 0.032165,
     "end_time": "2024-10-23T10:56:23.117493",
     "exception": false,
     "start_time": "2024-10-23T10:56:23.085328",
     "status": "completed"
    },
    "tags": []
   },
   "source": [
    "#  Normal Distributed Cumulative Gain \n",
    "ndcg is a metric commonly used to rate the output of learning to rank models.\n",
    "ndcg is a measure of the relative goodness of the output of the ranking algorithm, and takes value between 0 and 1, with a 1 denoting that the algorithm has optimally ordered the pages for a query, and a 0 denoting that the pages have been reverse ordered. "
   ]
  },
  {
   "cell_type": "code",
   "execution_count": 20,
   "metadata": {
    "execution": {
     "iopub.execute_input": "2024-10-23T10:56:23.194994Z",
     "iopub.status.busy": "2024-10-23T10:56:23.193149Z",
     "iopub.status.idle": "2024-10-23T10:56:23.198416Z",
     "shell.execute_reply": "2024-10-23T10:56:23.197599Z",
     "shell.execute_reply.started": "2024-10-23T10:32:50.168448Z"
    },
    "papermill": {
     "duration": 0.047097,
     "end_time": "2024-10-23T10:56:23.198567",
     "exception": false,
     "start_time": "2024-10-23T10:56:23.151470",
     "status": "completed"
    },
    "tags": []
   },
   "outputs": [],
   "source": [
    "\"\"\" this returns 0 if all of the ordered data is undesirable\"\"\"\n",
    "def ndcg_p(ordered_data, p):\n",
    "    \"\"\"normalised discounted cumulative gain\"\"\"\n",
    "    if sum(ordered_data)==0:\n",
    "        return 0\n",
    "    else:\n",
    "        indexloop = range(0, p)\n",
    "        DCG_p = 0\n",
    "        for index in indexloop:\n",
    "            current_ratio=(2**(ordered_data[index])-1)*(math.log((float(index)+2), 2)**(-1))\n",
    "            DCG_p = DCG_p + current_ratio\n",
    "        ordered_data.sort(reverse=True)  \n",
    "        K = len(ordered_data)\n",
    "        indexloop = range(0, K)\n",
    "        iDCG_p = 0\n",
    "        for index in indexloop:\n",
    "            current_ratio=(2**(ordered_data[index])-1)*((math.log((index+2), 2))**(-1))\n",
    "            iDCG_p = iDCG_p + current_ratio\n",
    "        return(DCG_p/iDCG_p)"
   ]
  },
  {
   "cell_type": "code",
   "execution_count": 21,
   "metadata": {
    "execution": {
     "iopub.execute_input": "2024-10-23T10:56:23.273036Z",
     "iopub.status.busy": "2024-10-23T10:56:23.272248Z",
     "iopub.status.idle": "2024-10-23T10:56:23.275481Z",
     "shell.execute_reply": "2024-10-23T10:56:23.274773Z",
     "shell.execute_reply.started": "2024-10-23T10:32:50.182697Z"
    },
    "papermill": {
     "duration": 0.042687,
     "end_time": "2024-10-23T10:56:23.275618",
     "exception": false,
     "start_time": "2024-10-23T10:56:23.232931",
     "status": "completed"
    },
    "tags": []
   },
   "outputs": [],
   "source": [
    "#!cat train_dat.txt.group | wc -l  # debug, should be 20 queries"
   ]
  },
  {
   "cell_type": "code",
   "execution_count": 22,
   "metadata": {
    "execution": {
     "iopub.execute_input": "2024-10-23T10:56:23.353267Z",
     "iopub.status.busy": "2024-10-23T10:56:23.352075Z",
     "iopub.status.idle": "2024-10-23T10:56:23.355568Z",
     "shell.execute_reply": "2024-10-23T10:56:23.354818Z",
     "shell.execute_reply.started": "2024-10-23T10:32:50.197644Z"
    },
    "papermill": {
     "duration": 0.047344,
     "end_time": "2024-10-23T10:56:23.355705",
     "exception": false,
     "start_time": "2024-10-23T10:56:23.308361",
     "status": "completed"
    },
    "tags": []
   },
   "outputs": [],
   "source": [
    "\n",
    "def ndcg_compute (length):\n",
    "    f = open('vali_dat.txt.group', 'r')\n",
    "    x = f.readlines()\n",
    "    groups =[]\n",
    "    for line in x:\n",
    "        groups.append(int(line))\n",
    "    f.close()\n",
    "    testing_labels = testing_data.get_label()\n",
    " \n",
    "    ## compute ndgc for each query.\n",
    "    nquerys=range(0,len(groups))\n",
    "    lower=0\n",
    "    upper=0\n",
    "    ndcgs=[]\n",
    "    for i in nquerys:\n",
    "        many=groups[i]\n",
    "        upper = upper+many\n",
    "        predicted = preds[lower:upper]\n",
    "        labled = testing_labels[lower:upper]\n",
    "        ordered = [x for _,x in sorted(zip(predicted,labled), reverse=True)]\n",
    "        result = ndcg_p(ordered, many)\n",
    "        ndcgs.append(result)\n",
    "        lower=upper\n",
    "    #ndcgs # debug\n",
    "    #print (ndcgs)"
   ]
  },
  {
   "cell_type": "code",
   "execution_count": 23,
   "metadata": {
    "execution": {
     "iopub.execute_input": "2024-10-23T10:56:23.427539Z",
     "iopub.status.busy": "2024-10-23T10:56:23.426678Z",
     "iopub.status.idle": "2024-10-23T10:56:23.430022Z",
     "shell.execute_reply": "2024-10-23T10:56:23.429432Z",
     "shell.execute_reply.started": "2024-10-23T10:32:50.211619Z"
    },
    "papermill": {
     "duration": 0.040295,
     "end_time": "2024-10-23T10:56:23.430167",
     "exception": false,
     "start_time": "2024-10-23T10:56:23.389872",
     "status": "completed"
    },
    "tags": []
   },
   "outputs": [],
   "source": [
    "#!cat vali_dat.txt.group"
   ]
  },
  {
   "cell_type": "code",
   "execution_count": 24,
   "metadata": {
    "execution": {
     "iopub.execute_input": "2024-10-23T10:56:23.500526Z",
     "iopub.status.busy": "2024-10-23T10:56:23.499429Z",
     "iopub.status.idle": "2024-10-23T10:56:23.502416Z",
     "shell.execute_reply": "2024-10-23T10:56:23.501717Z",
     "shell.execute_reply.started": "2024-10-23T10:32:50.226762Z"
    },
    "papermill": {
     "duration": 0.039758,
     "end_time": "2024-10-23T10:56:23.502546",
     "exception": false,
     "start_time": "2024-10-23T10:56:23.462788",
     "status": "completed"
    },
    "tags": []
   },
   "outputs": [],
   "source": [
    "#ndcg_compute (y)"
   ]
  },
  {
   "cell_type": "code",
   "execution_count": 25,
   "metadata": {
    "execution": {
     "iopub.execute_input": "2024-10-23T10:56:23.579721Z",
     "iopub.status.busy": "2024-10-23T10:56:23.578687Z",
     "iopub.status.idle": "2024-10-23T10:56:23.582548Z",
     "shell.execute_reply": "2024-10-23T10:56:23.581802Z",
     "shell.execute_reply.started": "2024-10-23T10:32:50.234629Z"
    },
    "papermill": {
     "duration": 0.045867,
     "end_time": "2024-10-23T10:56:23.582702",
     "exception": false,
     "start_time": "2024-10-23T10:56:23.536835",
     "status": "completed"
    },
    "tags": []
   },
   "outputs": [],
   "source": [
    "# evaluate using the nDCG metric\n",
    "def dcg_at_k(r, k, method=0):\n",
    "    r = np.asfarray(r)[:k]\n",
    "    if r.size:\n",
    "        if method == 0:\n",
    "            return r[0] + np.sum(r[1:] / np.log2(np.arange(2, r.size + 1)))\n",
    "        elif method == 1:\n",
    "            return np.sum(r / np.log2(np.arange(2, r.size + 2)))\n",
    "        else:\n",
    "            raise ValueError('method must be 0 or 1.')\n",
    "    return 0.\n",
    "\n",
    "def ndcg_at_k(r, k, method=0):\n",
    "    dcg_max = dcg_at_k(sorted(r, reverse=True), k, method)\n",
    "    if not dcg_max:\n",
    "        return 0.\n",
    "    return dcg_at_k(r, k, method) / dcg_max"
   ]
  },
  {
   "cell_type": "markdown",
   "metadata": {
    "papermill": {
     "duration": 0.032379,
     "end_time": "2024-10-23T10:56:23.648345",
     "exception": false,
     "start_time": "2024-10-23T10:56:23.615966",
     "status": "completed"
    },
    "tags": []
   },
   "source": [
    "# **nDCG Scores**"
   ]
  },
  {
   "cell_type": "code",
   "execution_count": 26,
   "metadata": {
    "execution": {
     "iopub.execute_input": "2024-10-23T10:56:23.721423Z",
     "iopub.status.busy": "2024-10-23T10:56:23.720261Z",
     "iopub.status.idle": "2024-10-23T10:56:23.723805Z",
     "shell.execute_reply": "2024-10-23T10:56:23.722872Z",
     "shell.execute_reply.started": "2024-10-23T10:32:50.248558Z"
    },
    "papermill": {
     "duration": 0.041124,
     "end_time": "2024-10-23T10:56:23.723982",
     "exception": false,
     "start_time": "2024-10-23T10:56:23.682858",
     "status": "completed"
    },
    "tags": []
   },
   "outputs": [],
   "source": [
    "#def ndcg_list(length):\n",
    "#    print(\"Generating the ndcg scores for \" +str(length))                  \n"
   ]
  },
  {
   "cell_type": "markdown",
   "metadata": {
    "papermill": {
     "duration": 0.032214,
     "end_time": "2024-10-23T10:56:23.789235",
     "exception": false,
     "start_time": "2024-10-23T10:56:23.757021",
     "status": "completed"
    },
    "tags": []
   },
   "source": [
    "# ****nDCG Plot****"
   ]
  },
  {
   "cell_type": "code",
   "execution_count": 27,
   "metadata": {
    "execution": {
     "iopub.execute_input": "2024-10-23T10:56:23.868005Z",
     "iopub.status.busy": "2024-10-23T10:56:23.866892Z",
     "iopub.status.idle": "2024-10-23T10:56:23.870092Z",
     "shell.execute_reply": "2024-10-23T10:56:23.869416Z",
     "shell.execute_reply.started": "2024-10-23T10:32:50.262753Z"
    },
    "papermill": {
     "duration": 0.04633,
     "end_time": "2024-10-23T10:56:23.870220",
     "exception": false,
     "start_time": "2024-10-23T10:56:23.823890",
     "status": "completed"
    },
    "tags": []
   },
   "outputs": [],
   "source": [
    "def ndcg_plot():\n",
    " import seaborn as sns\n",
    " import matplotlib.pyplot as plt\n",
    " sns.set(rc = {'figure.figsize':(15,8)})\n",
    " \n",
    " all_ndcg = pd.read_csv('ndcg.txt', sep = ' ')\n",
    "\n",
    " #calculate average y-value\n",
    " #average = np.nanmean(all_ndcg.nDCG) \n",
    "\n",
    "\n",
    " ax = sns.lineplot(y='nDCG', x='length', \n",
    "                   #estimator=np.median, \n",
    "                   #ci=None, \n",
    "                   #marker='o',\n",
    "                   color='green',\n",
    "                   data=all_ndcg) \n",
    "                   #palette=[\"C0\", \"grey\", \"k\", \"blue\"], \n",
    "                   #hue='cutoff')\n",
    "\n",
    "\n",
    "    \n",
    "    \n",
    " ax.set_xlabel(\"Training P-C pairs\")\n",
    " ax.set_ylabel(\"MAP %\")\n",
    " ax.set_title(\"MAP score for various training ES QAC dataset sizes.\",fontsize=14, weight='bold') \n",
    "\n",
    "\n",
    "\n",
    "\n",
    "    \n",
    " #sns.set(style=\"whitegrid\", color_codes=True)\n",
    "\n",
    " hatches = [\".\", \"\\\\\\\\\", \"|\"]\n",
    " # Loop over the bars\n",
    " for bars, hatch in zip(ax.containers, hatches):\n",
    "    # Set a different hatch for each group of bars\n",
    "    for bar in bars:\n",
    "        bar.set_hatch(hatch)\n",
    " # create the legend again to show the new hatching\n",
    " #ax.legend(title='nDCG@cutoff, where')\n",
    " ax.figure.savefig(\"/kaggle/working/Fig-QAC-Learning-Curve.png\")\n",
    "\n",
    " plt.show()\n",
    "\n"
   ]
  },
  {
   "cell_type": "code",
   "execution_count": 28,
   "metadata": {
    "execution": {
     "iopub.execute_input": "2024-10-23T10:56:23.940830Z",
     "iopub.status.busy": "2024-10-23T10:56:23.939921Z",
     "iopub.status.idle": "2024-10-23T10:56:23.942973Z",
     "shell.execute_reply": "2024-10-23T10:56:23.942261Z",
     "shell.execute_reply.started": "2024-10-23T10:32:50.275570Z"
    },
    "papermill": {
     "duration": 0.040026,
     "end_time": "2024-10-23T10:56:23.943098",
     "exception": false,
     "start_time": "2024-10-23T10:56:23.903072",
     "status": "completed"
    },
    "tags": []
   },
   "outputs": [],
   "source": [
    "#ndcg_plot()"
   ]
  },
  {
   "cell_type": "code",
   "execution_count": 29,
   "metadata": {
    "execution": {
     "iopub.execute_input": "2024-10-23T10:56:24.015578Z",
     "iopub.status.busy": "2024-10-23T10:56:24.014423Z",
     "iopub.status.idle": "2024-10-23T10:56:24.017457Z",
     "shell.execute_reply": "2024-10-23T10:56:24.016737Z",
     "shell.execute_reply.started": "2024-10-23T10:32:50.285492Z"
    },
    "papermill": {
     "duration": 0.040796,
     "end_time": "2024-10-23T10:56:24.017628",
     "exception": false,
     "start_time": "2024-10-23T10:56:23.976832",
     "status": "completed"
    },
    "tags": []
   },
   "outputs": [],
   "source": [
    "#!head -3 ENTRP-SRCH-out.txt\n",
    "#!grep \"2:0.17024133\"  ENTRP-SRCH-out.txt\n"
   ]
  },
  {
   "cell_type": "code",
   "execution_count": 30,
   "metadata": {
    "execution": {
     "iopub.execute_input": "2024-10-23T10:56:24.094798Z",
     "iopub.status.busy": "2024-10-23T10:56:24.089233Z",
     "iopub.status.idle": "2024-10-23T10:56:25.149807Z",
     "shell.execute_reply": "2024-10-23T10:56:25.148989Z",
     "shell.execute_reply.started": "2024-10-23T10:32:50.295993Z"
    },
    "papermill": {
     "duration": 1.098889,
     "end_time": "2024-10-23T10:56:25.149954",
     "exception": false,
     "start_time": "2024-10-23T10:56:24.051065",
     "status": "completed"
    },
    "tags": []
   },
   "outputs": [
    {
     "name": "stdout",
     "output_type": "stream",
     "text": [
      "2 qid:1730 1:2 2:0 3:0 4:0 5:0 6:0 \r\n",
      "2 qid:1835 1:2 2:0 3:0 4:0 5:0 6:0 \r\n",
      "1 qid:4167 1:2 2:0 3:0 4:0 5:8 6:0 \r\n"
     ]
    }
   ],
   "source": [
    "!head -3 /kaggle/working/qid-dataset-sorted-nocomments.txt\n",
    "#!grep \"2:0.31919777\" /kaggle/input/entrp-srch/ENTRP-SRCH-v14.txt\n"
   ]
  },
  {
   "cell_type": "code",
   "execution_count": 31,
   "metadata": {
    "execution": {
     "iopub.execute_input": "2024-10-23T10:56:25.230795Z",
     "iopub.status.busy": "2024-10-23T10:56:25.224975Z",
     "iopub.status.idle": "2024-10-23T10:56:26.282679Z",
     "shell.execute_reply": "2024-10-23T10:56:26.281965Z",
     "shell.execute_reply.started": "2024-10-23T10:32:51.360224Z"
    },
    "papermill": {
     "duration": 1.097383,
     "end_time": "2024-10-23T10:56:26.282824",
     "exception": false,
     "start_time": "2024-10-23T10:56:25.185441",
     "status": "completed"
    },
    "tags": []
   },
   "outputs": [
    {
     "name": "stdout",
     "output_type": "stream",
     "text": [
      "2398354 /kaggle/working/qid-dataset-sorted-nocomments.txt\r\n"
     ]
    }
   ],
   "source": [
    "!wc -c /kaggle/working/qid-dataset-sorted-nocomments.txt"
   ]
  },
  {
   "cell_type": "markdown",
   "metadata": {
    "papermill": {
     "duration": 0.032793,
     "end_time": "2024-10-23T10:56:26.349703",
     "exception": false,
     "start_time": "2024-10-23T10:56:26.316910",
     "status": "completed"
    },
    "tags": []
   },
   "source": [
    "## **MAIN**"
   ]
  },
  {
   "cell_type": "code",
   "execution_count": 32,
   "metadata": {
    "execution": {
     "iopub.execute_input": "2024-10-23T10:56:26.437516Z",
     "iopub.status.busy": "2024-10-23T10:56:26.436660Z",
     "iopub.status.idle": "2024-10-23T11:00:50.773103Z",
     "shell.execute_reply": "2024-10-23T11:00:50.772043Z",
     "shell.execute_reply.started": "2024-10-23T10:32:52.431948Z"
    },
    "papermill": {
     "duration": 264.390618,
     "end_time": "2024-10-23T11:00:50.773336",
     "exception": false,
     "start_time": "2024-10-23T10:56:26.382718",
     "status": "completed"
    },
    "tags": []
   },
   "outputs": [
    {
     "name": "stdout",
     "output_type": "stream",
     "text": [
      "Step is: 10 % of lines\n",
      "Y is  1.0\n",
      "LENGTH: 65423\n",
      "creating train.txt, test.txt and vali.txt files\n",
      "converting 1-5 scores to 0's and 1's for MAP\n",
      "Training Size lines: 58936\n",
      "Test Size lines: 6487\n",
      "Validation Size lines: 31140\n",
      "preparing files in XGBoost format\n",
      "removed qids\r\n",
      "extracted qids\r\n",
      "made frequency tables\r\n",
      "TRAINING SIZE: 58936\n",
      "TESTING SIZE: 6487\n",
      "Commencing XGB DMatrix creation\n",
      "[10:56:53] 58936x7 matrix with 353616 entries loaded from train_dat.txt\n",
      "[10:56:53] 58815 groups are loaded from train_dat.txt.group\n",
      "[10:56:53] 6487x7 matrix with 38922 entries loaded from test_dat.txt\n",
      "[10:56:53] 6474 groups are loaded from test_dat.txt.group\n",
      "Building the XGB Model\n",
      "[10:56:53] WARNING: /workspace/src/learner.cc:480: \n",
      "Parameters: { num_round } might not be used.\n",
      "\n",
      "  This may not be accurate due to some parameters are only used in language bindings but\n",
      "  passed down to XGBoost core.  Or some parameters are not used but slip through this\n",
      "  verification. Please open an issue if you find above cases.\n",
      "\n",
      "\n",
      "Y is  0.900990099009901\n",
      "LENGTH: 58945\n",
      "creating train.txt, test.txt and vali.txt files\n",
      "converting 1-5 scores to 0's and 1's for MAP\n",
      "Training Size lines: 52988\n",
      "Test Size lines: 5957\n",
      "Validation Size lines: 27967\n",
      "preparing files in XGBoost format\n",
      "removed qids\r\n",
      "extracted qids\r\n",
      "made frequency tables\r\n",
      "TRAINING SIZE: 52988\n",
      "TESTING SIZE: 5957\n",
      "Commencing XGB DMatrix creation\n",
      "[10:57:20] 52988x7 matrix with 317928 entries loaded from train_dat.txt\n",
      "[10:57:20] 52874 groups are loaded from train_dat.txt.group\n",
      "[10:57:20] 5957x7 matrix with 35742 entries loaded from test_dat.txt\n",
      "[10:57:20] 5946 groups are loaded from test_dat.txt.group\n",
      "Building the XGB Model\n",
      "[10:57:20] WARNING: /workspace/src/learner.cc:480: \n",
      "Parameters: { num_round } might not be used.\n",
      "\n",
      "  This may not be accurate due to some parameters are only used in language bindings but\n",
      "  passed down to XGBoost core.  Or some parameters are not used but slip through this\n",
      "  verification. Please open an issue if you find above cases.\n",
      "\n",
      "\n",
      "Y is  0.801980198019802\n",
      "LENGTH: 52468\n",
      "creating train.txt, test.txt and vali.txt files\n",
      "converting 1-5 scores to 0's and 1's for MAP\n",
      "Training Size lines: 47338\n",
      "Test Size lines: 5130\n",
      "Validation Size lines: 24885\n",
      "preparing files in XGBoost format\n",
      "removed qids\r\n",
      "extracted qids\r\n",
      "made frequency tables\r\n",
      "TRAINING SIZE: 47338\n",
      "TESTING SIZE: 5130\n",
      "Commencing XGB DMatrix creation\n",
      "[10:57:46] 47338x7 matrix with 284028 entries loaded from train_dat.txt\n",
      "[10:57:46] 47234 groups are loaded from train_dat.txt.group\n",
      "[10:57:46] 5130x7 matrix with 30780 entries loaded from test_dat.txt\n",
      "[10:57:46] 5119 groups are loaded from test_dat.txt.group\n",
      "Building the XGB Model\n",
      "[10:57:46] WARNING: /workspace/src/learner.cc:480: \n",
      "Parameters: { num_round } might not be used.\n",
      "\n",
      "  This may not be accurate due to some parameters are only used in language bindings but\n",
      "  passed down to XGBoost core.  Or some parameters are not used but slip through this\n",
      "  verification. Please open an issue if you find above cases.\n",
      "\n",
      "\n",
      "Y is  0.7029702970297029\n",
      "LENGTH: 45990\n",
      "creating train.txt, test.txt and vali.txt files\n",
      "converting 1-5 scores to 0's and 1's for MAP\n",
      "Training Size lines: 41458\n",
      "Test Size lines: 4532\n",
      "Validation Size lines: 21921\n",
      "preparing files in XGBoost format\n",
      "removed qids\r\n",
      "extracted qids\r\n",
      "made frequency tables\r\n",
      "TRAINING SIZE: 41458\n",
      "TESTING SIZE: 4532\n",
      "Commencing XGB DMatrix creation\n",
      "[10:58:13] 41458x7 matrix with 248748 entries loaded from train_dat.txt\n",
      "[10:58:13] 41365 groups are loaded from train_dat.txt.group\n",
      "[10:58:13] 4532x7 matrix with 27192 entries loaded from test_dat.txt\n",
      "[10:58:13] 4518 groups are loaded from test_dat.txt.group\n",
      "Building the XGB Model\n",
      "[10:58:13] WARNING: /workspace/src/learner.cc:480: \n",
      "Parameters: { num_round } might not be used.\n",
      "\n",
      "  This may not be accurate due to some parameters are only used in language bindings but\n",
      "  passed down to XGBoost core.  Or some parameters are not used but slip through this\n",
      "  verification. Please open an issue if you find above cases.\n",
      "\n",
      "\n",
      "Y is  0.6039603960396039\n",
      "LENGTH: 39513\n",
      "creating train.txt, test.txt and vali.txt files\n",
      "converting 1-5 scores to 0's and 1's for MAP\n",
      "Training Size lines: 35622\n",
      "Test Size lines: 3891\n",
      "Validation Size lines: 18769\n",
      "preparing files in XGBoost format\n",
      "removed qids\r\n",
      "extracted qids\r\n",
      "made frequency tables\r\n",
      "TRAINING SIZE: 35622\n",
      "TESTING SIZE: 3891\n",
      "Commencing XGB DMatrix creation\n",
      "[10:58:40] 35622x7 matrix with 213732 entries loaded from train_dat.txt\n",
      "[10:58:40] 35537 groups are loaded from train_dat.txt.group\n",
      "[10:58:40] 3891x7 matrix with 23346 entries loaded from test_dat.txt\n",
      "[10:58:40] 3877 groups are loaded from test_dat.txt.group\n",
      "Building the XGB Model\n",
      "[10:58:40] WARNING: /workspace/src/learner.cc:480: \n",
      "Parameters: { num_round } might not be used.\n",
      "\n",
      "  This may not be accurate due to some parameters are only used in language bindings but\n",
      "  passed down to XGBoost core.  Or some parameters are not used but slip through this\n",
      "  verification. Please open an issue if you find above cases.\n",
      "\n",
      "\n",
      "Y is  0.504950495049505\n",
      "LENGTH: 33035\n",
      "creating train.txt, test.txt and vali.txt files\n",
      "converting 1-5 scores to 0's and 1's for MAP\n",
      "Training Size lines: 29742\n",
      "Test Size lines: 3293\n",
      "Validation Size lines: 15635\n",
      "preparing files in XGBoost format\n",
      "removed qids\r\n",
      "extracted qids\r\n",
      "made frequency tables\r\n",
      "TRAINING SIZE: 29742\n",
      "TESTING SIZE: 3293\n",
      "Commencing XGB DMatrix creation\n",
      "[10:59:06] 29742x7 matrix with 178452 entries loaded from train_dat.txt\n",
      "[10:59:06] 29666 groups are loaded from train_dat.txt.group\n",
      "[10:59:06] 3293x7 matrix with 19758 entries loaded from test_dat.txt\n",
      "[10:59:06] 3286 groups are loaded from test_dat.txt.group\n",
      "Building the XGB Model\n",
      "[10:59:06] WARNING: /workspace/src/learner.cc:480: \n",
      "Parameters: { num_round } might not be used.\n",
      "\n",
      "  This may not be accurate due to some parameters are only used in language bindings but\n",
      "  passed down to XGBoost core.  Or some parameters are not used but slip through this\n",
      "  verification. Please open an issue if you find above cases.\n",
      "\n",
      "\n",
      "Y is  0.40594059405940597\n",
      "LENGTH: 26558\n",
      "creating train.txt, test.txt and vali.txt files\n",
      "converting 1-5 scores to 0's and 1's for MAP\n",
      "Training Size lines: 23917\n",
      "Test Size lines: 2641\n",
      "Validation Size lines: 12720\n",
      "preparing files in XGBoost format\n",
      "removed qids\r\n",
      "extracted qids\r\n",
      "made frequency tables\r\n",
      "TRAINING SIZE: 23917\n",
      "TESTING SIZE: 2641\n",
      "Commencing XGB DMatrix creation\n",
      "[10:59:32] 23917x7 matrix with 143502 entries loaded from train_dat.txt\n",
      "[10:59:32] 23854 groups are loaded from train_dat.txt.group\n",
      "[10:59:32] 2641x7 matrix with 15846 entries loaded from test_dat.txt\n",
      "[10:59:32] 2633 groups are loaded from test_dat.txt.group\n",
      "Building the XGB Model\n",
      "[10:59:32] WARNING: /workspace/src/learner.cc:480: \n",
      "Parameters: { num_round } might not be used.\n",
      "\n",
      "  This may not be accurate due to some parameters are only used in language bindings but\n",
      "  passed down to XGBoost core.  Or some parameters are not used but slip through this\n",
      "  verification. Please open an issue if you find above cases.\n",
      "\n",
      "\n",
      "Y is  0.306930693069307\n",
      "LENGTH: 20080\n",
      "creating train.txt, test.txt and vali.txt files\n",
      "converting 1-5 scores to 0's and 1's for MAP\n",
      "Training Size lines: 18066\n",
      "Test Size lines: 2014\n",
      "Validation Size lines: 9502\n",
      "preparing files in XGBoost format\n",
      "removed qids\r\n",
      "extracted qids\r\n",
      "made frequency tables\r\n",
      "TRAINING SIZE: 18066\n",
      "TESTING SIZE: 2014\n",
      "Commencing XGB DMatrix creation\n",
      "[10:59:58] 18066x7 matrix with 108396 entries loaded from train_dat.txt\n",
      "[10:59:58] 18031 groups are loaded from train_dat.txt.group\n",
      "[10:59:58] 2014x7 matrix with 12084 entries loaded from test_dat.txt\n",
      "[10:59:58] 2007 groups are loaded from test_dat.txt.group\n",
      "Building the XGB Model\n",
      "[10:59:58] WARNING: /workspace/src/learner.cc:480: \n",
      "Parameters: { num_round } might not be used.\n",
      "\n",
      "  This may not be accurate due to some parameters are only used in language bindings but\n",
      "  passed down to XGBoost core.  Or some parameters are not used but slip through this\n",
      "  verification. Please open an issue if you find above cases.\n",
      "\n",
      "\n",
      "Y is  0.20792079207920788\n",
      "LENGTH: 13603\n",
      "creating train.txt, test.txt and vali.txt files\n",
      "converting 1-5 scores to 0's and 1's for MAP\n",
      "Training Size lines: 12239\n",
      "Test Size lines: 1364\n",
      "Validation Size lines: 6444\n",
      "preparing files in XGBoost format\n",
      "removed qids\r\n",
      "extracted qids\r\n",
      "made frequency tables\r\n",
      "TRAINING SIZE: 12239\n",
      "TESTING SIZE: 1364\n",
      "Commencing XGB DMatrix creation\n",
      "[11:00:24] 12239x7 matrix with 73434 entries loaded from train_dat.txt\n",
      "[11:00:24] 12202 groups are loaded from train_dat.txt.group\n",
      "[11:00:24] 1364x7 matrix with 8184 entries loaded from test_dat.txt\n",
      "[11:00:24] 1361 groups are loaded from test_dat.txt.group\n",
      "Building the XGB Model\n",
      "[11:00:24] WARNING: /workspace/src/learner.cc:480: \n",
      "Parameters: { num_round } might not be used.\n",
      "\n",
      "  This may not be accurate due to some parameters are only used in language bindings but\n",
      "  passed down to XGBoost core.  Or some parameters are not used but slip through this\n",
      "  verification. Please open an issue if you find above cases.\n",
      "\n",
      "\n",
      "Y is  0.1089108910891089\n",
      "LENGTH: 7125\n",
      "creating train.txt, test.txt and vali.txt files\n",
      "converting 1-5 scores to 0's and 1's for MAP\n",
      "Training Size lines: 6501\n",
      "Test Size lines: 624\n",
      "Validation Size lines: 3452\n",
      "preparing files in XGBoost format\n",
      "removed qids\r\n",
      "extracted qids\r\n",
      "made frequency tables\r\n",
      "TRAINING SIZE: 6501\n",
      "TESTING SIZE: 624\n",
      "Commencing XGB DMatrix creation\n",
      "[11:00:50] 6501x7 matrix with 39006 entries loaded from train_dat.txt\n",
      "[11:00:50] 6492 groups are loaded from train_dat.txt.group\n",
      "[11:00:50] 624x7 matrix with 3744 entries loaded from test_dat.txt\n",
      "[11:00:50] 623 groups are loaded from test_dat.txt.group\n",
      "Building the XGB Model\n",
      "[11:00:50] WARNING: /workspace/src/learner.cc:480: \n",
      "Parameters: { num_round } might not be used.\n",
      "\n",
      "  This may not be accurate due to some parameters are only used in language bindings but\n",
      "  passed down to XGBoost core.  Or some parameters are not used but slip through this\n",
      "  verification. Please open an issue if you find above cases.\n",
      "\n",
      "\n"
     ]
    }
   ],
   "source": [
    "\n",
    "df_ndcg = pd.DataFrame(columns=['length','nDCG','cutoff'])\n",
    "\n",
    "\n",
    "#step = 1 #30min\n",
    "step = 10\n",
    "\n",
    "print (\"Step is:\",step, \"% of lines\")\n",
    "\n",
    "for i in range(0, 99, step):\n",
    "    y= 1 - (i / 101.0)\n",
    "    print (\"Y is \",y)\n",
    "    cleanup ()\n",
    "    data = df.sample(frac=y)\n",
    "    length = len(data.index) \n",
    "    print (\"LENGTH:\",length)\n",
    "    data.to_csv('/kaggle/working/qid-dataset-sorted-nocomments.txt', sep =' ', encoding='utf-8', index=False, header=None)    \n",
    "    create_files()\n",
    "    map_convert()\n",
    "    get_size()\n",
    "    create_xgbfiles ()\n",
    "    create_pd ()\n",
    "    print(\"Commencing XGB DMatrix creation\")\n",
    "    training_data = xgb.DMatrix('train_dat.txt') \n",
    "    testing_data = xgb.DMatrix('test_dat.txt') \n",
    "    print(\"Building the XGB Model\")\n",
    "    #param = {'max_depth':10, 'eta':0.3, 'objective':'rank:pairwise', 'num_round':15}  \n",
    "    param = {'max_depth':10, 'eta':0.3, 'objective':'rank:map', 'num_round':20}   \n",
    "    model = xgb.train(param, training_data)\n",
    "    #visualise_model ()\n",
    "    preds = model.predict(testing_data)\n",
    "    #print (preds)  \n",
    "    cutoffs = [1,3,5,10,20] \n",
    "    for x in cutoffs: \n",
    "      new_row = {'cutoff':x,'length':length,'nDCG':ndcg_at_k(preds,x, method=1)} \n",
    "      df_ndcg = df_ndcg.append(pd.Series(new_row), ignore_index=True) # , index=df_ndcg.columns[:len(new_row)]), ignore_index=True)\n",
    "      df_ndcg.to_csv('ndcg.txt', sep=' ', encoding='utf-8', index=False)\n",
    "\n",
    "\n",
    "#!cat ndcg.txt"
   ]
  },
  {
   "cell_type": "code",
   "execution_count": 33,
   "metadata": {
    "execution": {
     "iopub.execute_input": "2024-10-23T11:00:50.943979Z",
     "iopub.status.busy": "2024-10-23T11:00:50.943099Z",
     "iopub.status.idle": "2024-10-23T11:00:51.861346Z",
     "shell.execute_reply": "2024-10-23T11:00:51.861959Z",
     "shell.execute_reply.started": "2024-10-23T10:37:16.406936Z"
    },
    "papermill": {
     "duration": 1.006026,
     "end_time": "2024-10-23T11:00:51.862119",
     "exception": false,
     "start_time": "2024-10-23T11:00:50.856093",
     "status": "completed"
    },
    "tags": []
   },
   "outputs": [
    {
     "data": {
      "image/png": "[encoded data removed]",
      "text/plain": [
       "<Figure size 1080x576 with 1 Axes>"
      ]
     },
     "metadata": {},
     "output_type": "display_data"
    }
   ],
   "source": [
    "ndcg_plot()"
   ]
  }
 ],
 "metadata": {
  "kaggle": {
   "accelerator": "none",
   "dataSources": [
    {
     "datasetId": 4362639,
     "sourceId": 9666571,
     "sourceType": "datasetVersion"
    }
   ],
   "dockerImageVersionId": 29944,
   "isGpuEnabled": false,
   "isInternetEnabled": true,
   "language": "python",
   "sourceType": "notebook"
  },
  "kernelspec": {
   "display_name": "Python 3",
   "language": "python",
   "name": "python3"
  },
  "language_info": {
   "codemirror_mode": {
    "name": "ipython",
    "version": 3
   },
   "file_extension": ".py",
   "mimetype": "text/x-python",
   "name": "python",
   "nbconvert_exporter": "python",
   "pygments_lexer": "ipython3",
   "version": "3.7.6"
  },
  "papermill": {
   "duration": 286.323472,
   "end_time": "2024-10-23T11:00:52.034012",
   "environment_variables": {},
   "exception": null,
   "input_path": "__notebook__.ipynb",
   "output_path": "__notebook__.ipynb",
   "parameters": {},
   "start_time": "2024-10-23T10:56:05.710540",
   "version": "2.1.0"
  }
 },
 "nbformat": 4,
 "nbformat_minor": 4
}
