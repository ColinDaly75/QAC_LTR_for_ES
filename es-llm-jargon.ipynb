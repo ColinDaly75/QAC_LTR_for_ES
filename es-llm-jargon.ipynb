{
 "cells": [
  {
   "cell_type": "code",
   "execution_count": 1,
   "id": "f878a107",
   "metadata": {
    "_cell_guid": "b1076dfc-b9ad-4769-8c92-a6c4dae69d19",
    "_uuid": "8f2839f25d086af736a60e9eeb907d3b93b6e0e5",
    "execution": {
     "iopub.execute_input": "2024-04-06T17:10:58.610147Z",
     "iopub.status.busy": "2024-04-06T17:10:58.609067Z",
     "iopub.status.idle": "2024-04-06T17:10:59.467486Z",
     "shell.execute_reply": "2024-04-06T17:10:59.466299Z"
    },
    "papermill": {
     "duration": 0.867041,
     "end_time": "2024-04-06T17:10:59.470172",
     "exception": false,
     "start_time": "2024-04-06T17:10:58.603131",
     "status": "completed"
    },
    "tags": []
   },
   "outputs": [],
   "source": [
    "import numpy as np \n",
    "import pandas as pd \n",
    "import os"
   ]
  },
  {
   "cell_type": "code",
   "execution_count": 2,
   "id": "5a8e1eee",
   "metadata": {
    "execution": {
     "iopub.execute_input": "2024-04-06T17:10:59.481355Z",
     "iopub.status.busy": "2024-04-06T17:10:59.480832Z",
     "iopub.status.idle": "2024-04-06T17:11:16.987770Z",
     "shell.execute_reply": "2024-04-06T17:11:16.986590Z"
    },
    "papermill": {
     "duration": 17.514736,
     "end_time": "2024-04-06T17:11:16.990643",
     "exception": false,
     "start_time": "2024-04-06T17:10:59.475907",
     "status": "completed"
    },
    "tags": []
   },
   "outputs": [
    {
     "name": "stdout",
     "output_type": "stream",
     "text": [
      "Collecting openai\r\n",
      "  Downloading openai-1.16.2-py3-none-any.whl.metadata (21 kB)\r\n",
      "Requirement already satisfied: anyio<5,>=3.5.0 in /opt/conda/lib/python3.10/site-packages (from openai) (4.2.0)\r\n",
      "Requirement already satisfied: distro<2,>=1.7.0 in /opt/conda/lib/python3.10/site-packages (from openai) (1.9.0)\r\n",
      "Requirement already satisfied: httpx<1,>=0.23.0 in /opt/conda/lib/python3.10/site-packages (from openai) (0.27.0)\r\n",
      "Requirement already satisfied: pydantic<3,>=1.9.0 in /opt/conda/lib/python3.10/site-packages (from openai) (2.5.3)\r\n",
      "Requirement already satisfied: sniffio in /opt/conda/lib/python3.10/site-packages (from openai) (1.3.0)\r\n",
      "Requirement already satisfied: tqdm>4 in /opt/conda/lib/python3.10/site-packages (from openai) (4.66.1)\r\n",
      "Requirement already satisfied: typing-extensions<5,>=4.7 in /opt/conda/lib/python3.10/site-packages (from openai) (4.9.0)\r\n",
      "Requirement already satisfied: idna>=2.8 in /opt/conda/lib/python3.10/site-packages (from anyio<5,>=3.5.0->openai) (3.6)\r\n",
      "Requirement already satisfied: exceptiongroup>=1.0.2 in /opt/conda/lib/python3.10/site-packages (from anyio<5,>=3.5.0->openai) (1.2.0)\r\n",
      "Requirement already satisfied: certifi in /opt/conda/lib/python3.10/site-packages (from httpx<1,>=0.23.0->openai) (2024.2.2)\r\n",
      "Requirement already satisfied: httpcore==1.* in /opt/conda/lib/python3.10/site-packages (from httpx<1,>=0.23.0->openai) (1.0.4)\r\n",
      "Requirement already satisfied: h11<0.15,>=0.13 in /opt/conda/lib/python3.10/site-packages (from httpcore==1.*->httpx<1,>=0.23.0->openai) (0.14.0)\r\n",
      "Requirement already satisfied: annotated-types>=0.4.0 in /opt/conda/lib/python3.10/site-packages (from pydantic<3,>=1.9.0->openai) (0.6.0)\r\n",
      "Requirement already satisfied: pydantic-core==2.14.6 in /opt/conda/lib/python3.10/site-packages (from pydantic<3,>=1.9.0->openai) (2.14.6)\r\n",
      "Downloading openai-1.16.2-py3-none-any.whl (267 kB)\r\n",
      "\u001b[2K   \u001b[90m━━━━━━━━━━━━━━━━━━━━━━━━━━━━━━━━━━━━━━━━\u001b[0m \u001b[32m267.1/267.1 kB\u001b[0m \u001b[31m6.9 MB/s\u001b[0m eta \u001b[36m0:00:00\u001b[0m\r\n",
      "\u001b[?25hInstalling collected packages: openai\r\n",
      "Successfully installed openai-1.16.2\r\n"
     ]
    }
   ],
   "source": [
    "try:\n",
    "    import openai\n",
    "except:\n",
    "    !pip install openai\n",
    "    import openai\n",
    "    \n",
    "from openai import OpenAI\n"
   ]
  },
  {
   "cell_type": "code",
   "execution_count": 3,
   "id": "0a4d848c",
   "metadata": {
    "execution": {
     "iopub.execute_input": "2024-04-06T17:11:17.002093Z",
     "iopub.status.busy": "2024-04-06T17:11:17.001645Z",
     "iopub.status.idle": "2024-04-06T17:11:17.030509Z",
     "shell.execute_reply": "2024-04-06T17:11:17.029387Z"
    },
    "papermill": {
     "duration": 0.037745,
     "end_time": "2024-04-06T17:11:17.033246",
     "exception": false,
     "start_time": "2024-04-06T17:11:16.995501",
     "status": "completed"
    },
    "tags": []
   },
   "outputs": [],
   "source": [
    "from dotenv import load_dotenv, find_dotenv\n",
    "_ = load_dotenv(\"/kaggle/input/hidden-abc/abc.env\")\n",
    "openai.api_key=os.getenv(\"OPENAI_API_KEY\")\n",
    "\n",
    "#print(openai.api_key)\n"
   ]
  },
  {
   "cell_type": "code",
   "execution_count": 4,
   "id": "72969462",
   "metadata": {
    "execution": {
     "iopub.execute_input": "2024-04-06T17:11:17.044263Z",
     "iopub.status.busy": "2024-04-06T17:11:17.043871Z",
     "iopub.status.idle": "2024-04-06T17:11:26.859066Z",
     "shell.execute_reply": "2024-04-06T17:11:26.857788Z"
    },
    "papermill": {
     "duration": 9.823598,
     "end_time": "2024-04-06T17:11:26.861547",
     "exception": false,
     "start_time": "2024-04-06T17:11:17.037949",
     "status": "completed"
    },
    "tags": []
   },
   "outputs": [
    {
     "name": "stdout",
     "output_type": "stream",
     "text": [
      "geology: earth science, geomorphology, petrology, mineralogy, palaeontology, seismology, stratigraphy, vulcanology, crystallography, petrography\n",
      "ecology: environmental science, biogeography, bionomics, conservation science, ethology, life science, natural environment, ecosystem studies, population biology, eco science\n",
      "academic registry: academic office, registrar's office, student records, university registry, academic affairs office, enrolment office, educational administration, student registry, academic registrar's bureau, faculty registry\n",
      "scss: stylesheet language, css preprocessor, sass, cascading style sheet syntax, design framework, web design language, advanced stylesheet language, dynamic css, css compiler, stylesheet coding\n",
      "id card: identity card, identification card, personal id, id badge, driving license, passport, proof of identity, photo id, identity documentation, voter id\n",
      "erasmus: student exchange program, international study, university exchange, erasmus programme, european education scheme, eu study scheme, study abroad program, academic exchange program, european exchange program, international fellowship\n",
      "core portal: central portal, main portal, hub, intranet, central interface, online platform, gateway, digital doorway, web portal, primary website\n",
      "scholarship: grant, bursary, fellowship, tuition assistance, financial aid, study grant, academic funding, award, stipend, educational fund\n"
     ]
    }
   ],
   "source": [
    "client = OpenAI()\n",
    "MODEL = \"gpt-4\"\n",
    "word=\"geology\",\n",
    "response = client.chat.completions.create(\n",
    "    model=MODEL,\n",
    "    messages=[\n",
    "        #{\"role\": \"system\", \"content\": \"You are a helpful assistant.\"},\n",
    "        {\"role\": \"user\", \"content\": \"create a flat, sorted list the of top 10 synonym words or phrases for each of these words: -\"},\n",
    "        {\"role\": \"user\", \"content\": 'geology, ecology, academic registry,scss,id card,erarmus, core portal,scholarship'},\n",
    "        {\"role\": \"user\", \"content\": 'please list them in lower case letters with a comma separator'},\n",
    "    ],\n",
    "    temperature=1,\n",
    ")\n",
    "\n",
    "print (response.choices[0].message.content)\n"
   ]
  },
  {
   "cell_type": "code",
   "execution_count": 5,
   "id": "af925534",
   "metadata": {
    "execution": {
     "iopub.execute_input": "2024-04-06T17:11:26.872719Z",
     "iopub.status.busy": "2024-04-06T17:11:26.872355Z",
     "iopub.status.idle": "2024-04-06T17:11:26.877857Z",
     "shell.execute_reply": "2024-04-06T17:11:26.876633Z"
    },
    "papermill": {
     "duration": 0.013981,
     "end_time": "2024-04-06T17:11:26.880356",
     "exception": false,
     "start_time": "2024-04-06T17:11:26.866375",
     "status": "completed"
    },
    "tags": []
   },
   "outputs": [
    {
     "name": "stdout",
     "output_type": "stream",
     "text": [
      "Got to here\n"
     ]
    }
   ],
   "source": [
    "print (\"Got to here\")"
   ]
  },
  {
   "cell_type": "code",
   "execution_count": 6,
   "id": "1472692d",
   "metadata": {
    "execution": {
     "iopub.execute_input": "2024-04-06T17:11:26.892098Z",
     "iopub.status.busy": "2024-04-06T17:11:26.891700Z",
     "iopub.status.idle": "2024-04-06T17:11:26.897776Z",
     "shell.execute_reply": "2024-04-06T17:11:26.896480Z"
    },
    "papermill": {
     "duration": 0.014716,
     "end_time": "2024-04-06T17:11:26.900123",
     "exception": false,
     "start_time": "2024-04-06T17:11:26.885407",
     "status": "completed"
    },
    "tags": []
   },
   "outputs": [],
   "source": [
    "def jaccard_similarity(list1, list2):\n",
    "    set1 = set(list1)\n",
    "    set2 = set(list2)\n",
    "    intersection = len(set1.intersection(set2))\n",
    "    union = len(set1.union(set2))\n",
    "    print (set2-set1)   # the words in list2 that do not exist in list1\n",
    "    return intersection / union\n",
    "    #print (set2-set1)"
   ]
  },
  {
   "cell_type": "code",
   "execution_count": 7,
   "id": "6e2faf05",
   "metadata": {
    "execution": {
     "iopub.execute_input": "2024-04-06T17:11:26.911914Z",
     "iopub.status.busy": "2024-04-06T17:11:26.911095Z",
     "iopub.status.idle": "2024-04-06T17:11:26.916532Z",
     "shell.execute_reply": "2024-04-06T17:11:26.915425Z"
    },
    "papermill": {
     "duration": 0.013947,
     "end_time": "2024-04-06T17:11:26.918912",
     "exception": false,
     "start_time": "2024-04-06T17:11:26.904965",
     "status": "completed"
    },
    "tags": []
   },
   "outputs": [],
   "source": [
    "word2vec_list = [\"Office of the registrar\", \"university records office\", \"student registration office\", \"Dean's office\", \"Admissions office\", \"students records office\", \"academic office\", \"enrolment office\", \"academic affairs office\", \"education office\"]\n",
    "llm_list = [\"Office of the registrar\", \"Bizarre\", \"education office\"]\n"
   ]
  },
  {
   "cell_type": "code",
   "execution_count": 8,
   "id": "84ad00f1",
   "metadata": {
    "execution": {
     "iopub.execute_input": "2024-04-06T17:11:26.930182Z",
     "iopub.status.busy": "2024-04-06T17:11:26.929821Z",
     "iopub.status.idle": "2024-04-06T17:11:26.937954Z",
     "shell.execute_reply": "2024-04-06T17:11:26.936845Z"
    },
    "papermill": {
     "duration": 0.017333,
     "end_time": "2024-04-06T17:11:26.941079",
     "exception": false,
     "start_time": "2024-04-06T17:11:26.923746",
     "status": "completed"
    },
    "tags": []
   },
   "outputs": [
    {
     "name": "stdout",
     "output_type": "stream",
     "text": [
      "{'Bizarre'}\n"
     ]
    },
    {
     "data": {
      "text/plain": [
       "0.18181818181818182"
      ]
     },
     "execution_count": 8,
     "metadata": {},
     "output_type": "execute_result"
    }
   ],
   "source": [
    "jaccard_similarity(word2vec_list,llm_list)"
   ]
  }
 ],
 "metadata": {
  "kaggle": {
   "accelerator": "none",
   "dataSources": [
    {
     "datasetId": 4745179,
     "sourceId": 8047127,
     "sourceType": "datasetVersion"
    }
   ],
   "dockerImageVersionId": 30673,
   "isGpuEnabled": false,
   "isInternetEnabled": true,
   "language": "python",
   "sourceType": "notebook"
  },
  "kernelspec": {
   "display_name": "Python 3",
   "language": "python",
   "name": "python3"
  },
  "language_info": {
   "codemirror_mode": {
    "name": "ipython",
    "version": 3
   },
   "file_extension": ".py",
   "mimetype": "text/x-python",
   "name": "python",
   "nbconvert_exporter": "python",
   "pygments_lexer": "ipython3",
   "version": "3.10.13"
  },
  "papermill": {
   "default_parameters": {},
   "duration": 31.933538,
   "end_time": "2024-04-06T17:11:27.566591",
   "environment_variables": {},
   "exception": null,
   "input_path": "__notebook__.ipynb",
   "output_path": "__notebook__.ipynb",
   "parameters": {},
   "start_time": "2024-04-06T17:10:55.633053",
   "version": "2.5.0"
  }
 },
 "nbformat": 4,
 "nbformat_minor": 5
}
